{
 "cells": [
  {
   "cell_type": "markdown",
   "metadata": {},
   "source": [
    "# Sensor Data Fusion\n",
    "Lecturer: Prof. Baum \\\n",
    "Tutor: Kolja Thormann \\\n",
    "Semester: Winter 21/22\n",
    "\n",
    "## Homework 8\n",
    "Assume a robot in 1D-space at position $x$ moving at time $k$ with velocity $v_k$ forward. The prior of $x$ at time $k=0$ is a Gaussian with $\\hat{x}_0=5m$ and $\\sigma_{x,0}^2=2m^2$.\n"
   ]
  },
  {
   "cell_type": "markdown",
   "metadata": {},
   "source": [
    "---\n",
    "The following tasks will have missing sections marked that you should fill out. \n",
    "\n",
    "Missing code parts are marked by\n",
    "```\n",
    "# ... code code code\n",
    "=== YOUR CODE HERE ===\n",
    "\n",
    "=== END OF YOUR CODE ===\n",
    "# ... code code code\n",
    "```\n",
    "If you are asked to implement a function, make sure to check what variable will be returned by the function and to fill it accordingly. Do not change code outside of the indicated sections.\n",
    "\n",
    "Furthermore, some questions require theoretical answers instead of python code.\n",
    "\n",
    "Such questions will have a field marked like this: \n",
    "\n",
    "=== YOUR ANSWER HERE === "
   ]
  },
  {
   "cell_type": "code",
   "execution_count": 1,
   "metadata": {},
   "outputs": [],
   "source": [
    "# import statements\n",
    "import numpy as np\n",
    "import matplotlib.pyplot as plt\n",
    "import math\n",
    "from numpy.linalg import inv"
   ]
  },
  {
   "cell_type": "markdown",
   "metadata": {},
   "source": [
    "---\n",
    "### a)\n",
    "Draw $x_0$ from the prior. The robot moves $x_{k+1}=x_k+T(v_k+e_v)$ with equidistant time steps $T=1s$ and velocity error $e_v\\sim\\mathcal{N}(0\\frac{m}{s},0.5\\big(\\frac{m}{s}\\big)^2)$. Write a function which moves the robot for one time step with constant input $v_k=1\\frac{m}{s}$.\n",
    "\n",
    "Hint:\n",
    "- When using `np.random.normal`, you need to pass the standard deviation as the `scale` parameter. Remember how standard deviation and variance (which is given here) are related, and make sure you use `np.sqrt(...)` as necessary!"
   ]
  },
  {
   "cell_type": "code",
   "execution_count": 2,
   "metadata": {},
   "outputs": [],
   "source": [
    "# def. of variables\n",
    "x_hat = 5\n",
    "x_sigma2 = 2\n",
    "v_hat = 1\n",
    "ev_sigma2 = 0.5\n",
    "\n",
    "N = 5\n",
    "T = 1"
   ]
  },
  {
   "cell_type": "code",
   "execution_count": 3,
   "metadata": {},
   "outputs": [],
   "source": [
    "# Draw x from the prior\n",
    "\n",
    "# === YOUR CODE HERE ===\n",
    "\n",
    "# x = ...\n",
    "x = np.random.normal(x_hat, np.sqrt(x_sigma2))  # draw from N(x_hat, x_sigma2)\n",
    "\n",
    "# === END OF YOUR CODE "
   ]
  },
  {
   "cell_type": "code",
   "execution_count": 4,
   "metadata": {},
   "outputs": [],
   "source": [
    "def movement(x, T, v, ev_sigma2):\n",
    "    \"\"\"\n",
    "    Function that implements robot movement.\n",
    "    :param x: robot state\n",
    "    :param T: time step length\n",
    "    :param v: mean of robot velocity\n",
    "    :param ev_sigma2: velocity error\n",
    "    :return: x the updated state after robot movement\n",
    "    \"\"\"\n",
    "    \n",
    "    # === YOUR CODE HERE ===\n",
    "    \n",
    "    x = x + T*(v + np.random.normal(0, np.sqrt(ev_sigma2)))\n",
    "    \n",
    "    # === END OF YOUR CODE ===\n",
    "    \n",
    "    return x"
   ]
  },
  {
   "cell_type": "markdown",
   "metadata": {},
   "source": [
    "---\n",
    "### b)\n",
    "In each time step, a sensor measures the robot's position. Implement a measurement equation assuming independent zero-mean Gaussian noise of $e_s\\sim\\mathcal{N}(0m,0.2m^2)$."
   ]
  },
  {
   "cell_type": "code",
   "execution_count": 5,
   "metadata": {},
   "outputs": [],
   "source": [
    "# def of variables\n",
    "es_sigma2 = 0.2"
   ]
  },
  {
   "cell_type": "code",
   "execution_count": 6,
   "metadata": {},
   "outputs": [],
   "source": [
    "def sensor_measurement(x, es_sigma2):\n",
    "    \"\"\"\n",
    "    Function that implements the sensor measuring the robot's position.\n",
    "    :param x: The true position\n",
    "    :param es_sigma2: measurement noise \n",
    "    :return: y the measured robot position\n",
    "    \"\"\"\n",
    "    \n",
    "    # === YOUR CODE HERE ===\n",
    "    \n",
    "    y = x + np.random.normal(0, np.sqrt(es_sigma2))\n",
    "    \n",
    "    # === END OF YOUR CODE ===\n",
    "    \n",
    "    return y"
   ]
  },
  {
   "cell_type": "markdown",
   "metadata": {},
   "source": [
    "---\n",
    "### c)\n",
    "Now, implement the time update formulas from the lecture to get the next predicted state and variance for a single time step."
   ]
  },
  {
   "cell_type": "markdown",
   "metadata": {},
   "source": [
    "Note for the solution:\n",
    "\n",
    "$\n",
    "\\hat{x}_{k,k-1}=\\hat{x}_{k-1,k-1}+T\\hat{v}_k\n",
    "$\\\n",
    "$\n",
    "\\sigma_{x_{k,k-1}}^2=\\sigma_{x_{k-1,k-1}}^2+T^2\\sigma_{e_v}^2\n",
    "$"
   ]
  },
  {
   "cell_type": "code",
   "execution_count": 7,
   "metadata": {},
   "outputs": [],
   "source": [
    "def time_update(x_hat, x_sigma2, T, v_hat, ev_sigma2):\n",
    "    \"\"\"\n",
    "    Function that implements a 1D time update for the robot state.\n",
    "    :param x_hat: state estimate\n",
    "    :param x_sigma2: state variance\n",
    "    :param T: time step length\n",
    "    :param v_hat: robot velocity forward\n",
    "    :param ev_sigma2: velocity error\n",
    "    :return: (x_hat, x_sigma2) the updated state and variance\n",
    "    \"\"\"\n",
    "    # === YOUR CODE HERE ===\n",
    "    \n",
    "    x_hat = x_hat + T*v_hat\n",
    "    x_sigma2 = x_sigma2 + T**2 * ev_sigma2\n",
    "    \n",
    "    # === END OF YOUR CODE ===\n",
    "    return x_hat, x_sigma2"
   ]
  },
  {
   "cell_type": "markdown",
   "metadata": {},
   "source": [
    "---\n",
    "### d)\n",
    "Next, implement the measurement update to get the updated state and variance after a measurement was received."
   ]
  },
  {
   "cell_type": "markdown",
   "metadata": {},
   "source": [
    "Note for the solution:\n",
    "\n",
    "$\n",
    "\\hat{x}_{k,k}=\\hat{x}_{k,k-1}+\\frac{\\sigma_{x_{k,k-1}}^2}{\\sigma_{x_{k,k-1}}^2+\\sigma_{e_s}^2}(y_k-\\hat{x}_{k,k-1})\n",
    "$\\\n",
    "$\n",
    "\\sigma_{x_{k,k}}^2=\\sigma_{x_{k,k-1}}^2-\\frac{\\sigma_{x_{k,k-1}}^4}{\\sigma_{x_{k,k-1}}^2+\\sigma_{e_s}^2}\n",
    "$"
   ]
  },
  {
   "cell_type": "code",
   "execution_count": 8,
   "metadata": {},
   "outputs": [],
   "source": [
    "def measurement_update(x_hat, x_sigma2, y, es_sigma2):\n",
    "    \"\"\"\n",
    "    Function that implements the measurement update for the robot state and variance in 1D\n",
    "    :param x_hat: state estimate\n",
    "    :param x_sigma2: state variance\n",
    "    :param y: sensor measurement of the robot position\n",
    "    :param es_sigma2: measurement noise \n",
    "    :return: (x_hat, x_sigma2) the updated state and variance\n",
    "    \"\"\"\n",
    "    # === YOUR CODE HERE ===\n",
    "    \n",
    "    x_hat = x_hat + x_sigma2/(x_sigma2 + es_sigma2)*(y-x_hat);\n",
    "    x_sigma2 = x_sigma2 - x_sigma2**2/(x_sigma2 + es_sigma2);\n",
    "    \n",
    "    # === END OF YOUR CODE ===\n",
    "    \n",
    "    return x_hat, x_sigma2"
   ]
  },
  {
   "cell_type": "markdown",
   "metadata": {},
   "source": [
    "---\n",
    "### e)\n",
    "Finally, in the following code all functions will be put together to run the simulation and create a visualization for it. \n",
    "\n",
    "All plotting functions are already implemented, along with the necessary variable definitions. However, you still need to fill out certain small blocks of code that are responsible for generating the initial state of x, and the measurement and time update steps."
   ]
  },
  {
   "cell_type": "code",
   "execution_count": 10,
   "metadata": {},
   "outputs": [
    {
     "data": {
      "image/png": "[encoded data removed]",
      "text/plain": [
       "<Figure size 864x576 with 12 Axes>"
      ]
     },
     "metadata": {
      "needs_background": "light"
     },
     "output_type": "display_data"
    }
   ],
   "source": [
    "# make sure all variables are correct:\n",
    "x_hat = 5\n",
    "x_sigma2 = 2\n",
    "v_hat = 1\n",
    "ev_sigma2 = 0.5\n",
    "\n",
    "N = 5\n",
    "T = 1\n",
    "\n",
    "# prepare the plot\n",
    "fig, ax = plt.subplots(nrows=N + 1,\n",
    "                       ncols=2,\n",
    "                       sharex='all',\n",
    "                       sharey='all',\n",
    "                       figsize=(12, 8))\n",
    "fix_y_axis = 1  # since we have a 1D problem, all plots get a fixed y axis\n",
    "for a in np.ravel(ax):\n",
    "    a.set_yticklabels(\n",
    "        []\n",
    "    )  # remove the y tick labels for all plots, since we only care about the x dim\n",
    "ax[0, 0].set_title(\"Time Updates\")\n",
    "ax[0, 1].set_title(\"Measurement Updates\")\n",
    "\n",
    "# =======\n",
    "# Run the functions:\n",
    "\n",
    "# initial state of x\n",
    "# === YOUR CODE HERE ===\n",
    "\n",
    "# x = ...\n",
    "x = np.random.normal(x_hat, np.sqrt(x_sigma2))  # draw from N(x_hat, x_sigma2)\n",
    "\n",
    "# === END OF YOUR CODE\n",
    "\n",
    "# plot true location\n",
    "p1 = ax[0, 0].scatter(x, fix_y_axis, marker='o', c=\"k\")\n",
    "ax[0, 1].scatter(x, fix_y_axis, marker='o', c=\"k\")\n",
    "\n",
    "# measurement update\n",
    "# === YOUR CODE HERE ===\n",
    "\n",
    "# y = ...\n",
    "y = sensor_measurement(x, es_sigma2)\n",
    "\n",
    "# x_hat, x_sigma2 = ...\n",
    "x_hat, x_sigma2 = measurement_update(x_hat, x_sigma2, y, es_sigma2)\n",
    "\n",
    "# === END OF YOUR CODE\n",
    "\n",
    "# plot\n",
    "ax[0, 1].scatter(x_hat, fix_y_axis, marker='x', c='g')  # plot x_hat\n",
    "ax[0, 1].scatter(y, fix_y_axis, marker='o', c='b',\n",
    "                 alpha=0.5)  # plot measurement\n",
    "x_line = np.arange(x_hat - np.sqrt(x_sigma2), x_hat + np.sqrt(x_sigma2),\n",
    "                   0.05)  # x_sigma \"line\"\n",
    "ax[0, 1].plot(x_line, np.repeat(fix_y_axis, len(x_line)),\n",
    "              c='g')  # plot x_sigma\n",
    "\n",
    "for i in range(N):\n",
    "    # time update\n",
    "    # === YOUR CODE HERE ===\n",
    "\n",
    "    # x = ...\n",
    "    x = movement(x, T, v_hat, ev_sigma2)\n",
    "\n",
    "    # x_hat, x_sigma2 = ...\n",
    "    x_hat, x_sigma2 = time_update(x_hat, x_sigma2, T, v_hat, ev_sigma2)\n",
    "\n",
    "    # === END OF YOUR CODE ===\n",
    "\n",
    "    # plot\n",
    "    p2 = ax[i + 1, 0].scatter(x_hat, fix_y_axis, marker='x',\n",
    "                              c='r')  # plot x_hat\n",
    "    ax[i + 1, 1].scatter(x_hat, fix_y_axis, marker='x', c='r')\n",
    "    x_line = np.arange(x_hat - np.sqrt(x_sigma2), x_hat + np.sqrt(x_sigma2),\n",
    "                       0.05)  # x_sigma \"line\"\n",
    "    p3 = ax[i + 1, 0].plot(x_line, np.repeat(fix_y_axis, len(x_line)),\n",
    "                           c='r')  # plot x_sigma\n",
    "\n",
    "    # measurement update\n",
    "    # === YOUR CODE HERE ===\n",
    "\n",
    "    # y = ...\n",
    "    y = sensor_measurement(x, es_sigma2)\n",
    "\n",
    "    # x_hat, x_sigma2 = ...\n",
    "    x_hat, x_sigma2 = measurement_update(x_hat, x_sigma2, y, es_sigma2)\n",
    "\n",
    "    # === END OF YOUR CODE\n",
    "\n",
    "    # plot\n",
    "    p4 = ax[i + 1, 1].scatter(x_hat, fix_y_axis, marker='x',\n",
    "                              c='g')  # plot x_hat\n",
    "    p5 = ax[i + 1, 1].scatter(y, fix_y_axis, marker='o', c='b',\n",
    "                              alpha=0.5)  # plot measurement\n",
    "    x_line = np.arange(x_hat - np.sqrt(x_sigma2), x_hat + np.sqrt(x_sigma2),\n",
    "                       0.05)  # x_sigma \"line\"\n",
    "    p6 = ax[i + 1, 1].plot(x_line, np.repeat(fix_y_axis, len(x_line)),\n",
    "                           c='g')  # plot x_sigma\n",
    "\n",
    "    # add gt\n",
    "    ax[i + 1, 0].plot(x, fix_y_axis, marker='o', c='k')\n",
    "    ax[i + 1, 1].plot(x, fix_y_axis, marker='o', c='k')\n",
    "\n",
    "# finish plot\n",
    "plot_labels = [\n",
    "    \"True Location\", \"sensor measurement\", \"x_hat after time update\",\n",
    "    \"x_sigma2 after time update\", \"x_hat after measurement update\",\n",
    "    \"x_sigma2 after measurement update\"\n",
    "]\n",
    "ax[0, 1].legend(\n",
    "    [p1, p5, p2, p3[0], p4, p6[0]\n",
    "     ],  # p3 and p6 are arrays with 1 entry, so take [0] to prevent errors\n",
    "    plot_labels,\n",
    "    loc=\"upper left\",\n",
    "    borderaxespad=0.1,\n",
    "    title=\"Legend\",\n",
    "    bbox_to_anchor=(1.05, 1))\n",
    "plt.show()"
   ]
  },
  {
   "cell_type": "code",
   "execution_count": null,
   "metadata": {},
   "outputs": [],
   "source": []
  }
 ],
 "metadata": {
  "kernelspec": {
   "display_name": "Python 3 (ipykernel)",
   "language": "python",
   "name": "python3"
  },
  "language_info": {
   "codemirror_mode": {
    "name": "ipython",
    "version": 3
   },
   "file_extension": ".py",
   "mimetype": "text/x-python",
   "name": "python",
   "nbconvert_exporter": "python",
   "pygments_lexer": "ipython3",
   "version": "3.9.7"
  },
  "toc": {
   "base_numbering": 1,
   "nav_menu": {},
   "number_sections": true,
   "sideBar": true,
   "skip_h1_title": false,
   "title_cell": "Table of Contents",
   "title_sidebar": "Contents",
   "toc_cell": false,
   "toc_position": {},
   "toc_section_display": true,
   "toc_window_display": false
  }
 },
 "nbformat": 4,
 "nbformat_minor": 4
}
