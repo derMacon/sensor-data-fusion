{
 "cells": [
  {
   "cell_type": "markdown",
   "metadata": {},
   "source": [
    "# Sensor Data Fusion\n",
    "\n",
    "Lecturer: Prof. Baum \\\n",
    "Tutor: Shishan Yang and Laura Wolf\\\n",
    "Semester: Winter 20/21\n",
    "\n",
    "## Homework 2\n",
    "\n",
    "GPS consists of  24 satellites in  orbit (20200km above mean sea level). \n",
    "\n",
    "Each  satellite broadcasts its location (in spherical coordinates $[\\theta, \\phi, r]^T$) plus the emission time (see figures below).\n",
    "\n",
    "A GPS device receives at time $t=0s$ the following four satellite signals:\n",
    "\n",
    "| $i$ | $p_i$ | $t_i$ |\n",
    "| :--- | :---: | ---: |\n",
    "| 1 | $[  0^{°},  40^{°}, 20200 \\text{km}]^T$ | -67.603 ms |\n",
    "| 2 | $[ 10^{°},  20^{°}, 20200 \\text{km}]^T$ | -70.102 ms |\n",
    "| 3 | $[ 10^{°}, -10^{°}, 20200 \\text{km}]^T$ | -78.690 ms |\n",
    "| 4 | $[ -10^{°}, -20^{°}, 20200 \\text{km}]^T$ | -82.942 ms |\n",
    "\n",
    "Assume that the speed-of-light is $c=3\\cdot10^8\\text{ms}^{-1}$ and the Earth is an ideal sphere with radius $r^{\\text{E}}=6370 \\text{km}$.\n",
    "\n",
    "![Satellite Visuals](https://owncloud.gwdg.de/index.php/s/guLnIkLe4aOcL1E/download)"
   ]
  },
  {
   "cell_type": "markdown",
   "metadata": {},
   "source": [
    "---\n",
    "The following tasks will have missing sections marked that you should fill out. \n",
    "\n",
    "Missing code parts are marked by\n",
    "```\n",
    "# ... code code code\n",
    "=== YOUR CODE HERE ===\n",
    "\n",
    "=== END OF YOUR CODE ===\n",
    "# ... code code code\n",
    "```\n",
    "If you are asked to implement a function, make sure to check what variable will be returned by the function and to fill it accordingly. Do not change code outside of the indicated sections.\n",
    "\n",
    "Furthermore, some questions require theoretical answers instead of python code.\n",
    "\n",
    "Such questions will have a field marked like this: \n",
    "\n",
    "=== YOUR ANSWER HERE === "
   ]
  },
  {
   "cell_type": "code",
   "execution_count": 1,
   "metadata": {},
   "outputs": [],
   "source": [
    "# import statements\n",
    "import numpy as np\n",
    "import matplotlib.pyplot as plt\n",
    "import math"
   ]
  },
  {
   "cell_type": "code",
   "execution_count": 2,
   "metadata": {},
   "outputs": [],
   "source": [
    "# Definition of global variables\n",
    "speed_light = 3 * math.pow(10, 5)  # Speed of light def. - 10^5 because we want km/s\n",
    "R = 6370  # earth radius (assuming earth is a perfect sphere)\n",
    "t = np.array([67.603e-3, 70.102e-3, 78.690e-3, 82.942e-3])  # emission times\n",
    "\n",
    "# location in spherical coordinates\n",
    "p = [\n",
    "    [0, 40, 20200],\n",
    "    [10, 20, 20200],\n",
    "    [10, -10, 20200],\n",
    "    [-10,-20, 20200]\n",
    "    ]\n",
    "p = np.array(p)\n",
    "spher_coor_p = p  # add a second alias..."
   ]
  },
  {
   "cell_type": "markdown",
   "metadata": {},
   "source": [
    "---\n",
    "### a)\n",
    "Write a function which converts sphere coordinates $(\\theta,\\phi,r)$ into Cartesian coordinates $(x,y,z)$\n",
    "\n",
    "Hints: \n",
    "- The $x$ coordinates could be obtained according to $x = (r^\\text{E}+r)\\,cos\\phi\\,cos\\theta$\n",
    "- You could use `math.radians(...)` to convert degrees to radians"
   ]
  },
  {
   "cell_type": "code",
   "execution_count": 3,
   "metadata": {},
   "outputs": [],
   "source": [
    "def sphere_to_cartesian(p_sphere, R):\n",
    "    \"\"\"\n",
    "    Function that converts spherical to cartesian coordinates. \n",
    "    :param p_sphere: 3x1 vector [theta, phi, R] with\n",
    "    theta, longitude in degree\n",
    "    phi, latitude in degree\n",
    "    r, altitude in km\n",
    "    :param R: earth radius in km\n",
    "    :return: p_cartesian, converted cartesian coordinates, as 3x1 vector [x,y,z]\n",
    "    \"\"\"\n",
    "    # make sure everything is numpy\n",
    "    p_sphere = np.array(p_sphere)\n",
    "    \n",
    "    # === YOUR CODE HERE ===\n",
    "    \n",
    "    # unbox p_sphere and convert to radians\n",
    "    theta = math.radians(p_sphere[0])\n",
    "    phi = math.radians(p_sphere[1])\n",
    "    r = p_sphere[2]\n",
    "    \n",
    "    # calculate x,y,z, position\n",
    "    x = (R + r) * math.cos(phi) * math.cos(theta)\n",
    "    y = (R + r) * math.cos(phi) * math.sin(theta)\n",
    "    z = (R + r) * math.sin(phi)\n",
    "    p_cartesian = [x, y, z]\n",
    "    \n",
    "    # === END OF YOUR CODE ===\n",
    "    \n",
    "    return p_cartesian"
   ]
  },
  {
   "cell_type": "markdown",
   "metadata": {},
   "source": [
    "Using the function you implemented, the Cartesian coordinates of these four Satellites will be calculated:"
   ]
  },
  {
   "cell_type": "code",
   "execution_count": 4,
   "metadata": {},
   "outputs": [
    {
     "name": "stdout",
     "output_type": "stream",
     "text": [
      "Resulting cartesian Coordinates of the Satellite Locations:\n",
      "[20353.800853671244, 0.0, 17078.866789371346]\n",
      "[24588.318488043453, 4335.58395969483, 9087.475208163018]\n",
      "[25768.81646714079, 4543.737604081509, -4613.832080610339]\n",
      "[24588.318488043453, -4335.58395969483, -9087.475208163018]\n"
     ]
    }
   ],
   "source": [
    "# calculating the cartesian coordinates based on your function:\n",
    "cart_coor_p = []\n",
    "for location in spher_coor_p:\n",
    "    cart_coor_p.append(sphere_to_cartesian(location, R))\n",
    "    \n",
    "# take a look at the results:\n",
    "print(\"Resulting cartesian Coordinates of the Satellite Locations:\")\n",
    "for location in cart_coor_p:\n",
    "    print(location)"
   ]
  },
  {
   "cell_type": "markdown",
   "metadata": {},
   "source": [
    "---\n",
    "### b)\n",
    "Please calculate the distance between satellites and GPS device."
   ]
  },
  {
   "cell_type": "code",
   "execution_count": 5,
   "metadata": {},
   "outputs": [
    {
     "name": "stdout",
     "output_type": "stream",
     "text": [
      "Distances between satellites and GPS device:\n",
      "20280.899999999998\n",
      "21030.6\n",
      "23607.0\n",
      "24882.600000000002\n"
     ]
    }
   ],
   "source": [
    "d = np.zeros((4,))\n",
    "\n",
    "# Use the following section to fill d with the distances between satellites and the GPS device.\n",
    "# === YOUR CODE HERE ===\n",
    "\n",
    "d = speed_light * t\n",
    "\n",
    "# === END OF YOUR CODE ===\n",
    "\n",
    "assert d.shape == (4,)  # make sure that d still has the correct shape\n",
    "print(\"Distances between satellites and GPS device:\")\n",
    "for distance in d:\n",
    "    print(distance)"
   ]
  },
  {
   "cell_type": "markdown",
   "metadata": {},
   "source": [
    "Using the distance measurements, form the measurement equation like we did in the lecture.\n",
    "\n",
    "=== YOUR ANSWER HERE ===\n",
    "\n",
    "Get the distances between satellites and GPS device,\n",
    "  $$d_1 = c \\cdot |t_1| = 3\\times 10^8 \\times 67.603\\times 10^{-3} = 20281 \\text{km}$$\n",
    "  $$d_2 = c \\cdot |t_2| = 3\\times 10^8 \\times 70.102\\times 10^{-3} = 21031 \\text{km} $$\n",
    "  $$d_3 = c \\cdot |t_3| = 3\\times 10^8 \\times 78.690\\times 10^{-3} = 23607 \\text{km}$$\n",
    "  $$d_4 = c \\cdot |t_4| = 3\\times 10^8 \\times 83.942\\times 10^{-3} = 24883 \\text{km}$$\n",
    "\n",
    "  \n",
    "Measurement equation\n",
    "\n",
    "$$\n",
    "\\newcommand\\myvect[1]{\\begin{bmatrix}#1\\end{bmatrix}}\n",
    "\\myvect{d_1\\\\d_2\\\\d_3\\\\d_4}=\\myvect{||x-P_1||\\\\||x-P_2||\\\\||x-P_3||\\\\||x-P_4||}+\\myvect{e_1\\\\e_2\\\\e_3\\\\e_4}\n",
    "$$\n",
    "\n",
    "\n",
    "is non-linear but it could not be solved with linear least squares directly by reformulation. \n"
   ]
  },
  {
   "cell_type": "markdown",
   "metadata": {},
   "source": [
    "### c)\n",
    "\n",
    "Reformulate the non-linear measurement equation in b) into a linear measurement equation."
   ]
  },
  {
   "cell_type": "markdown",
   "metadata": {},
   "source": [
    "=== YOUR ANSWER HERE ===\n",
    "\n",
    "Squared measurement equation:\n",
    "\n",
    "$\n",
    "\t\td_i^2 = ||x - P_i ||^2+ e^*_i \n",
    "$\n",
    "\n",
    "$\n",
    "        =  (x_{x}-P_{i,x})^2  + (x_y-P_{i,y})^2+(x_z-P_{i,z})^2 + e^*_i \n",
    "$\n",
    "\n",
    "$\n",
    "        = x_{x}^2+x_y^2+x_z^2-2x_x P_{i,x}-2x_y P_{i,y}-2x_zP_{i,z}+P_{i,x}^2+P_{i,y}^2+P_{i,z}^2+ e^*_i \n",
    "$ \n",
    "  \n",
    "where  $e^*_i$ is a new error term subsuming the transformed error $e_i$.\n",
    "Substracting $d_4^2$ using $d_1^2$, we have,\n",
    "\n",
    "$$\n",
    "d_1^2-d_4^2 = ||x||^2-||x||^2-2\\myvect{P_{1,x}-P_{4,x} & P_{1,y}-P_{4,y} & P_{1,z}-P_{4,z}}\\myvect{x_x\\\\x_y\\\\x_z}\\\\+||P_{1}||^2-||P_{4}||^2+e^*_1-e^*_4 \n",
    "$$\n",
    "\n",
    "Moving $||P_{1}||^2-||P_{4}||^2$ to the left side of the equation, we have\n",
    "\n",
    "$$\n",
    "\\underbrace{d_1^2-d_4^2- ||P_{1}||^2+||P_{4}||^2}_{:=y_{1,4}}=\\underbrace{ -2\\myvect{P_{1,x}-P_{4,x}&P_{1,y}-P_{4,y}&P_{1,z}-P_{4,z}}}_{:=\\textbf{H}_{1,4}}\\underbrace{\\myvect{x_x\\\\x_y\\\\x_z}}_{x}\\\\+e^*_1-e^*_4 \n",
    "$$\n",
    "\n",
    "In the similar manner we could have\n",
    "$$\n",
    "\\myvect{y_{1,4}\\\\y_{2,4}\\\\y_{3,4}}=\\myvect{\\textbf{H}_{1,4}\\\\ \\textbf{H}_{2,4}\\\\ \\textbf{H}_{3,4}} x+e\n",
    "$$\n",
    "\n"
   ]
  },
  {
   "cell_type": "markdown",
   "metadata": {},
   "source": [
    "Now, implement your reformulation so that the least squares estimate can be calculated."
   ]
  },
  {
   "cell_type": "code",
   "execution_count": 6,
   "metadata": {},
   "outputs": [],
   "source": [
    "cart_coor_p = np.array(cart_coor_p)\n",
    "\n",
    "# You will now need to create y and H of the measurement equation.\n",
    "#    y should be of shape (3,)\n",
    "#    H should be of shape (3,3)\n",
    "# === YOUR CODE HERE ===\n",
    "# y = ...\n",
    "y = [d[0]**2-d[3]**2-math.sqrt(sum((cart_coor_p[0,:])**2))+math.sqrt(sum((cart_coor_p[3,:])**2)),\n",
    "     d[1]**2-d[3]**2-math.sqrt(sum((cart_coor_p[1,:])**2))+math.sqrt(sum((cart_coor_p[3,:])**2)),\n",
    "     d[2]**2-d[3]**2-math.sqrt(sum((cart_coor_p[2,:])**2))+math.sqrt(sum((cart_coor_p[3,:])**2))]\n",
    "\n",
    "# H = ...\n",
    "H = [[cart_coor_p[3,0]-cart_coor_p[0,0], cart_coor_p[3,1]-cart_coor_p[0,1], cart_coor_p[3,2]-cart_coor_p[0,2]],\n",
    "     [cart_coor_p[3,0]-cart_coor_p[1,0], cart_coor_p[3,1]-cart_coor_p[1,1], cart_coor_p[3,2]-cart_coor_p[1,2]],\n",
    "     [cart_coor_p[3,0]-cart_coor_p[2,0], cart_coor_p[3,1]-cart_coor_p[2,1], cart_coor_p[3,2]-cart_coor_p[2,2]]]\n",
    "H = 2*np.array(H)\n",
    "\n",
    "# === END OF YOUR CODE ===\n",
    "y = np.array(y)\n",
    "H = np.array(H)\n",
    "\n",
    "# ensure everything is in the correct form\n",
    "assert y.shape == (3,)\n",
    "assert H.shape == (3,3)"
   ]
  },
  {
   "cell_type": "markdown",
   "metadata": {},
   "source": [
    "Now, the least squares solution will be calculated using your y and H from above."
   ]
  },
  {
   "cell_type": "code",
   "execution_count": 7,
   "metadata": {},
   "outputs": [
    {
     "name": "stdout",
     "output_type": "stream",
     "text": [
      "Least squares solution:\n",
      "4390.217078398098\n",
      "589.7516558630796\n",
      "4584.055837997441\n"
     ]
    }
   ],
   "source": [
    "x_hat = np.linalg.inv(H.T @ H) @ H.T @ y \n",
    "\n",
    "print(\"Least squares solution:\")\n",
    "for v in x_hat:\n",
    "    print(v)"
   ]
  },
  {
   "cell_type": "markdown",
   "metadata": {},
   "source": [
    "### d)\n",
    "Write a function which converts the cartesian coordinates into sphere coordinates. Use the function you implemented, calculate the longitude and latitude of the GPS device, and find out where it is using using _GPS Visualizer_ :\n",
    "\n",
    "[http://www.gpsvisualizer.com/map?form=google](http://www.gpsvisualizer.com/map?form=google)"
   ]
  },
  {
   "cell_type": "code",
   "execution_count": 8,
   "metadata": {},
   "outputs": [],
   "source": [
    "def cartesian_to_sphere(p_cartesian, R):\n",
    "    \"\"\"\n",
    "    :param p_cartesian: Point represented in cartesian coordinates as 3x1 vector\n",
    "    :param R: Earth Radius in km\n",
    "    :return: p_sphere, point represented in sphere coordinates, \n",
    "            3x1 vector: [theta, phi,r],  with\n",
    "            theta, longitude in degree\n",
    "            phi, latitude in degree\n",
    "            r, altitude in km\n",
    "    \"\"\"\n",
    "    p_cartesian = np.array(p_cartesian)\n",
    "    \n",
    "    # === YOUR CODE HERE ===\n",
    "    \n",
    "    x,y,z = p_cartesian\n",
    "    r = math.sqrt(x**2+y**2+z**2)-R\n",
    "    theta = math.degrees(np.arctan(y/x))\n",
    "    phi = math.degrees(np.arctan(z/(math.sqrt(x**2+y**2))))\n",
    "    p_sphere = [theta, phi, r]\n",
    "    \n",
    "    # === END OF YOUR CODE ===\n",
    "    \n",
    "    return p_sphere"
   ]
  },
  {
   "cell_type": "markdown",
   "metadata": {},
   "source": [
    "Now, your function will be applied to acquire the resulting coordinates:"
   ]
  },
  {
   "cell_type": "code",
   "execution_count": 9,
   "metadata": {},
   "outputs": [
    {
     "name": "stdout",
     "output_type": "stream",
     "text": [
      "Spherical Coordinates of the Least Squares Result:\n",
      "Latitude: 45.98137730357161\n",
      "Longitude: 7.650920209435459\n",
      "r: 4.588687666836449\n"
     ]
    }
   ],
   "source": [
    "p_GPS = cartesian_to_sphere(x_hat, R)\n",
    "\n",
    "print(\"Spherical Coordinates of the Least Squares Result:\")\n",
    "print(\"Latitude:\",p_GPS[1])\n",
    "print(\"Longitude:\", p_GPS[0])\n",
    "print(\"r:\",p_GPS[2])"
   ]
  },
  {
   "cell_type": "markdown",
   "metadata": {},
   "source": [
    "To import this data into gpsvisualizer, copy the output of the following cell and paste it into the \"Paste your data here\" box on the bottom right to see where the location is on earth:"
   ]
  },
  {
   "cell_type": "code",
   "execution_count": 10,
   "metadata": {},
   "outputs": [
    {
     "name": "stdout",
     "output_type": "stream",
     "text": [
      "type,latitude,longitude\n",
      "W,45.981377,7.650920\n"
     ]
    }
   ],
   "source": [
    "# formatting for gpsvisualizer\n",
    "print(\"type,latitude,longitude\")\n",
    "print(\"W,{:f},{:f}\".format(p_GPS[1], p_GPS[0]))"
   ]
  },
  {
   "cell_type": "markdown",
   "metadata": {},
   "source": [
    "Note for the solution:\n",
    "\n",
    "```\n",
    "type,latitude,longitude\n",
    "W,45.981377,7.650920\n",
    "```\n",
    "\n",
    "![Matterhorn Image](https://owncloud.gwdg.de/index.php/s/OXAiujtIxXQvJsA/download)"
   ]
  }
 ],
 "metadata": {
  "kernelspec": {
   "display_name": "Python 3",
   "language": "python",
   "name": "python3"
  },
  "language_info": {
   "codemirror_mode": {
    "name": "ipython",
    "version": 3
   },
   "file_extension": ".py",
   "mimetype": "text/x-python",
   "name": "python",
   "nbconvert_exporter": "python",
   "pygments_lexer": "ipython3",
   "version": "3.6.12"
  },
  "toc": {
   "base_numbering": 1,
   "nav_menu": {},
   "number_sections": true,
   "sideBar": true,
   "skip_h1_title": false,
   "title_cell": "Table of Contents",
   "title_sidebar": "Contents",
   "toc_cell": false,
   "toc_position": {},
   "toc_section_display": true,
   "toc_window_display": false
  }
 },
 "nbformat": 4,
 "nbformat_minor": 4
}
