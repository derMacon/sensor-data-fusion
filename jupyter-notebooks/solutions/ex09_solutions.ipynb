{
 "cells": [
  {
   "cell_type": "markdown",
   "metadata": {},
   "source": [
    "# Sensor Data Fusion\n",
    "Lecturer: Prof. Baum \\\n",
    "Tutor: Kolja Thormann \\\n",
    "Semester: Winter 21/22\n",
    "## Homework 9\n",
    "\n",
    "Assume a robot in 2D-space at position $\\begin{bmatrix}x_1 & x_2\\end{bmatrix}^T$ moving with velocity $v_1$ in $x_1$ direction and $v_2$ in $x_2$ direction. Its state is defined as $\\textbf{x}=\\begin{bmatrix}x_1 & x_2 & v_1 & v_2\\end{bmatrix}^T$."
   ]
  },
  {
   "cell_type": "markdown",
   "metadata": {},
   "source": [
    "---\n",
    "The following tasks will have missing sections marked that you should fill out. \n",
    "\n",
    "Missing code parts are marked by\n",
    "```\n",
    "# ... code code code\n",
    "=== YOUR CODE HERE ===\n",
    "\n",
    "=== END OF YOUR CODE ===\n",
    "# ... code code code\n",
    "```\n",
    "If you are asked to implement a function, make sure to check what variable will be returned by the function and to fill it accordingly. Do not change code outside of the indicated sections.\n",
    "\n",
    "Furthermore, some questions require theoretical answers instead of python code.\n",
    "\n",
    "Such questions will have a field marked like this: \n",
    "\n",
    "=== YOUR ANSWER HERE === "
   ]
  },
  {
   "cell_type": "code",
   "execution_count": 1,
   "metadata": {},
   "outputs": [],
   "source": [
    "# import statements\n",
    "import numpy as np\n",
    "import matplotlib.pyplot as plt\n",
    "import math\n",
    "from numpy.linalg import inv"
   ]
  },
  {
   "cell_type": "code",
   "execution_count": 2,
   "metadata": {},
   "outputs": [],
   "source": [
    "# variable definitions\n",
    "\n",
    "t = 1  # length of a time step\n",
    "steps = 10  # number of steps to run simulation for\n",
    "x_init = np.array([0, 0, 2, 2])  # inital mean for x\n",
    "\n",
    "# transition noise matrix\n",
    "Q = np.array([  \n",
    "        [0.01, 0, 0, 0],\n",
    "        [0, 0.01, 0, 0],\n",
    "        [0, 0, 0.2, 0],\n",
    "        [0, 0 ,0, 0.2]\n",
    "    ])\n",
    "\n",
    "# measurement noise matrix\n",
    "R = np.array([\n",
    "    [0.2, 0],\n",
    "    [0, 0.2]\n",
    "])\n",
    "\n",
    "# inital covariance for x\n",
    "# x_cov (=C_init) is just np.eye, but incase you want to try different values, change them here:\n",
    "x_cov = np.array([\n",
    "    [1, 0, 0, 0],\n",
    "    [0, 1, 0, 0],\n",
    "    [0, 0, 1, 0],\n",
    "    [0, 0, 0, 1]\n",
    "])"
   ]
  },
  {
   "cell_type": "markdown",
   "metadata": {},
   "source": [
    "---\n",
    "### a)\n",
    "\n",
    "Formulate a motion model for the robot, assuming independent zero-mean Gaussian noise on each state element. Write a function implementing the motion model.\n",
    "\n",
    "In general, the motion model will look like this:\n",
    "\n",
    "$$\n",
    "\\textbf{x}_{k+1}=\\textbf{F}\\textbf{x}_k+\\nu\\text{, with }\\nu\\sim\\mathcal{N}(0, \\textbf{Q})\n",
    "$$\n"
   ]
  },
  {
   "cell_type": "markdown",
   "metadata": {},
   "source": [
    "Note for the solution:\n",
    "    \n",
    "$$\n",
    "\\textbf{x}_{k+1}=\\textbf{F}\\textbf{x}_k+\\nu\\text{, with }\\nu\\sim\\mathcal{N}(0, \\textbf{Q})\\text{ and }\\textbf{F}=\\begin{bmatrix}1 & 0 & t & 0\\\\0 & 1 & 0 & t\\\\0 & 0 & 1 & 0\\\\0 & 0 & 0 & 1\\end{bmatrix}\n",
    "$$"
   ]
  },
  {
   "cell_type": "markdown",
   "metadata": {},
   "source": [
    "You will now need to define the state transition matrix $\\textbf{F}$.\\\n",
    "Keep in mind that it should make use of the variable `t` defined above, which indicates the length of a time step (default: `t = 1`s)"
   ]
  },
  {
   "cell_type": "code",
   "execution_count": 3,
   "metadata": {},
   "outputs": [],
   "source": [
    "# define F\n",
    "\n",
    "# === YOUR CODE HERE ===\n",
    "# F = ...\n",
    "F = np.array([\n",
    "    [1, 0, t, 0],\n",
    "    [0, 1, 0, t],\n",
    "    [0, 0, 1, 0],\n",
    "    [0, 0, 0, 1]\n",
    "])\n",
    "# === END OF YOUR CODE ===\n",
    "\n",
    "F = np.array(F)\n",
    "# make sure F is of the correct shape\n",
    "assert F.shape ==  (4,4)\n",
    "\n",
    "# Q will be defined later"
   ]
  },
  {
   "cell_type": "markdown",
   "metadata": {},
   "source": [
    "Next, you need to implement the motion model. The function will be passed $\\textbf{Q}$ and $\\textbf{F}$.\n",
    "\n",
    "Hint: for multivariate normal distributions, numpy provides `np.random.multivariate_normal`"
   ]
  },
  {
   "cell_type": "code",
   "execution_count": 4,
   "metadata": {},
   "outputs": [
    {
     "name": "stdout",
     "output_type": "stream",
     "text": [
      "[10.94657361 12.15900844  0.92164498  1.79994726]\n"
     ]
    }
   ],
   "source": [
    "def motion_model(x, Q, F):\n",
    "    \"\"\"\n",
    "    Function that implements the motion model.\n",
    "    :param x: current state\n",
    "    :param Q: transition noise matrix\n",
    "    :param F: state transition matrix\n",
    "    :return: x_new, the new state\n",
    "    \"\"\"\n",
    "    x = np.array(x)\n",
    "    Q = np.array(Q)\n",
    "    \n",
    "    # === YOUR CODE HERE ===\n",
    "    \n",
    "    x_new = F @ x + np.random.multivariate_normal(np.zeros(4,), Q)\n",
    "    \n",
    "    # === END OF YOUR CODE ===\n",
    "    \n",
    "    return x_new\n",
    "\n",
    "\n",
    "# Test the function:\n",
    "x_test = [10, 10, 1, 2]  \n",
    "print(motion_model(x_test, Q , F))"
   ]
  },
  {
   "cell_type": "markdown",
   "metadata": {},
   "source": [
    "---\n",
    "### b)\n",
    "In each time step, a sensor measures the robot's position. Formulate a measurement equation assuming independent zero-mean Gaussian noise and implement it as well.\n",
    "\n",
    "In general, the measuremen equation will look like this:\n",
    "$$\n",
    "y=\\textbf{H}\\textbf{x}_k + \\mu\\text{, with }\\mu\\sim\\mathcal{N}(0, \\textbf{R})\n",
    "$$\n"
   ]
  },
  {
   "cell_type": "markdown",
   "metadata": {},
   "source": [
    "Note for the solution:\n",
    "$$\n",
    "y=\\textbf{H}\\textbf{x}_k + \\mu\\text{, with }\\mu\\sim\\mathcal{N}(0, \\textbf{R})\\text{ and }\\textbf{H}=\\begin{bmatrix}1 & 0 & 0 & 0\\\\0 & 1 & 0 & 0\\end{bmatrix}\n",
    "$$"
   ]
  },
  {
   "cell_type": "markdown",
   "metadata": {},
   "source": [
    "You will now need to define the measuremement matrix $\\textbf{H}$."
   ]
  },
  {
   "cell_type": "code",
   "execution_count": 5,
   "metadata": {},
   "outputs": [],
   "source": [
    "# define H\n",
    "\n",
    "# === YOUR CODE HERE ===\n",
    "# H = ...\n",
    "H = np.array([\n",
    "    [1, 0, 0, 0],\n",
    "    [0, 1, 0, 0]\n",
    "])\n",
    "# === END OF YOUR CODE ===\n",
    "\n",
    "H = np.array(H)\n",
    "# make sure F is of the correct shape\n",
    "assert H.shape ==  (2,4)"
   ]
  },
  {
   "cell_type": "code",
   "execution_count": 6,
   "metadata": {},
   "outputs": [
    {
     "name": "stdout",
     "output_type": "stream",
     "text": [
      "[ 9.57375438 10.11376228]\n"
     ]
    }
   ],
   "source": [
    "def measurement_model(x, H, R):\n",
    "    \"\"\"\n",
    "    Function that implements the measurement model.\n",
    "    :param x: current state\n",
    "    :param R: measurement noise matrix\n",
    "    :return: y, the measurement\n",
    "    \"\"\"\n",
    "    R = np.array(R)\n",
    "    H = np.array(H)\n",
    "    \n",
    "    # === YOUR CODE HERE ===\n",
    "    \n",
    "    y = H @ x + np.random.multivariate_normal(np.zeros((R.shape[0],)), R)\n",
    "    \n",
    "    # === END OF YOUR CODE ===\n",
    "    \n",
    "    return y\n",
    "\n",
    "# Test the function:\n",
    "x_test = [10, 10, 1, 2] \n",
    "print(measurement_model(x_test, H, R))"
   ]
  },
  {
   "cell_type": "markdown",
   "metadata": {},
   "source": [
    "---\n",
    "### c)\n",
    "Use the functions from a) and b) to implement a simulation using initial state $\\hat{\\textbf{x}}_{\\text{init}}=\\begin{bmatrix}0\\text{m} & 0\\text{m} & 2\\text{ms}^{-1} & 2 \\text{ms}^{-1}\\end{bmatrix}$, 10 time steps of length 1s, and covariances for the initial state $\\textbf{C}_{\\text{init}}$, the transition noise $\\textbf{Q}$ and the measurement noise $\\textbf{R}$ as\n",
    "$$\n",
    "\\textbf{C}_{\\text{init}}=\\begin{bmatrix}1 & 0 & 0 & 0\\\\0 & 1 & 0 & 0\\\\0 & 0 & 1 & 0\\\\0 & 0 & 0 & 1\\end{bmatrix}, \\textbf{Q}=\\begin{bmatrix}0.01 & 0 & 0 & 0\\\\0 & 0.01 & 0 & 0\\\\0 & 0 & 0.2 & 0\\\\0 & 0 & 0 & 0.2\\end{bmatrix}\\text{, }\\textbf{R}=\\begin{bmatrix}0.2 & 0\\\\0 & 0.2\\end{bmatrix}\\enspace.\n",
    "$$\n",
    "\n",
    "For each run, draw the true state from the prior, i.e. using $\\hat{\\textbf{x}}_{\\text{init}}$ and $\\textbf{C}_{\\text{init}}$!"
   ]
  },
  {
   "cell_type": "code",
   "execution_count": 7,
   "metadata": {},
   "outputs": [],
   "source": [
    "def simulation(x_init, x_init_cov, Q, R, H, F, steps):\n",
    "    \"\"\"\n",
    "    :param x_init: Initial state\n",
    "    :param x_init_cov: Initial state covariance matrix\n",
    "    :param Q: Transition noise matrix\n",
    "    :param R: Measurement noise matrix\n",
    "    :param F: state transition matrix\n",
    "    :param H: measurement matrix\n",
    "    :param steps: Number of steps to run the simulation for\n",
    "    :return: (track, ms) with track being the ground truth track, and ms the measurements produced in the simulation.\n",
    "    \"\"\"\n",
    "    x_dim = len(x_init)\n",
    "    \n",
    "    # === YOUR CODE HERE ===\n",
    "    \n",
    "    track = np.zeros((steps, x_dim))\n",
    "    ms = np.zeros((steps-1, R.shape[0]))\n",
    "    \n",
    "    track[0, :] = np.random.multivariate_normal(x_init, x_init_cov)  # draw initial value from N(x_init, x_init_cov)\n",
    "    \n",
    "    for i in range(1, steps):\n",
    "        track[i, :] = motion_model(track[i-1, :].T, Q, F)\n",
    "        ms[i-1, :] = measurement_model(track[i, :].T, H, R)\n",
    "    \n",
    "    # === END OF YOUR CODE ===\n",
    "    \n",
    "    # track should have \"steps\" many entries of states of correct dimension\n",
    "    assert track.shape == (steps, x_dim)  \n",
    "    \n",
    "    # one less measurement (no measurement for the initial state) and measurements are of dim len(R)\n",
    "    assert ms.shape == (steps-1, R.shape[0])  \n",
    "    \n",
    "    return track, ms\n",
    "\n",
    "# simulate track and measurements based on the values defined above\n",
    "gt, ms = simulation(x_init, x_cov, Q, R, H, F, steps)"
   ]
  },
  {
   "cell_type": "code",
   "execution_count": 8,
   "metadata": {},
   "outputs": [
    {
     "data": {
      "image/png": "[encoded data removed]",
      "text/plain": [
       "<Figure size 720x720 with 1 Axes>"
      ]
     },
     "metadata": {
      "needs_background": "light"
     },
     "output_type": "display_data"
    }
   ],
   "source": [
    "# Visualize the results of the simulation:\n",
    "fig, ax = plt.subplots(figsize=(10, 10))\n",
    "ax.plot(gt[:, 0], gt[:, 1], c=\"b\", label=\"Ground Truth\", markersize=7, marker=\"o\")\n",
    "ax.plot(ms[:, 0], ms[:, 1], c=\"r\", label=\"Measurements\", markersize=7, marker=\"+\")\n",
    "\n",
    "ax.axis(\"equal\")\n",
    "plt.title(\"Track and measurements\")\n",
    "plt.legend(bbox_to_anchor=(1.05, 1), loc='upper left')\n",
    "plt.xlabel(\"$x_1$\")\n",
    "plt.ylabel(\"$x_2$\")\n",
    "plt.show()"
   ]
  },
  {
   "cell_type": "markdown",
   "metadata": {},
   "source": [
    "---\n",
    "### d)\n",
    "Now based on a) and b), implement a predict and an update function for a Kalman filter. Use the Kalman filter to track the robot simulated with your function from c)."
   ]
  },
  {
   "cell_type": "markdown",
   "metadata": {},
   "source": [
    "Note for the solution:\n",
    "    \n",
    "$\n",
    "\\textbf{x}_{k+1|k}=\\textbf{F}\\textbf{x}_{k|k}\n",
    "$\\\n",
    "$\n",
    "\\textbf{C}_{k+1|k}=\\textbf{F}\\textbf{C}_{k|k}\\textbf{F}^T + \\textbf{Q}\n",
    "$\\\n",
    "$\n",
    "\\textbf{x}_{k+1|k+1}=\\textbf{x}_{k+1|k} + \\underbrace{\\textbf{C}_{k+1|k}\\textbf{H}^T(\\overbrace{\\textbf{H}\\textbf{C}_{k+1|k}\\textbf{H}^T + \\textbf{R}}^{\\textbf{S}})^{-1}}_{\\textbf{K}}(y-\\textbf{H}\\textbf{x}_{k+1|k})\n",
    "$\\\n",
    "$\n",
    "\\textbf{C}_{k+1|k+1}=\\textbf{C}_{k+1|k} - \\textbf{K}\\textbf{S}\\textbf{K}^T\n",
    "$"
   ]
  },
  {
   "cell_type": "code",
   "execution_count": 9,
   "metadata": {},
   "outputs": [],
   "source": [
    "def predict(x, x_cov, Q, F):\n",
    "    \"\"\"\n",
    "    Function that implements the predict step of a Kalman Filter.\n",
    "    :param x: Current state\n",
    "    :param x_cov: Current state covariance matrix\n",
    "    :param Q: Transition noise matrix\n",
    "    :param F: state transition matrix\n",
    "    :return: (x_new, x_cov_new) The resulting state and covariance matrix after the predict step\n",
    "    \"\"\"\n",
    "    \n",
    "    # === YOUR CODE HERE ===\n",
    "    \n",
    "    x_new =  F @ x\n",
    "    x_cov_new = F @ x_cov @ F.T + Q\n",
    "    \n",
    "    # === END OF YOUR CODE ===\n",
    "    \n",
    "    return x_new, x_cov_new"
   ]
  },
  {
   "cell_type": "code",
   "execution_count": 10,
   "metadata": {},
   "outputs": [],
   "source": [
    "def update(x, x_cov, m, H, R):\n",
    "    \"\"\"\n",
    "    Function that implements the update step of a Kalman Filter.\n",
    "    :param x: Current state\n",
    "    :param x_cov: Current state covariance matrix\n",
    "    :param m: Measurement\n",
    "    :param H: measurement matrix\n",
    "    :param R: Measurement noise matrix\n",
    "    :return: (x_new, x_cov_new) The resulting state and covariance matrix after the update step\n",
    "    \"\"\"\n",
    "\n",
    "    # === YOUR CODE HERE ===\n",
    "    \n",
    "    nu = m - H @ x\n",
    "    S = H @ x_cov @ H.T + R\n",
    "    K = x_cov @ H.T @ inv(S)\n",
    "    \n",
    "    x_new = x + K @ nu\n",
    "    x_cov_new = x_cov - K @ H @ x_cov\n",
    "    \n",
    "    # === END OF YOUR CODE ===\n",
    "    \n",
    "    return x_new, x_cov_new"
   ]
  },
  {
   "cell_type": "code",
   "execution_count": 11,
   "metadata": {},
   "outputs": [],
   "source": [
    "def kalman_filter(x_init, x_cov, ms, Q, R, H, F):\n",
    "    \"\"\"\n",
    "    Function that runs the predict and update steps of a kalman filter.\n",
    "    :param x_init: Initial state\n",
    "    :param x_cov: Initial state covariance matrix\n",
    "    :param ms: Measurements \n",
    "    :param Q: transition noise matrix\n",
    "    :param R: Measurement noise matrix\n",
    "    :param H: measurement matrix\n",
    "    :param F: state transition matrix\n",
    "    :return: track, the resulting track after applying the kalman filter\n",
    "    \"\"\"\n",
    "    # initial track\n",
    "    track = np.zeros((ms.shape[0]+1,x_init.shape[0]))\n",
    "    track[0, :] = x_init\n",
    "    \n",
    "    for i in range(1, ms.shape[0]+1):\n",
    "        track[i, :], x_cov = predict(track[i-1, :].T, x_cov, Q, F)\n",
    "        track[i, :], x_cov = update(track[i, :].T, x_cov, ms[i-1, :].T, H, R)\n",
    "    \n",
    "    return track"
   ]
  },
  {
   "cell_type": "code",
   "execution_count": 12,
   "metadata": {},
   "outputs": [
    {
     "data": {
      "image/png": "[encoded data removed]",
      "text/plain": [
       "<Figure size 720x720 with 1 Axes>"
      ]
     },
     "metadata": {
      "needs_background": "light"
     },
     "output_type": "display_data"
    }
   ],
   "source": [
    "# now, the kalman filter will be applied to the simulation:\n",
    "track = kalman_filter(x_init, x_cov, ms, Q, R, H, F)\n",
    "\n",
    "# Visualize the results of the simulation and the kalman filter:\n",
    "fig, ax = plt.subplots(figsize=(10, 10))\n",
    "ax.plot(gt[:, 0], gt[:, 1], c=\"b\", label=\"Ground Truth\", markersize=7, marker=\"o\", alpha=0.7)\n",
    "ax.plot(ms[:, 0], ms[:, 1], c=\"r\", label=\"Measurements\", markersize=7, marker=\"x\", alpha=0.7)\n",
    "ax.plot(track[:, 0], track[:, 1], c=\"g\", label=\"Kalman Filter Track\", markersize=7, marker=\"o\", alpha=0.7)\n",
    "\n",
    "ax.axis(\"equal\")\n",
    "plt.title(\"Track and measurements\")\n",
    "plt.legend(bbox_to_anchor=(1.05, 1), loc='upper left')\n",
    "plt.xlabel(\"$x_1$\")\n",
    "plt.ylabel(\"$x_2$\")\n",
    "plt.show()"
   ]
  },
  {
   "cell_type": "markdown",
   "metadata": {},
   "source": [
    "---\n",
    "### e) \n",
    "Write a function which calculates the root mean square error (RMSE) of $n=100$ simulation runs with the error as the Euclidean norm at the last time step."
   ]
  },
  {
   "cell_type": "code",
   "execution_count": 13,
   "metadata": {},
   "outputs": [
    {
     "name": "stdout",
     "output_type": "stream",
     "text": [
      "RMSE over 100 runs: 0.9744\n"
     ]
    }
   ],
   "source": [
    "n = 100\n",
    "\n",
    "def RMSE(n, steps, x_init, x_cov, Q, R, H, F):\n",
    "    \"\"\"\n",
    "    Function that calculates the RMSE of n simulation runs with a fixed number of steps each.\n",
    "    \n",
    "    :param n: number of simulation runs to perform\n",
    "    :param steps: number of steps to run each simulation for\n",
    "    :param x_init: Initial state for x\n",
    "    :param x_cov: Initial covariance of x\n",
    "    :param Q: transition noise matrix\n",
    "    :param R: Measurement noise matrix\n",
    "    :param H: measurement matrix\n",
    "    :param F: state transition matrix\n",
    "    \n",
    "    :return: error, the RMSE over all runs\n",
    "    \"\"\"\n",
    "    \n",
    "    # === YOUR CODE HERE ===\n",
    "    error = 0\n",
    "    \n",
    "    for i in range(n):\n",
    "        gt,ms = simulation(x_init, x_cov, Q, R, H, F, steps)\n",
    "        track = kalman_filter(x_init, x_cov, ms, Q, R, H, F)\n",
    "        error += np.sum((gt[-1, :]-track[-1, :])**2)\n",
    "    \n",
    "    error = np.sqrt(error/n)\n",
    "    return error\n",
    "    # === END OF YOUR CODE ===\n",
    "    \n",
    "error = RMSE(n, steps, x_init, x_cov, Q, R, H, F)\n",
    "print(\"RMSE over {} runs: {:.4f}\".format(n, error))"
   ]
  },
  {
   "cell_type": "markdown",
   "metadata": {},
   "source": [
    "---\n",
    "### f)\n",
    "Finally, assume a worse sensor with noise covariance\n",
    "$$\n",
    "\\textbf{R}_2=\\begin{bmatrix}2.0 & 0\\\\0 & 0.2\\end{bmatrix}\\enspace.\n",
    "$$\n",
    "Calculate the RMSE as in e). To deal with the noise, add a second sensor. Assume the measurements to be independent of each other and update the simulation and Kalman filter accordingly and observe the difference in RMSE. Now, instead of using the same type of sensor, use the sensor with $\\textbf{R}_2$ along a second sensor with noise covariance\n",
    "$$\n",
    "\\textbf{R}_3=\\begin{bmatrix}0.2 & 0\\\\0 & 2.0\\end{bmatrix}\\enspace.\n",
    "$$\n",
    "\n",
    "To this end, two variables need to be (re-)defined: $\\textbf{R}$ and $\\textbf{H}$\\\n",
    "To avoid confusion, the stacked versions of these variables will be called `R_stack` and `H_stack`."
   ]
  },
  {
   "cell_type": "code",
   "execution_count": 14,
   "metadata": {},
   "outputs": [],
   "source": [
    "# Please define R_stack according to the values given in the exercise\n",
    "# === YOUR CODE HERE ===\n",
    "# R_stack = ...\n",
    "R2 = np.array([\n",
    "    [2, 0],\n",
    "    [0, 0.2]\n",
    "])\n",
    "\n",
    "R3 = np.array([\n",
    "    [0.2, 0],\n",
    "    [0, 2]\n",
    "])\n",
    "\n",
    "R_stack = np.zeros((4,4))\n",
    "R_stack[:2, :2] = R2\n",
    "R_stack[2:4, 2:4] = R3\n",
    "\n",
    "# === END OF YOUR CODE ===\n",
    "\n",
    "R_stack = np.array(R_stack)\n",
    "assert R_stack.shape == (4,4)\n",
    "\n",
    "# H_stack is simply the vertically stacked version of H\n",
    "H_stack = np.vstack((H,H))"
   ]
  },
  {
   "cell_type": "code",
   "execution_count": 16,
   "metadata": {},
   "outputs": [
    {
     "name": "stdout",
     "output_type": "stream",
     "text": [
      "RMSE over 100 runs: 1.5058\n"
     ]
    }
   ],
   "source": [
    "n = 100\n",
    "# run the simulation, with the new R_stack consisting of the new sensors R2 and R3\n",
    "error = RMSE(n, steps, x_init, x_cov, Q, R2, H, F)\n",
    "print(\"RMSE over {} runs: {:.4f}\".format(n, error))"
   ]
  },
  {
   "cell_type": "code",
   "execution_count": 17,
   "metadata": {},
   "outputs": [
    {
     "name": "stdout",
     "output_type": "stream",
     "text": [
      "RMSE over 100 runs: 0.9465\n"
     ]
    }
   ],
   "source": [
    "n = 100\n",
    "# run the simulation, with the new R_stack consisting of the new sensors R2 and R3\n",
    "error = RMSE(n, steps, x_init, x_cov, Q, R_stack, H_stack, F)\n",
    "print(\"RMSE over {} runs: {:.4f}\".format(n, error))"
   ]
  },
  {
   "cell_type": "code",
   "execution_count": null,
   "metadata": {},
   "outputs": [],
   "source": []
  }
 ],
 "metadata": {
  "kernelspec": {
   "display_name": "Python 3 (ipykernel)",
   "language": "python",
   "name": "python3"
  },
  "language_info": {
   "codemirror_mode": {
    "name": "ipython",
    "version": 3
   },
   "file_extension": ".py",
   "mimetype": "text/x-python",
   "name": "python",
   "nbconvert_exporter": "python",
   "pygments_lexer": "ipython3",
   "version": "3.9.7"
  }
 },
 "nbformat": 4,
 "nbformat_minor": 4
}
