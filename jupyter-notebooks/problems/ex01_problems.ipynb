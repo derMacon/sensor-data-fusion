{
 "cells": [
  {
   "cell_type": "markdown",
   "metadata": {},
   "source": [
    "# Sensor Data Fusion\n",
    "\n",
    "Lecturer: Prof. Baum \\\n",
    "Tutors: Shishan Yang, Laura Wolf \\\n",
    "Semester: Winter 20/21\n",
    "\n",
    "## Homework 1\n",
    "\n",
    "The objective is to estimate the two-dimensional object location $x = [x_1,x_2]^T \\in \\mathbb{R}^2$ using (noise-corrupted) distance measurements $d^i \\in \\mathbb{R}$ to $N$ walls.\n",
    "\n",
    "The location of the i-th wall is given in normal form\n",
    "\n",
    "$$n^i_1 \\cdot x^w_1 + n^i_2 \\cdot x^w_2 = c^i$$\n",
    "\n",
    "Assume $n^i$ points to the half space where the object is located. Given are four walls with corresponding measurements:\n",
    "\n",
    "| $i$ | $n^i_1$ | $n^i_2$ | $c^i$ | distance $d^i$\n",
    "|:------|------|------|------|------:|\n",
    "| 1 | -5 | -1 | -45 | 4.7 |\n",
    "| 2 | -1 | -8 | -70 | 5.2 |\n",
    "| 3 | -1 | 9 | 5 | 5.5 |\n",
    "| 4 | 8 | -1 | 7 | 4.5|"
   ]
  },
  {
   "cell_type": "markdown",
   "metadata": {},
   "source": [
    "---\n",
    "The following tasks will have missing sections marked that you should fill out. \n",
    "\n",
    "Missing code parts are marked by\n",
    "```\n",
    "# ... code code code\n",
    "=== YOUR CODE HERE ===\n",
    "\n",
    "=== END OF YOUR CODE ===\n",
    "# ... code code code\n",
    "```\n",
    "If you are asked to implement a function, make sure to check what variable will be returned by the function and to fill it accordingly. Do not change code outside of the indicated sections.\n",
    "\n",
    "Furthermore, some questions require theoretical answers instead of python code.\n",
    "\n",
    "Such questions will have a field marked like this: \n",
    "\n",
    "=== YOUR ANSWER HERE === "
   ]
  },
  {
   "cell_type": "code",
   "execution_count": 29,
   "metadata": {
    "ExecuteTime": {
     "start_time": "2023-04-24T22:43:57.373751Z",
     "end_time": "2023-04-24T22:43:57.434066Z"
    }
   },
   "outputs": [],
   "source": [
    "# import statements\n",
    "import numpy as np\n",
    "\n",
    "import matplotlib.pyplot as plt"
   ]
  },
  {
   "cell_type": "code",
   "execution_count": 44,
   "metadata": {
    "ExecuteTime": {
     "start_time": "2023-04-24T22:58:23.454809Z",
     "end_time": "2023-04-24T22:58:23.469404Z"
    }
   },
   "outputs": [],
   "source": [
    "# Definitions of variables \n",
    "\n",
    "# define the boundaries for the walls\n",
    "walls = [(-5, -1, -45),\n",
    "         (-1, -8, -70),\n",
    "         (-1, 9, 5),\n",
    "         (8, -1, 7)]\n",
    "\n",
    "# define the distance measurements to the walls\n",
    "distances = [4.7, 5.2, 5.5, 4.5]\n",
    "\n",
    "# define the colors to be used\n",
    "colors = ['r','b','g','y']\n",
    "\n",
    "# make sure everything is numpy\n",
    "walls = np.array(walls)\n",
    "distances = np.array(distances)"
   ]
  },
  {
   "cell_type": "markdown",
   "metadata": {},
   "source": [
    "---\n",
    "### a) \n",
    "Please write a function which visualizes walls and measurements using different colors."
   ]
  },
  {
   "cell_type": "code",
   "execution_count": 81,
   "metadata": {
    "ExecuteTime": {
     "start_time": "2023-04-24T23:34:55.825178Z",
     "end_time": "2023-04-24T23:34:55.938488Z"
    }
   },
   "outputs": [],
   "source": [
    "def visualize_walls(wall_coef, distances, colors):\n",
    "    \"\"\"\n",
    "    Function that visualizes the walls and the respective measurements given a set of colors.\n",
    "    :param wall_coef: Should be an nx3 matrix of the coefficients of the walls\n",
    "    :param distances: Should be an nx1 vector of the measurements\n",
    "    :param colors: Should be an nx1 vector of the colors to be used as strings\n",
    "    \"\"\"\n",
    "    \n",
    "    # === YOUR CODE HERE ===\n",
    "    sensor_position = (5, 5)\n",
    "    plt.plot(sensor_position[0], sensor_position[1], marker=\"o\", markersize=\"8\")\n",
    "\n",
    "    i = 0\n",
    "\n",
    "    print(\"test\")\n",
    "\n",
    "    for (wall, distance, color)  in zip(walls, distances, colors):\n",
    "        normal_vector = np.array([wall[0], wall[1]])\n",
    "        normal_length = np.linalg.norm(normal_vector)\n",
    "        c = wall[2]\n",
    "\n",
    "        concrete = np.array([[]])\n",
    "        positive_dist = np.array([])\n",
    "        negative_dist = np.array([])\n",
    "\n",
    "        #\n",
    "        # for x_1 in np.arange(0, 10, 0.1):\n",
    "        #     x_2 = (c - normal_vector[0] * x_1) / normal_vector[1]\n",
    "        #     current_point = np.array([x_1, x_2])\n",
    "        #     concrete = np.append(concrete, current_point, axis=0)\n",
    "        #     print(\"concrete: \", concrete)\n",
    "        #\n",
    "        # plot_point_list(concrete, color)\n",
    "\n",
    "\n",
    "def plot_point_list(points, color):\n",
    "    x_values = np.array([])\n",
    "    y_values = np.array([])\n",
    "    for curr_point in points:\n",
    "        np.append(x_values, curr_point[0])\n",
    "        np.append(y_values, curr_point[1])\n",
    "\n",
    "    plt.plot(x_values, y_values, color)\n",
    "\n",
    "\n",
    "\n",
    "    \n",
    "    # === END OF YOUR CODE ===\n",
    "    \n",
    "    plt.xlim((0, 10))\n",
    "    plt.ylim((0, 10))\n",
    "    plt.title(\"Walls and Measurements\")\n",
    "    plt.show()\n",
    "    \n",
    "    \n",
    "visualize_walls(walls, distances, colors)"
   ]
  },
  {
   "cell_type": "markdown",
   "metadata": {},
   "source": [
    "---\n",
    "### b)\n",
    "Formulate a linear measurement equation $y^i = \\mathbf{H}^ix + e^i$, which relates the measurement to the $i$-th wall with $x$ and the error $e^i$. \n",
    "\n",
    "In the same manner, formulate a measurement equation that relates $N$ walls, i.e. the 1-st to $N$-th walls, with $x$ and $e$. Note that the $n^i$ vectors are not normalized."
   ]
  },
  {
   "cell_type": "markdown",
   "metadata": {},
   "source": [
    "===YOUR ANSWER HERE==="
   ]
  },
  {
   "cell_type": "markdown",
   "metadata": {},
   "source": [
    "---\n",
    "### c) \n",
    "Could you calculate the unique location for the first case in 1b), if not, please explain. If a unique location could be obtained, which requirements are needed?"
   ]
  },
  {
   "cell_type": "markdown",
   "metadata": {},
   "source": [
    "===YOUR ANSWER HERE==="
   ]
  },
  {
   "cell_type": "markdown",
   "metadata": {},
   "source": [
    "---\n",
    "### d)\n",
    "Based on the measurement equation formulated in 1b), write a function which calculates the least squares solutions based on the measurements. Using the function you implemented, calculate the least squares solutions $\\hat{x}_{12}$, $\\hat{x}_{34}$ and $\\hat{x}_{1234}$ based on the measurements $(y_1,y_2)$, $(y_3,y_4)$ as well as $(y_1,y_2,y_3,y_4)$."
   ]
  },
  {
   "cell_type": "code",
   "execution_count": null,
   "metadata": {},
   "outputs": [],
   "source": [
    "def localization_ls(wall_coef, d):\n",
    "    \"\"\"\n",
    "    Based on an nx3 matrix of wall coefficients together with an nx1 vector of distance measurements, this function \n",
    "    calculates the least square estimate.\n",
    "    \n",
    "    :param wall_coef: nx3 matrix of wall coefficients\n",
    "    :param d: nx1 matrix of distance measurements\n",
    "    :return: the least squares estimate\n",
    "    \"\"\"\n",
    "    # Ensure that everything is numpy\n",
    "    wall_coef = np.array(wall_coef)\n",
    "    d = np.array(d)\n",
    "    \n",
    "    # === YOUR CODE HERE ===\n",
    "\n",
    "    \n",
    "    # === END OF YOU CODE ===\n",
    "    \n",
    "    return x_ls"
   ]
  },
  {
   "cell_type": "code",
   "execution_count": null,
   "metadata": {},
   "outputs": [],
   "source": [
    "# Now, localization_ls will be used to calculate the measurements based on the first two, the last two, and all 4 walls\n",
    "x_12 = localization_ls(walls[0:2, :], distances[0:2])\n",
    "x_34 = localization_ls(walls[2:4, :], distances[2:4])\n",
    "x_1234 = localization_ls(walls, distances)\n",
    "\n",
    "print(\"Estimate using walls 1+2:\",x_12[0],\"|\",x_12[0])\n",
    "print(\"Estimate using walls 3+4:\",x_34[0],\"|\",x_34[0])\n",
    "print(\"Estimate using all walls:\",x_1234[0],\"|\",x_1234[0])"
   ]
  },
  {
   "cell_type": "markdown",
   "metadata": {},
   "source": [
    "---\n",
    "### e) \n",
    "Given the true location $x$, implement a function which calculates the estimation error $e$ using Euclidean Norm, e.g.\n",
    "\n",
    "$e_{12} = ||\\hat{x}_{12}-x||$ \n",
    "\n",
    "$e_{34} = ||\\hat{x}_{34}-x||$ \n",
    "\n",
    "$e_{1234} = ||\\hat{x}_{1234}-x||$\n",
    "\n",
    "Assuming the true location $x = [5, 5]^T$, calculate $e_{12}$,$e_{34}$ and $e_{1234}$. What can you observe?"
   ]
  },
  {
   "cell_type": "code",
   "execution_count": null,
   "metadata": {},
   "outputs": [],
   "source": [
    "def estimation_error(x, x_esti):\n",
    "    \"\"\"\n",
    "    Given a true location and an estimation for the location, calculates the error of the measurement and returns it.\n",
    "    :param x: True location as 2x1 vector\n",
    "    :param x_esti: Estimated location as 2x1 vector\n",
    "    :return: err, the estimation error as a scalar\n",
    "    \"\"\"\n",
    "    # ensure everything is numpy\n",
    "    x = np.array(x)\n",
    "    x_esti = np.array(x_esti)\n",
    "    \n",
    "    # === YOUR CODE HERE ===\n",
    "    \n",
    "    \n",
    "    # === END OF YOUR CODE ===\n",
    "    \n",
    "    return err"
   ]
  },
  {
   "cell_type": "markdown",
   "metadata": {},
   "source": [
    "Now, the calculated location will be visualized, and the calculated errors will be printed out:"
   ]
  },
  {
   "cell_type": "code",
   "execution_count": null,
   "metadata": {},
   "outputs": [],
   "source": [
    "# Define true location x\n",
    "x = np.array([5,5])\n",
    "\n",
    "# Visualize the calculated locations\n",
    "plt.scatter(x_12[0], x_12[1], c='k', marker=\"o\")\n",
    "plt.scatter(x_34[0], x_34[1], c='k', marker=\"o\")\n",
    "plt.scatter(x_1234[0], x_1234[1], c='k', marker=\"o\")\n",
    "plt.scatter(x[0], x[1], c='purple', marker=\"X\", s=100, alpha=0.5)\n",
    "\n",
    "# Add annotations for easier understanding (shifted so they can be read easier)\n",
    "plt.annotate(\"x_12\", x_12-0.65) \n",
    "plt.annotate(\"x_34\", x_34+0.3)\n",
    "plt.annotate(\"x_1234\", x_1234-0.7)\n",
    "plt.annotate(\"x_true\", x+[0, 0.5], c=\"purple\")\n",
    "\n",
    "# Add the walls, which also shows the plot\n",
    "visualize_walls(walls, distances, colors)\n",
    "\n",
    "# Print errors\n",
    "e_12 = estimation_error(x,x_12)\n",
    "e_34 = estimation_error(x,x_34)\n",
    "e_1234 = estimation_error(x,x_1234)\n",
    "\n",
    "print(\"Error using walls 1+2:\",e_12)\n",
    "print(\"Error using walls 3+4:\",e_34)\n",
    "print(\"Error using all walls:\",e_1234)"
   ]
  },
  {
   "cell_type": "markdown",
   "metadata": {},
   "source": [
    "What can you observe?"
   ]
  },
  {
   "cell_type": "markdown",
   "metadata": {},
   "source": [
    "=== YOUR ANSWER HERE ==="
   ]
  }
 ],
 "metadata": {
  "kernelspec": {
   "display_name": "Python 3",
   "language": "python",
   "name": "python3"
  },
  "language_info": {
   "codemirror_mode": {
    "name": "ipython",
    "version": 3
   },
   "file_extension": ".py",
   "mimetype": "text/x-python",
   "name": "python",
   "nbconvert_exporter": "python",
   "pygments_lexer": "ipython3",
   "version": "3.6.12"
  },
  "toc": {
   "base_numbering": 1,
   "nav_menu": {},
   "number_sections": true,
   "sideBar": true,
   "skip_h1_title": false,
   "title_cell": "Table of Contents",
   "title_sidebar": "Contents",
   "toc_cell": false,
   "toc_position": {},
   "toc_section_display": true,
   "toc_window_display": false
  }
 },
 "nbformat": 4,
 "nbformat_minor": 4
}
