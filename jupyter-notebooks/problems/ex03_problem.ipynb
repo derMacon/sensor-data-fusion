{
 "cells": [
  {
   "cell_type": "markdown",
   "metadata": {},
   "source": [
    "# Sensor Data Fusion\n",
    "\n",
    "Lecturer: Prof. Baum \\\n",
    "Tutor: Shishan Yang and Laura Wolf \\\n",
    "Semester: Winter 20/21\n",
    "\n",
    "## Homework 3\n",
    "\n",
    "Look again at the GPS setting of last homework (sattelites are $20200 \\text{km}$ above mean sea level, each  satellite broadcasts its location in spherical coordinates $[\\theta, \\phi, r]^T$ plus the emission time (see figures below), assume that the speed-of-light is $c=3\\cdot10^8\\text{ms}^{-1}$ and the Earth is an ideal sphere with radius $r^{\\text{E}}=6370 \\text{km}$)\n",
    "\n",
    "This time, the device only receives the first three sattelite signals at time $t=0\\text{s}$:\n",
    "\n",
    "| $i$ | $p_i$ | $t_i$ |\n",
    "| :--- | :---: | ---: |\n",
    "| 1 | $[  0^{°},  40^{°}, 20200 \\text{km}]^T$ | -67.603 ms |\n",
    "| 2 | $[ 10^{°},  20^{°}, 20200 \\text{km}]^T$ | -70.102 ms |\n",
    "| 3 | $[ 10^{°}, -10^{°}, 20200 \\text{km}]^T$ | -78.690 ms |\n",
    "\n",
    "\n",
    "![Satellite Visuals](https://owncloud.gwdg.de/index.php/s/guLnIkLe4aOcL1E/download)"
   ]
  },
  {
   "cell_type": "markdown",
   "metadata": {},
   "source": [
    "---\n",
    "The following tasks will have missing sections marked that you should fill out. \n",
    "\n",
    "Missing code parts are marked by\n",
    "```\n",
    "# ... code code code\n",
    "=== YOUR CODE HERE ===\n",
    "\n",
    "=== END OF YOUR CODE ===\n",
    "# ... code code code\n",
    "```\n",
    "If you are asked to implement a function, make sure to check what variable will be returned by the function and to fill it accordingly. Do not change code outside of the indicated sections.\n",
    "\n",
    "Furthermore, some questions require theoretical answers instead of python code.\n",
    "\n",
    "Such questions will have a field marked like this: \n",
    "\n",
    "=== YOUR ANSWER HERE === "
   ]
  },
  {
   "cell_type": "code",
   "execution_count": 2,
   "metadata": {
    "ExecuteTime": {
     "start_time": "2023-05-09T23:26:07.077939Z",
     "end_time": "2023-05-09T23:26:08.276793Z"
    }
   },
   "outputs": [],
   "source": [
    "# import statements\n",
    "import numpy as np\n",
    "import matplotlib.pyplot as plt\n",
    "import math\n",
    "from numpy.linalg import inv\n",
    "import sympy as sym"
   ]
  },
  {
   "cell_type": "code",
   "execution_count": 3,
   "metadata": {
    "ExecuteTime": {
     "start_time": "2023-05-09T23:26:08.318244Z",
     "end_time": "2023-05-09T23:26:08.343526Z"
    }
   },
   "outputs": [],
   "source": [
    "# Definition of global variables\n",
    "speed_light = 3 * math.pow(10, 5)  # Speed of light def. - 10^5 because we want km/s\n",
    "R = 6370  # earth radius (assuming earth is a perfect sphere)\n",
    "t = np.array([67.603e-3, 70.102e-3, 78.690e-3])  # emission times\n",
    "\n",
    "# location in spherical coordinates\n",
    "p = [\n",
    "    [0, 40, 20200],\n",
    "    [10, 20, 20200],\n",
    "    [10, -10, 20200]\n",
    "    ]\n",
    "p = np.array(p)\n",
    "spher_coor_p = p  # add a second alias...\n",
    "\n",
    "# Ground Truth target location from the last exercise\n",
    "gt = np.array([4390.2170784, 589.75165586, 4584.055838])"
   ]
  },
  {
   "cell_type": "code",
   "execution_count": 4,
   "metadata": {
    "ExecuteTime": {
     "start_time": "2023-05-09T23:26:08.318506Z",
     "end_time": "2023-05-09T23:26:08.343871Z"
    }
   },
   "outputs": [],
   "source": [
    "# You will also be provided with sphere_to_cartesian and cartesian_to_sphere functions\n",
    "def sphere_to_cartesian(p_sphere, R):\n",
    "    \"\"\"\n",
    "    Function that converts spherical to cartesian coordinates. \n",
    "    :param p_sphere: 3x1 vector [theta, phi, R] with\n",
    "    theta, longitude in degree\n",
    "    phi, latitude in degree\n",
    "    r, altitude in km\n",
    "    :param R: earth radius in km\n",
    "    :return: p_cartesian, converted cartesian coordinates, as 3x1 vector [x,y,z]\n",
    "    \"\"\"\n",
    "    # make sure everything is numpy\n",
    "    p_sphere = np.array(p_sphere)\n",
    "    \n",
    "    # unbox p_sphere and convert to radians\n",
    "    theta = math.radians(p_sphere[0])\n",
    "    phi = math.radians(p_sphere[1])\n",
    "    r = p_sphere[2]\n",
    "    \n",
    "    # calculate x,y,z, position\n",
    "    x = (R + r) * math.cos(phi) * math.cos(theta);\n",
    "    y = (R + r) * math.cos(phi) * math.sin(theta);\n",
    "    z = (R + r) * math.sin(phi); \n",
    "    p_cartesian = [x, y, z]\n",
    "    \n",
    "    return p_cartesian\n",
    "\n",
    "def cartesian_to_sphere(p_cartesian, R):\n",
    "    \"\"\"\n",
    "    :param p_cartesian: Point represented in cartesian coordinates as 3x1 vector\n",
    "    :param R: Earth Radius in km\n",
    "    :return: p_sphere, point represented in sphere coordinates, \n",
    "            3x1 vector: [theta, phi,r],  with\n",
    "            theta, longitude in degree\n",
    "            phi, latitude in degree\n",
    "            r, altitude in km\n",
    "    \"\"\"\n",
    "    p_cartesian = np.array(p_cartesian)\n",
    "    \n",
    "    x,y,z = p_cartesian  # unpack array\n",
    "    r = math.sqrt(x**2 + y**2 + z**2) - R\n",
    "    theta = math.degrees(np.arctan(y/x))\n",
    "    phi = math.degrees(np.arctan(z / (math.sqrt(x**2 + y**2))))\n",
    "    p_sphere = [theta, phi, r]\n",
    "    \n",
    "    return p_sphere"
   ]
  },
  {
   "cell_type": "code",
   "execution_count": 5,
   "metadata": {
    "ExecuteTime": {
     "start_time": "2023-05-09T23:26:08.318746Z",
     "end_time": "2023-05-09T23:26:08.344068Z"
    }
   },
   "outputs": [],
   "source": [
    "# Further variable definitions:\n",
    "\n",
    "cart_coor_p = np.array([sphere_to_cartesian(pos, R) for pos in spher_coor_p])\n",
    "\n",
    "d = speed_light * t"
   ]
  },
  {
   "cell_type": "markdown",
   "metadata": {},
   "source": [
    "---\n",
    "### a)\n",
    "Would the reformulation from last time still work? If not, explain why."
   ]
  },
  {
   "cell_type": "markdown",
   "metadata": {},
   "source": [
    "=== YOUR ANSWER HERE ==="
   ]
  },
  {
   "cell_type": "markdown",
   "metadata": {},
   "source": [
    "---\n",
    "### b)\n",
    "Instead of reformulating the measurement equation into a linear equation, implement the Gauss-Newton method to calculate the least squares solution.\n",
    "\n",
    "Hints: \n",
    "- you will need to use symbolic python (the package sympy is already imported)\n",
    "- you will need to use sym.Matrix instead of np.array for most variables: convert np arrays into sympy as necessary, the two packages don't mix well\n",
    "- sympy provides .jacobian(...) for calculating the Jacobian\n",
    "- sympy provides .subs(...) for symbolic substitution \n"
   ]
  },
  {
   "cell_type": "code",
   "execution_count": 6,
   "metadata": {
    "ExecuteTime": {
     "start_time": "2023-05-09T23:26:08.319048Z",
     "end_time": "2023-05-09T23:26:08.344278Z"
    }
   },
   "outputs": [],
   "source": [
    "def gauss_newton(y, h, x1, x2, x3, x_init):\n",
    "    \"\"\"\n",
    "    Applies the Gauss-Newton method.\n",
    "    :param y: measurements\n",
    "    :param h: non-linear measurement matrix\n",
    "    :param x1: symbolic variable representing the dimension of the state\n",
    "    :param x2: symbolic variable representing the dimension of the state\n",
    "    :param x3: symbolic variable representing the dimension of the state\n",
    "    :return: x_hat, the resulting estimate\n",
    "    \"\"\"\n",
    "    y = sym.Matrix(3, 1, d)\n",
    "    x_init = np.array(x_init)\n",
    "\n",
    "    # === YOUR CODE HERE ===\n",
    "    x_hat = sym.Matrix(3, 1, x_init)\n",
    "\n",
    "    update = 100\n",
    "    iteration_cnt = 0\n",
    "    while update >= 1:\n",
    "\n",
    "        r_x_hat = y - h.subs({\n",
    "            x1: x_hat[0],\n",
    "            x2: x_hat[1],\n",
    "            x3: x_hat[2]\n",
    "        })\n",
    "\n",
    "        e = sym.Matrix(y - h)\n",
    "        j = e.jacobian(x)\n",
    "        j_sub = j.subs({\n",
    "            x1: x_hat[0],\n",
    "            x2: x_hat[1],\n",
    "            x3: x_hat[2]\n",
    "        })\n",
    "\n",
    "        next_x_hat = x_hat - (j_sub.T @ j_sub).inv() @ j_sub.T @ r_x_hat\n",
    "        update = sym.Matrix.norm(next_x_hat - x_hat)\n",
    "        x_hat = next_x_hat\n",
    "        iteration_cnt += 1\n",
    "\n",
    "        print(\"iteration: \", iteration_cnt)\n",
    "        print(\"x_hat: \", x_hat)\n",
    "        print(\"update: \", update)\n",
    "        print()\n",
    "\n",
    "\n",
    "    # === END OF YOUR CODE ===\n",
    "\n",
    "    return x_hat"
   ]
  },
  {
   "cell_type": "code",
   "execution_count": 7,
   "metadata": {
    "ExecuteTime": {
     "start_time": "2023-05-09T23:26:08.326151Z",
     "end_time": "2023-05-09T23:26:08.736707Z"
    }
   },
   "outputs": [
    {
     "name": "stdout",
     "output_type": "stream",
     "text": [
      "iteration:  1\n",
      "x_hat:  Matrix([[3727.47611907220], [1611.17394154732], [5341.86966329438]])\n",
      "update:  6710.10664503922\n",
      "\n",
      "iteration:  2\n",
      "x_hat:  Matrix([[4344.67777511136], [607.903745791851], [4563.74732858568]])\n",
      "update:  1411.72353443627\n",
      "\n",
      "iteration:  3\n",
      "x_hat:  Matrix([[4389.86711202113], [590.076772002260], [4584.07020280589]])\n",
      "update:  52.6582983148003\n",
      "\n",
      "iteration:  4\n",
      "x_hat:  Matrix([[4389.90660495346], [590.012901048791], [4584.03305661328]])\n",
      "update:  0.0837796516262482\n",
      "\n",
      "\n",
      "---\n",
      "GN Solution after using [0 0 0] as initial guess:\n",
      "[4389.90660495  590.01290105 4584.03305661]\n",
      "\n",
      "Distance to true solution: 0.4064\n"
     ]
    }
   ],
   "source": [
    "# First, we create the symbolic variables\n",
    "x1 = sym.symbols(\"x1\")\n",
    "x2 = sym.symbols(\"x2\")\n",
    "x3 = sym.symbols(\"x3\")\n",
    "\n",
    "x = sym.Matrix(3, 1, [x1, x2, x3])\n",
    "\n",
    "# FYI: http://omz-software.com/pythonista/sympy/modules/matrices/matrices.html\n",
    "# if you want a deeper understanding of why lambda functions are used in the def. of h\n",
    "h = [\n",
    "    sym.sqrt(np.sum(sym.Matrix(1, 3, lambda i,j: (cart_coor_p[0,j] - x[j,0])**2).T)),\n",
    "    sym.sqrt(np.sum(sym.Matrix(1, 3, lambda i,j: (cart_coor_p[1,j] - x[j,0])**2).T)),\n",
    "    sym.sqrt(np.sum(sym.Matrix(1, 3, lambda i,j: (cart_coor_p[2,j] - x[j,0])**2).T))\n",
    "]\n",
    "\n",
    "h = sym.Matrix(3, 1, h)\n",
    "\n",
    "# Next, we apply the gauss newton algorithm\n",
    "x_init = np.array([0, 0, 0])\n",
    "x_hat_gn = gauss_newton(d,h,x1,x2,x3,x_init)\n",
    "x_hat_gn = np.reshape(np.array(x_hat_gn), (3,)).astype(float)\n",
    "\n",
    "print(\"\\n---\\nGN Solution after using {} as initial guess:\".format(x_init))\n",
    "print(x_hat_gn)\n",
    "print(\"\\nDistance to true solution: {:.4f}\".format(np.linalg.norm(gt-x_hat_gn)))"
   ]
  },
  {
   "cell_type": "markdown",
   "metadata": {},
   "source": [
    "---\n",
    "### c)\n",
    "Alternatively, use the Bancroft solution to determine the position of the GPS device.\n",
    "\n",
    "Hint: \n",
    "- numpy provides np.roots() to find the roots of a polynomial\n",
    "\n",
    "__Solution (Theory):__\n",
    "$\\newcommand\\vect[1]{\\begin{bmatrix}#1\\end{bmatrix}}$\n",
    "\n",
    "Squared meas. equation:\n",
    "\n",
    "$\n",
    "d_i^2 = ||x - p_i ||^2+ e^*_i$\n",
    "\n",
    "$=  (x_1-p_{i,1})^2  + (x_2-p_{i,2})^2 + e^*_i$\n",
    "\n",
    "$=   -2x_1 p_{i,1}  - 2x_2 p_{i,2}  + ||p_i||^2 +R^2   + e^*_i$\n",
    "\n",
    "with   $R^2:= ||x||^2= (x_1)^2 + (x_2)^2$\n",
    "\n",
    "\n",
    "Linear measurement equation for given $R^2$:\n",
    "$$y =  \\textbf{H}_1 x   + \\textbf{H}_2 R^2 + e^* $$\n",
    "with\n",
    "$$\n",
    "y  =  \\vect{d_1^2 - ||p_1 ||^2 \\\\ \\vdots \\\\ d_m^2 - ||p_m ||^2 } \\enspace, \\enspace   \\textbf{H}_1  =  \\vect{ -2 p_{i,1}  & -2 p_{i,2}      \\\\  \\vdots & \\vdots  \\\\   -2 p_{m,1}  & -2 p_{m,2} } \\enspace , \\enspace  \\textbf{H}_2  =  \\vect{ 1      \\\\  \\vdots \\\\   1}\n",
    "$$\n",
    "\n",
    "\n",
    "\n",
    "Least squares solution for a fixed $R^2$:\n",
    "\n",
    "\\begin{eqnarray*}\n",
    "x^{LS}(R^2)  &=& (\\textbf{H}_1^\\text{T}  \\textbf{H}_1)^{-1} \\textbf{H}_1^\\text{T}  (y- \\textbf{H}_2 R^2) \\\\  \n",
    "                &= &  z_1 + R^2   z_2 \n",
    "\\end{eqnarray*}\n",
    "\n",
    "with $z_1 := (\\textbf{H}_1^\\text{T}  \\textbf{H}_1)^{-1} \\textbf{H}_1^\\text{T} y$ and $z_2:= -(\\textbf{H}_1^\\text{T}  \\textbf{H}_1)^{-1} \\textbf{H}_1^\\text{T}   \\textbf{H}_2 $ \n",
    "\n",
    "\n",
    "What is $R^2$? \n",
    "\n",
    "\\begin{eqnarray*}\n",
    "R^2 &=& ||x^{LS}(R^2)||^2 \\\\\n",
    "    & =&  (z_1 + R^2 z_2)^\\text{T}  \\cdot (z_1 + R^2 z_2)  \n",
    "\\end{eqnarray*}\n",
    "\n",
    "\n",
    "Solve the following quadratic equation for $R^2$:\n",
    "\n",
    "\\begin{equation*}\n",
    "0 = z_1^\\text{T}  z_1  + z_1^\\text{T}  z_2  R^2  + R^2 z_2^\\text{T}  z_1  +  (R^2)^2 z_2^\\text{T}  z_2   -R^2 \n",
    "\\end{equation*}\n"
   ]
  },
  {
   "cell_type": "code",
   "execution_count": 128,
   "metadata": {
    "ExecuteTime": {
     "start_time": "2023-05-10T00:23:39.357259Z",
     "end_time": "2023-05-10T00:23:39.436433Z"
    }
   },
   "outputs": [],
   "source": [
    "def bancroft(p, d):\n",
    "    \"\"\"\n",
    "    Calculates the bancroft solution.\n",
    "    :param p: The cartesian coordinates with shape (3x3)\n",
    "    :param d: The distances between satellites and receiver with shape (3,)\n",
    "    :return: x_hat, the position estimate\n",
    "    \"\"\"\n",
    "    # ensure everything is numpy\n",
    "    p = np.array(p)\n",
    "    d = np.array(d)\n",
    "    \n",
    "    # === YOUR CODE HERE ===\n",
    "    p_squared_norms = np.square([np.linalg.norm(arr) for arr in p])\n",
    "    d_squared_dist = np.square(d)\n",
    "    y = np.array([d_squared_dist - p_squared_norms])\n",
    "\n",
    "    H_1 = -2 * p\n",
    "    H_2 = np.ones((3, 1))\n",
    "\n",
    "    z_1 = np.linalg.inv(H_1.T @ H_1) @ H_1.T @ y.T\n",
    "    z_2 = - np.linalg.inv(H_1.T @ H_1) @ H_1.T @ H_2\n",
    "\n",
    "    print(1, 3)\n",
    "    print(\"z_2: \", z_2)\n",
    "\n",
    "    polylnomial_1 = np.array(z_2.T @ z_2).item()\n",
    "    polylnomial_2 = np.array(z_1.T @ z_2 + z_2.T @ z_1 - 1).item()\n",
    "    polylnomial_3 = np.array(z_1.T @ z_1).item()\n",
    "\n",
    "    coef = np.array([polylnomial_1, polylnomial_2, polylnomial_3])\n",
    "    print(\"coef: \", coef)\n",
    "\n",
    "    res = np.roots(coef)\n",
    "    print(\"res: \", res)\n",
    "\n",
    "    a = np.argmin(np.abs(res))\n",
    "    x_hat = z_1 + res[a] * z_2\n",
    "    x_hat = x_hat.T[0]\n",
    "\n",
    "    # === END OF YOUR CODE ===\n",
    "\n",
    "    return x_hat"
   ]
  },
  {
   "cell_type": "code",
   "execution_count": 129,
   "metadata": {
    "ExecuteTime": {
     "start_time": "2023-05-10T00:23:39.533996Z",
     "end_time": "2023-05-10T00:23:39.573148Z"
    }
   },
   "outputs": [
    {
     "name": "stdout",
     "output_type": "stream",
     "text": [
      "old:  [[20353.80085367     0.         17078.86678937]\n",
      " [24588.31848804  4335.58395969  9087.47520816]\n",
      " [25768.81646714  4543.73760408 -4613.83208061]]\n",
      "cart_coor_p: \n",
      "1 3\n",
      "z_2:  [[ 2.31406682e-05]\n",
      " [-1.94715186e-05]\n",
      " [ 1.69797261e-06]]\n",
      "coef:  [ 9.17513670e-10 -8.78801240e-01  3.41932808e+07]\n",
      "res:  [9.17174490e+08 4.06327543e+07]\n",
      "Bancroft solution:\n",
      "[4389.90660512  590.01290096 4584.03305667]\n",
      "\n",
      "Distance to true solution: 0.4064\n"
     ]
    }
   ],
   "source": [
    "# Now, the bancroft solution will be applied to find an estimate\n",
    "print(\"old: \", cart_coor_p)\n",
    "print(\"cart_coor_p: \", )\n",
    "x_hat_b = bancroft(cart_coor_p, d)\n",
    "print(\"Bancroft solution:\")\n",
    "print(x_hat_b)\n",
    "print(\"\\nDistance to true solution: {:.4f}\".format(np.linalg.norm(gt-x_hat_b)))"
   ]
  },
  {
   "cell_type": "code",
   "execution_count": null,
   "outputs": [],
   "source": [],
   "metadata": {
    "collapsed": false
   }
  }
 ],
 "metadata": {
  "kernelspec": {
   "display_name": "Python 3",
   "language": "python",
   "name": "python3"
  },
  "language_info": {
   "codemirror_mode": {
    "name": "ipython",
    "version": 3
   },
   "file_extension": ".py",
   "mimetype": "text/x-python",
   "name": "python",
   "nbconvert_exporter": "python",
   "pygments_lexer": "ipython3",
   "version": "3.8.5"
  }
 },
 "nbformat": 4,
 "nbformat_minor": 4
}
