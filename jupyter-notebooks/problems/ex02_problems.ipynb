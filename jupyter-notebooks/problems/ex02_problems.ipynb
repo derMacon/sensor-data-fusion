{
 "cells": [
  {
   "cell_type": "markdown",
   "metadata": {},
   "source": [
    "# Sensor Data Fusion\n",
    "\n",
    "Lecturer: Prof. Baum \\\n",
    "Tutor: Shishan Yang and Laura Wolf\\\n",
    "Semester: Winter 20/21\n",
    "\n",
    "## Homework 2\n",
    "\n",
    "GPS consists of  24 satellites in  orbit (20200km above mean sea level). \n",
    "\n",
    "Each  satellite broadcasts its location (in spherical coordinates $[\\theta, \\phi, r]^T$) plus the emission time (see figures below).\n",
    "\n",
    "A GPS device receives at time $t=0s$ the following four satellite signals:\n",
    "\n",
    "| $i$ | $p_i$ | $t_i$ |\n",
    "| :--- | :---: | ---: |\n",
    "| 1 | $[  0^{°},  40^{°}, 20200 \\text{km}]^T$ | -67.603 ms |\n",
    "| 2 | $[ 10^{°},  20^{°}, 20200 \\text{km}]^T$ | -70.102 ms |\n",
    "| 3 | $[ 10^{°}, -10^{°}, 20200 \\text{km}]^T$ | -78.690 ms |\n",
    "| 4 | $[ -10^{°}, -20^{°}, 20200 \\text{km}]^T$ | -82.942 ms |\n",
    "\n",
    "Assume that the speed-of-light is $c=3\\cdot10^8\\text{ms}^{-1}$ and the Earth is an ideal sphere with radius $r^{\\text{E}}=6370 \\text{km}$.\n",
    "\n",
    "![Satellite Visuals](https://owncloud.gwdg.de/index.php/s/guLnIkLe4aOcL1E/download)"
   ]
  },
  {
   "cell_type": "markdown",
   "metadata": {},
   "source": [
    "---\n",
    "The following tasks will have missing sections marked that you should fill out. \n",
    "\n",
    "Missing code parts are marked by\n",
    "```\n",
    "# ... code code code\n",
    "=== YOUR CODE HERE ===\n",
    "\n",
    "=== END OF YOUR CODE ===\n",
    "# ... code code code\n",
    "```\n",
    "If you are asked to implement a function, make sure to check what variable will be returned by the function and to fill it accordingly. Do not change code outside of the indicated sections.\n",
    "\n",
    "Furthermore, some questions require theoretical answers instead of python code.\n",
    "\n",
    "Such questions will have a field marked like this: \n",
    "\n",
    "=== YOUR ANSWER HERE === "
   ]
  },
  {
   "cell_type": "code",
   "execution_count": 84,
   "metadata": {
    "ExecuteTime": {
     "start_time": "2023-05-01T21:34:42.118187Z",
     "end_time": "2023-05-01T21:34:42.209085Z"
    }
   },
   "outputs": [],
   "source": [
    "# import statements\n",
    "import numpy as np\n",
    "import matplotlib.pyplot as plt\n",
    "import math"
   ]
  },
  {
   "cell_type": "code",
   "execution_count": 85,
   "metadata": {
    "ExecuteTime": {
     "start_time": "2023-05-01T21:34:42.160618Z",
     "end_time": "2023-05-01T21:34:42.209389Z"
    }
   },
   "outputs": [],
   "source": [
    "# Definition of global variables\n",
    "speed_light = 3 * math.pow(10, 5)  # Speed of light def. - 10^5 because we want km/s\n",
    "R = 6370  # earth radius (assuming earth is a perfect sphere)\n",
    "t = np.array([67.603e-3, 70.102e-3, 78.690e-3, 82.942e-3])  # emission times\n",
    "\n",
    "# location in spherical coordinates\n",
    "p = [\n",
    "    [0, 40, 20200],\n",
    "    [10, 20, 20200],\n",
    "    [10, -10, 20200],\n",
    "    [-10,-20, 20200]\n",
    "    ]\n",
    "p = np.array(p)\n",
    "spher_coor_p = p  # add a second alias..."
   ]
  },
  {
   "cell_type": "markdown",
   "metadata": {},
   "source": [
    "---\n",
    "### a)\n",
    "Write a function which converts sphere coordinates $(\\theta,\\phi,r)$ into Cartesian coordinates $(x,y,z)$\n",
    "\n",
    "Hints: \n",
    "- The $x$ coordinates could be obtained according to $x = (r^\\text{E}+r)\\,cos\\phi\\,cos\\theta$\n",
    "- You could use `math.radians(...)` to convert degrees to radians"
   ]
  },
  {
   "cell_type": "code",
   "execution_count": 90,
   "metadata": {
    "ExecuteTime": {
     "start_time": "2023-05-01T21:36:15.285771Z",
     "end_time": "2023-05-01T21:36:15.363494Z"
    }
   },
   "outputs": [],
   "source": [
    "def sphere_to_cartesian(p_sphere, R):\n",
    "    \"\"\"\n",
    "    Function that converts spherical to cartesian coordinates. \n",
    "    :param p_sphere: 3x1 vector [theta, phi, R] with\n",
    "    theta, longitude in degree\n",
    "    phi, latitude in degree\n",
    "    r, altitude in km\n",
    "    :param R: earth radius in km\n",
    "    :return: p_cartesian, converted cartesian coordinates, as 3x1 vector [x,y,z]\n",
    "    \"\"\"\n",
    "    # make sure everything is numpy\n",
    "    p_sphere = np.array(p_sphere)\n",
    "    \n",
    "    # === YOUR CODE HERE ===\n",
    "    theta = np.deg2rad(p_sphere[0]) # Strich horizontal\n",
    "    phi = np.deg2rad(p_sphere[1])   # Strich vertikal\n",
    "    radius = p_sphere[2]\n",
    "\n",
    "    # approach using rotation matrices\n",
    "    # point = np.array([0, 0, R + radius])\n",
    "    # rotation_y = np.array([[np.cos(phi), 0, np.sin(phi)], [0, 1, 0], [-np.sin(phi), 0, np.cos(phi)]])\n",
    "    # rotation_z = np.array([[1, 0, 0], [0, np.cos(theta), -np.sin(theta)], [0, np.sin(theta), np.cos(theta)]])\n",
    "    # p_cartesian = rotation_z.dot(rotation_y.dot(point))\n",
    "\n",
    "    x = (radius + R) * np.cos(phi) * np.cos(theta)\n",
    "    y = (radius + R) * np.cos(phi) * np.sin(theta)\n",
    "    z = (radius + R) * np.sin(phi)\n",
    "\n",
    "    p_cartesian = [x, y, z]\n",
    "\n",
    "    # === END OF YOUR CODE ===\n",
    "    \n",
    "    return p_cartesian"
   ]
  },
  {
   "cell_type": "markdown",
   "metadata": {},
   "source": [
    "Using the function you implemented, the Cartesian coordinates of these four Satellites will be calculated:"
   ]
  },
  {
   "cell_type": "code",
   "execution_count": 91,
   "metadata": {
    "ExecuteTime": {
     "start_time": "2023-05-01T21:36:17.514372Z",
     "end_time": "2023-05-01T21:36:17.553209Z"
    }
   },
   "outputs": [
    {
     "name": "stdout",
     "output_type": "stream",
     "text": [
      "Resulting cartesian Coordinates of the Satellite Locations:\n",
      "[20353.800853671244, 0.0, 17078.866789371346]\n",
      "[24588.318488043453, 4335.58395969483, 9087.475208163018]\n",
      "[25768.81646714079, 4543.737604081509, -4613.832080610339]\n",
      "[24588.318488043453, -4335.58395969483, -9087.475208163018]\n"
     ]
    }
   ],
   "source": [
    "# calculating the cartesian coordinates based on your function:\n",
    "cart_coor_p = []\n",
    "for location in spher_coor_p:\n",
    "    cart_coor_p.append(sphere_to_cartesian(location, R))\n",
    "    \n",
    "# take a look at the results:\n",
    "print(\"Resulting cartesian Coordinates of the Satellite Locations:\")\n",
    "for location in cart_coor_p:\n",
    "    print(location)"
   ]
  },
  {
   "cell_type": "markdown",
   "metadata": {},
   "source": [
    "---\n",
    "### b)\n",
    "Please calculate the distance between satellites and GPS device."
   ]
  },
  {
   "cell_type": "code",
   "execution_count": 81,
   "metadata": {
    "ExecuteTime": {
     "start_time": "2023-05-01T21:31:13.115762Z",
     "end_time": "2023-05-01T21:31:13.183983Z"
    }
   },
   "outputs": [
    {
     "name": "stdout",
     "output_type": "stream",
     "text": [
      "Distances between satellites and GPS device:\n",
      "20280.899999999998\n",
      "21030.6\n",
      "23607.0\n",
      "24882.600000000002\n"
     ]
    }
   ],
   "source": [
    "d = np.zeros((4,))\n",
    "\n",
    "# Use the following section to fill d with the distances between satellites and the GPS device.\n",
    "# === YOUR CODE HERE ===\n",
    "\n",
    "d = np.array([])\n",
    "for current_emission_time in t:\n",
    "    d = np.append(d, current_emission_time * speed_light)\n",
    "\n",
    "# === END OF YOUR CODE ===\n",
    "\n",
    "assert d.shape == (4,)  # make sure that d still has the correct shape\n",
    "print(\"Distances between satellites and GPS device:\")\n",
    "for distance in d:\n",
    "    print(distance)"
   ]
  },
  {
   "cell_type": "markdown",
   "metadata": {},
   "source": [
    "Using the distance measurements, form the measurement equation like we did in the lecture.\n",
    "\n",
    "=== YOUR ANSWER HERE ===\n",
    "see slide 27 - 'individual measurement equation'\n"
   ]
  },
  {
   "cell_type": "markdown",
   "metadata": {},
   "source": [
    "### c)\n",
    "\n",
    "Reformulate the non-linear measurement equation in b) into a linear measurement equation."
   ]
  },
  {
   "cell_type": "markdown",
   "metadata": {},
   "source": [
    "=== YOUR ANSWER HERE ==="
   ]
  },
  {
   "cell_type": "markdown",
   "metadata": {},
   "source": [
    "see slide 27 - 'individual measurement equation'\n",
    "Now, implement your reformulation so that the least squares estimate can be calculated."
   ]
  },
  {
   "cell_type": "code",
   "execution_count": 98,
   "metadata": {
    "ExecuteTime": {
     "start_time": "2023-05-01T21:43:36.971158Z",
     "end_time": "2023-05-01T21:43:37.010837Z"
    }
   },
   "outputs": [],
   "source": [
    "cart_coor_p = np.array(cart_coor_p)\n",
    "\n",
    "# You will now need to create y and H of the measurement equation.\n",
    "#    y should be of shape (3,)\n",
    "#    H should be of shape (3,3)\n",
    "# === YOUR CODE HERE ===\n",
    "\n",
    "y = [d[0] ** 2 - d[3] ** 2 - np.linalg.norm(cart_coor_p[0]) ** 2 + np.linalg.norm(cart_coor_p[3]) ** 2,\n",
    "    d[1] ** 2 - d[3] ** 2 - np.linalg.norm(cart_coor_p[1]) ** 2 + np.linalg.norm(cart_coor_p[3]) ** 2,\n",
    "    d[2] ** 2 - d[3] ** 2 - np.linalg.norm(cart_coor_p[2]) ** 2 + np.linalg.norm(cart_coor_p[3]) ** 2]\n",
    "\n",
    "H = 2 * np.array([\n",
    "    [cart_coor_p[3][0] - cart_coor_p[0][0], cart_coor_p[3][1] - cart_coor_p[0][1], cart_coor_p[3][2] - cart_coor_p[0][2]],\n",
    "    [cart_coor_p[3][0] - cart_coor_p[1][0], cart_coor_p[3][1] - cart_coor_p[1][1], cart_coor_p[3][2] - cart_coor_p[1][2]],\n",
    "    [cart_coor_p[3][0] - cart_coor_p[2][0], cart_coor_p[3][1] - cart_coor_p[2][1], cart_coor_p[3][2] - cart_coor_p[2][2]]\n",
    "])\n",
    "\n",
    "# === END OF YOUR CODE ===\n",
    "\n",
    "y = np.array(y)\n",
    "H = np.array(H)\n",
    "\n",
    "# ensure everything is in the correct form\n",
    "assert y.shape == (3,)\n",
    "assert H.shape == (3,3)"
   ]
  },
  {
   "cell_type": "markdown",
   "metadata": {},
   "source": [
    "Now, the least squares solution will be calculated using your y and H from above."
   ]
  },
  {
   "cell_type": "code",
   "execution_count": 68,
   "metadata": {
    "ExecuteTime": {
     "start_time": "2023-05-01T21:16:51.460661Z",
     "end_time": "2023-05-01T21:16:51.501810Z"
    }
   },
   "outputs": [
    {
     "name": "stdout",
     "output_type": "stream",
     "text": [
      "Least squares solution:\n",
      "4940.480071646369\n",
      "-985.599855813158\n",
      "5685.745152681407\n"
     ]
    }
   ],
   "source": [
    "x_hat = np.linalg.inv(H.T @ H) @ H.T @ y \n",
    "\n",
    "print(\"Least squares solution:\")\n",
    "for v in x_hat:\n",
    "    print(v)"
   ]
  },
  {
   "cell_type": "markdown",
   "metadata": {},
   "source": [
    "### d)\n",
    "Write a function which converts the cartesian coordinates into sphere coordinates. Use the function you implemented, calculate the longitude and latitude of the GPS device, and find out where it is using using _GPS Visualizer_ :\n",
    "\n",
    "[http://www.gpsvisualizer.com/map?form=google](http://www.gpsvisualizer.com/map?form=google)"
   ]
  },
  {
   "cell_type": "code",
   "execution_count": 96,
   "metadata": {
    "ExecuteTime": {
     "start_time": "2023-05-01T21:43:11.077466Z",
     "end_time": "2023-05-01T21:43:11.142904Z"
    }
   },
   "outputs": [],
   "source": [
    "def cartesian_to_sphere(p_cartesian, R):\n",
    "    \"\"\"\n",
    "    :param p_cartesian: Point represented in cartesian coordinates as 3x1 vector\n",
    "    :param R: Earth Radius in km\n",
    "    :return: p_sphere, point represented in sphere coordinates, \n",
    "            3x1 vector: [theta, phi,r],  with\n",
    "            theta, longitude in degree\n",
    "            phi, latitude in degree\n",
    "            r, altitude in km\n",
    "    \"\"\"\n",
    "    p_cartesian = np.array(p_cartesian)\n",
    "    \n",
    "    # === YOUR CODE HERE ===\n",
    "    x = p_cartesian[0]\n",
    "    y = p_cartesian[1]\n",
    "    z = p_cartesian[2]\n",
    "\n",
    "    r = np.sqrt(x**2 + y**2 + z**2)\n",
    "    theta = np.arctan2(y, x)\n",
    "    phi = np.arccos(z / r)\n",
    "\n",
    "    p_sphere = [theta, phi, r]\n",
    "    \n",
    "    # === END OF YOUR CODE ===\n",
    "    \n",
    "    return p_sphere"
   ]
  },
  {
   "cell_type": "markdown",
   "metadata": {},
   "source": [
    "Now, your function will be applied to acquire the resulting coordinates:"
   ]
  },
  {
   "cell_type": "code",
   "execution_count": 97,
   "metadata": {
    "ExecuteTime": {
     "start_time": "2023-05-01T21:43:12.679101Z",
     "end_time": "2023-05-01T21:43:12.682585Z"
    }
   },
   "outputs": [
    {
     "name": "stdout",
     "output_type": "stream",
     "text": [
      "Spherical Coordinates of the Least Squares Result:\n",
      "Latitude: 0.7250520168807857\n",
      "Longitude: -0.19690969907852807\n",
      "r: 7596.5418682025265\n"
     ]
    }
   ],
   "source": [
    "p_GPS = cartesian_to_sphere(x_hat, R)\n",
    "\n",
    "print(\"Spherical Coordinates of the Least Squares Result:\")\n",
    "print(\"Latitude:\",p_GPS[1])\n",
    "print(\"Longitude:\", p_GPS[0])\n",
    "print(\"r:\",p_GPS[2])"
   ]
  },
  {
   "cell_type": "markdown",
   "metadata": {},
   "source": [
    "To import this data into gpsvisualizer, copy the output of the following cell and paste it into the \"Paste your data here\" box on the bottom right to see where the location is on earth:"
   ]
  },
  {
   "cell_type": "code",
   "execution_count": null,
   "metadata": {},
   "outputs": [],
   "source": [
    "# formatting for gpsvisualizer\n",
    "print(\"type,latitude,longitude\")\n",
    "print(\"W,{:f},{:f}\".format(p_GPS[1], p_GPS[0]))"
   ]
  }
 ],
 "metadata": {
  "kernelspec": {
   "display_name": "Python 3",
   "language": "python",
   "name": "python3"
  },
  "language_info": {
   "codemirror_mode": {
    "name": "ipython",
    "version": 3
   },
   "file_extension": ".py",
   "mimetype": "text/x-python",
   "name": "python",
   "nbconvert_exporter": "python",
   "pygments_lexer": "ipython3",
   "version": "3.7.4"
  },
  "toc": {
   "base_numbering": 1,
   "nav_menu": {},
   "number_sections": true,
   "sideBar": true,
   "skip_h1_title": false,
   "title_cell": "Table of Contents",
   "title_sidebar": "Contents",
   "toc_cell": false,
   "toc_position": {},
   "toc_section_display": true,
   "toc_window_display": false
  }
 },
 "nbformat": 4,
 "nbformat_minor": 4
}
