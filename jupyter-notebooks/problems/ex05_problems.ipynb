{
 "cells": [
  {
   "cell_type": "markdown",
   "metadata": {},
   "source": [
    "# Sensor Data Fusion \n",
    "Lecturer: Prof. Baum \\\n",
    "Tutor: Kolja Thormann\\\n",
    "Semester: Winter 21/22\n",
    "\n",
    "## Homework 5\n",
    "\n",
    "Consider a $1$D state $x$ and estimates $x_1$ and $x_2$. The errors of the estimates are correlated with $\\begin{bmatrix}e_1\\\\e_2\\end{bmatrix}\\sim\\mathcal{N}(\\begin{bmatrix}0\\\\0\\end{bmatrix}, \\begin{bmatrix}1 & 0.8\\sqrt{1\\cdot4}\\\\0.8\\sqrt{1\\cdot4} & 4\\end{bmatrix})$."
   ]
  },
  {
   "cell_type": "markdown",
   "metadata": {},
   "source": [
    "---\n",
    "The following tasks will have missing sections marked that you should fill out. \n",
    "\n",
    "Missing code parts are marked by\n",
    "```\n",
    "# ... code code code\n",
    "=== YOUR CODE HERE ===\n",
    "\n",
    "=== END OF YOUR CODE ===\n",
    "# ... code code code\n",
    "```\n",
    "If you are asked to implement a function, make sure to check what variable will be returned by the function and to fill it accordingly. Do not change code outside of the indicated sections.\n",
    "\n",
    "Furthermore, some questions require theoretical answers instead of python code.\n",
    "\n",
    "Such questions will have a field marked like this: \n",
    "\n",
    "=== YOUR ANSWER HERE === "
   ]
  },
  {
   "cell_type": "markdown",
   "metadata": {},
   "source": [
    "---\n",
    "### a)\n",
    "\n",
    "Write a function which visualizes the joint covariance matrix. Use it to draw the matrix along with the column space in the measurement space. Then assume the correlation coefficient $0.8$ from the description is unknown and define a covariance which ignores it. Draw that covariance and calculate and visualize the solution of the BLUE estimator."
   ]
  },
  {
   "cell_type": "code",
   "execution_count": 8,
   "metadata": {
    "ExecuteTime": {
     "start_time": "2023-06-07T17:27:35.772319Z",
     "end_time": "2023-06-07T17:27:35.899441Z"
    }
   },
   "outputs": [],
   "source": [
    "import numpy as np\n",
    "import matplotlib.pyplot as plt\n",
    "from matplotlib.patches import Ellipse\n",
    "\n",
    "def draw_covariance(mean, cov, ax, color):\n",
    "    \"\"\"\n",
    "    Function that draws a covariance matrix as an ellipse.\n",
    "    \n",
    "    :param mean:  Center of the ellipse\n",
    "    :param cov:   Covariance matrix\n",
    "    :param ax:    Axis on which to plot\n",
    "    :param color: Color in which to plot the ellipse\n",
    "    \"\"\"\n",
    "    \n",
    "    # === YOUR CODE HERE ===\n",
    "\n",
    "    eig_vals, eig_vecs = np.linalg.eig(cov)\n",
    "    psi = np.arctan2(eig_vecs[1, 0], eig_vecs[0, 0])\n",
    "    ell = Ellipse(mean, 2.0*np.sqrt(eig_vals[0]), 2.0*np.sqrt(eig_vals[1]), np.rad2deg(psi), fill=False, color=color)\n",
    "    ax.add_artist(ell)\n",
    "\n",
    "    # === END OF YOUR CODE ==="
   ]
  },
  {
   "cell_type": "code",
   "execution_count": 9,
   "metadata": {
    "ExecuteTime": {
     "start_time": "2023-06-07T17:27:35.813206Z",
     "end_time": "2023-06-07T17:27:36.071619Z"
    }
   },
   "outputs": [
    {
     "name": "stderr",
     "output_type": "stream",
     "text": [
      "/tmp/ipykernel_11061/1825518869.py:19: MatplotlibDeprecationWarning: Passing the angle parameter of __init__() positionally is deprecated since Matplotlib 3.6; the parameter will become keyword-only two minor releases later.\n",
      "  ell = Ellipse(mean, 2.0*np.sqrt(eig_vals[0]), 2.0*np.sqrt(eig_vals[1]), np.rad2deg(psi), fill=False, color=color)\n"
     ]
    },
    {
     "data": {
      "text/plain": "<Figure size 640x480 with 1 Axes>",
      "image/png": "[encoded data removed]"
     },
     "metadata": {},
     "output_type": "display_data"
    }
   ],
   "source": [
    "x1 = 1.0\n",
    "x2 = 2.0\n",
    "\n",
    "var_x1 = 1.0\n",
    "var_x2 = 4.0\n",
    "corr_coef = 0.8\n",
    "var_x12 = corr_coef*2.0\n",
    "cov_x12 = np.array([\n",
    "    [var_x1, var_x12],\n",
    "    [var_x12, var_x2]\n",
    "])\n",
    "\n",
    "fig, ax = plt.subplots(1, 1)\n",
    "draw_covariance(np.array([x1, x2]), cov_x12, ax, 'blue')\n",
    "plt.plot([-10.0, 10.0],[-10.0, 10.0], color='black')\n",
    "plt.axis([x1-5.0, x1+5.0, x2-5.0, x2+5.0])\n",
    "ax.set_aspect('equal')\n",
    "plt.show()"
   ]
  },
  {
   "cell_type": "code",
   "execution_count": 10,
   "metadata": {
    "ExecuteTime": {
     "start_time": "2023-06-07T17:27:35.945219Z",
     "end_time": "2023-06-07T17:27:36.140944Z"
    }
   },
   "outputs": [
    {
     "name": "stderr",
     "output_type": "stream",
     "text": [
      "/tmp/ipykernel_11061/1825518869.py:19: MatplotlibDeprecationWarning: Passing the angle parameter of __init__() positionally is deprecated since Matplotlib 3.6; the parameter will become keyword-only two minor releases later.\n",
      "  ell = Ellipse(mean, 2.0*np.sqrt(eig_vals[0]), 2.0*np.sqrt(eig_vals[1]), np.rad2deg(psi), fill=False, color=color)\n"
     ]
    },
    {
     "name": "stdout",
     "output_type": "stream",
     "text": [
      "new_weight:  [[1.   0.  ]\n",
      " [0.   0.25]]\n",
      "x_ls:  1.2\n"
     ]
    },
    {
     "data": {
      "text/plain": "<Figure size 640x480 with 1 Axes>",
      "image/png": "[encoded data removed]"
     },
     "metadata": {},
     "output_type": "display_data"
    }
   ],
   "source": [
    "# === YOUR CODE HERE ===\n",
    "\n",
    "new_cov = [[1, 0], [0, 4]]\n",
    "new_weight = np.linalg.inv(np.array(new_cov))\n",
    "print(\"new_weight: \", new_weight)\n",
    "\n",
    "H = np.array([1, 1])\n",
    "y = np.array([x1, x2])\n",
    "x = (H.T @ new_weight @ y) / (H.T @ new_weight @ H)\n",
    "print(\"x_ls: \", x)\n",
    "\n",
    "fig, ax = plt.subplots(1, 1)\n",
    "draw_covariance(np.array([x1, x2]), cov_x12, ax, 'blue')\n",
    "draw_covariance(np.array([x1, x2]), new_cov, ax, 'blue')\n",
    "plt.plot([-10.0, 10.0],[-10.0, 10.0], color='black')\n",
    "plt.plot(x, x, marker=\"o\", markersize=4, markerfacecolor=\"green\")\n",
    "plt.axis([x1-5.0, x1+5.0, x2-5.0, x2+5.0])\n",
    "ax.set_aspect('equal')\n",
    "plt.show()\n",
    "\n",
    "# === END OF YOUR CODE ==="
   ]
  },
  {
   "cell_type": "markdown",
   "metadata": {},
   "source": [
    "---\n",
    "### b)\n",
    "\n",
    "Now write a function which calculates a matrix which is bigger than the input matrix, determined by a parameter alpha as in the lecture. Calculate the BLUE estimate for different alpha values and determine which works best. Visualize the results."
   ]
  },
  {
   "cell_type": "code",
   "execution_count": 48,
   "metadata": {
    "ExecuteTime": {
     "start_time": "2023-06-07T18:53:47.784870Z",
     "end_time": "2023-06-07T18:53:47.806306Z"
    }
   },
   "outputs": [],
   "source": [
    "def enclosing_ellipse(alpha, cov_x12):\n",
    "    \"\"\"\n",
    "    Function that finds an enclosing ellipse based on a parameter alpha.\n",
    "    \n",
    "    The function should return a 2x2 symmetric positive-definite matrix. \n",
    "    :param alpha:          Parameter for determining enclosing matrix\n",
    "    :param cov_x12:        Covariance matrix\n",
    "    :return: cov_x12_new - Enclosing covariance matrix cov_x12_new > cov_x12\n",
    "    \"\"\"\n",
    "    \n",
    "    # === YOUR CODE HERE ===\n",
    "\n",
    "    return [[cov_x12[0][0] / (0.5 - alpha), 0], [0, cov_x12[1][1] / (0.5 + alpha)]]\n",
    "\n",
    "    # === END OF YOUR CODE ==="
   ]
  },
  {
   "cell_type": "code",
   "execution_count": 62,
   "metadata": {
    "ExecuteTime": {
     "start_time": "2023-06-08T00:28:54.652420Z",
     "end_time": "2023-06-08T00:28:54.789255Z"
    }
   },
   "outputs": [
    {
     "name": "stdout",
     "output_type": "stream",
     "text": [
      "cov_x12_approx:  [[1.1111111111111112, 0], [0, 40.00000000000001]]\n",
      "x:  1.2\n",
      "y:  [1. 2.]\n"
     ]
    },
    {
     "name": "stderr",
     "output_type": "stream",
     "text": [
      "/tmp/ipykernel_11061/1825518869.py:19: MatplotlibDeprecationWarning: Passing the angle parameter of __init__() positionally is deprecated since Matplotlib 3.6; the parameter will become keyword-only two minor releases later.\n",
      "  ell = Ellipse(mean, 2.0*np.sqrt(eig_vals[0]), 2.0*np.sqrt(eig_vals[1]), np.rad2deg(psi), fill=False, color=color)\n"
     ]
    },
    {
     "data": {
      "text/plain": "<Figure size 640x480 with 1 Axes>",
      "image/png": "[encoded data removed]"
     },
     "metadata": {},
     "output_type": "display_data"
    }
   ],
   "source": [
    "alpha = -0.4\n",
    "cov_x12_approx = enclosing_ellipse(alpha, cov_x12)\n",
    "print(\"cov_x12_approx: \", cov_x12_approx)\n",
    "\n",
    "fig, ax = plt.subplots(1, 1)\n",
    "print(\"x: \", x)\n",
    "print(\"y: \", y)\n",
    "draw_covariance(np.array([x, 1.2]), cov_x12, ax, 'blue')\n",
    "draw_covariance(np.array([x, 1.2]), cov_x12_approx, ax, 'green')\n",
    "plt.axis([x1-5.0, x1+5.0, x2-5.0, x2+5.0])\n",
    "ax.set_aspect('equal')\n",
    "plt.show()"
   ]
  },
  {
   "cell_type": "code",
   "execution_count": null,
   "metadata": {
    "scrolled": true
   },
   "outputs": [],
   "source": [
    "# === YOUR CODE HERE ===\n",
    "\n",
    "    \n",
    " # === END OF YOUR CODE ==="
   ]
  },
  {
   "cell_type": "code",
   "execution_count": null,
   "metadata": {},
   "outputs": [],
   "source": []
  }
 ],
 "metadata": {
  "kernelspec": {
   "display_name": "Python 3 (ipykernel)",
   "language": "python",
   "name": "python3"
  },
  "language_info": {
   "codemirror_mode": {
    "name": "ipython",
    "version": 3
   },
   "file_extension": ".py",
   "mimetype": "text/x-python",
   "name": "python",
   "nbconvert_exporter": "python",
   "pygments_lexer": "ipython3",
   "version": "3.9.7"
  }
 },
 "nbformat": 4,
 "nbformat_minor": 4
}
