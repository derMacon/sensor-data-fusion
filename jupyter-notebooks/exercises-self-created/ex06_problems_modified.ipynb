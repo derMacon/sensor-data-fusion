{
 "cells": [
  {
   "cell_type": "markdown",
   "metadata": {},
   "source": [
    "# Sensor Data Fusion \n",
    "Lecturer: Prof. Baum \\\n",
    "Tutor: Kolja Thormann\\\n",
    "Semester: Winter 21/22\n",
    "\n",
    "## Homework 6\n",
    "\n",
    "Consider again the setup of the Silly Estimator exercise with $x \\sim \\mathcal{N}(\\mu\\_1, \\Sigma\\_1)$ and $y = x + e$ with $e \\sim \\mathcal{N}(\\mu\\_2, \\Sigma\\_2)$.\n"
   ]
  },
  {
   "cell_type": "markdown",
   "metadata": {},
   "source": [
    "---\n",
    "The following tasks will have missing sections marked that you should fill out. \n",
    "\n",
    "Missing code parts are marked by\n",
    "```\n",
    "# ... code code code\n",
    "=== YOUR CODE HERE ===\n",
    "\n",
    "=== END OF YOUR CODE ===\n",
    "# ... code code code\n",
    "```\n",
    "If you are asked to implement a function, make sure to check what variable will be returned by the function and to fill it accordingly. Do not change code outside of the indicated sections.\n",
    "\n",
    "Furthermore, some questions require theoretical answers instead of python code.\n",
    "\n",
    "Such questions will have a field marked like this: \n",
    "\n",
    "=== YOUR ANSWER HERE === "
   ]
  },
  {
   "cell_type": "markdown",
   "metadata": {},
   "source": [
    "---\n",
    "### a)\n",
    "\n",
    "Write a function which calculates a possible value for $x$ based on its distribution and then generates a measurement from the value using the measurement noise."
   ]
  },
  {
   "cell_type": "code",
   "execution_count": 1,
   "metadata": {
    "ExecuteTime": {
     "start_time": "2023-06-10T14:51:26.750842Z",
     "end_time": "2023-06-10T14:51:26.908388Z"
    }
   },
   "outputs": [],
   "source": [
    "import numpy as np\n",
    "import matplotlib.pyplot as plt\n",
    "\n",
    "def draw_sample(mean_x, var_x, mean_e, var_e, sample_count):\n",
    "    \"\"\"\n",
    "    Function that draws a sample measurement.\n",
    "    The parameters for this function consist of the parameters for the normal distribution of x and the normal distribution \n",
    "    of the additive noise.\n",
    "    \n",
    "    The function should return a single measurement (\"y\") and the true drawn value from the distribution (\"x\"). \n",
    "    :param mean_x: Mean of the gaussian distribution for x\n",
    "    :param var_x: Variance of the gaussian distribution for x\n",
    "    :param mean_e: Mean of the gaussian distriubtion for e\n",
    "    :param var_e: Variance of the gaussian distribution for e:\n",
    "    :return: (y,x) - a single measurement y with its true (original) value x\n",
    "    \"\"\"\n",
    "    \n",
    "    # === YOUR CODE HERE ===\n",
    "\n",
    "    y = []\n",
    "    x = []\n",
    "\n",
    "    for curr_run in range(sample_count):\n",
    "        curr_x = np.random.multivariate_normal(mean_x, var_x)\n",
    "        curr_e = np.random.multivariate_normal(mean_e, var_e)\n",
    "\n",
    "        x.append(curr_x)\n",
    "        y.append(curr_x + curr_e)\n",
    "\n",
    "    # === END OF YOUR CODE ===\n",
    "    \n",
    "    return np.array(y), np.array(x)"
   ]
  },
  {
   "cell_type": "markdown",
   "source": [
    "visualize a given list of points"
   ],
   "metadata": {
    "collapsed": false
   }
  },
  {
   "cell_type": "code",
   "execution_count": null,
   "outputs": [],
   "source": [
    "def visualize_points(points):\n",
    "    x_vals = points[:,0]\n",
    "    y_vals = points[:,1]\n",
    "\n",
    "    plt.scatter(x_vals, y_vals)\n",
    "    plt.show()"
   ],
   "metadata": {
    "collapsed": false
   }
  },
  {
   "cell_type": "markdown",
   "metadata": {},
   "source": [
    "---\n",
    "### b)\n",
    "\n",
    "Consider the natural estimator $\\theta_n(y) = y$. Calculate the empirical mean square error of 1000 runs using this estimator and compare it with the analystic solution."
   ]
  },
  {
   "cell_type": "code",
   "execution_count": null,
   "metadata": {},
   "outputs": [],
   "source": [
    "def theta_n(y):\n",
    "    \"\"\"\n",
    "    Function that represents the natural estimator.\n",
    "    \n",
    "    This function should return a single value, which represents the result of the estimator.\n",
    "    :param y: The measurement y\n",
    "    :return: The estimate corresponding to the measurement given as input\n",
    "    \"\"\"\n",
    "    # === YOUR CODE HERE ===\n",
    "\n",
    "    result = y\n",
    "    \n",
    "    # === END OF YOUR CODE ===\n",
    "    \n",
    "    return result"
   ]
  },
  {
   "cell_type": "code",
   "execution_count": null,
   "metadata": {},
   "outputs": [],
   "source": [
    "def empirical_mean_square_error(estimator, samples, n_runs=1000):\n",
    "    \"\"\"\n",
    "    Function that calculates the empirical MSE for a given estimator and a set number of runs, using the draw_sample function\n",
    "    defined above.\n",
    "    \n",
    "    The function should return a single value, which is the MSE over all runs for the given estimator.\n",
    "    :param estimator: A function that, given a single measurement, returns an estimated true value\n",
    "    :param n_runs: How many runs to take the MSE over\n",
    "    :return: MSE, the mean squared error over all runs\n",
    "    \"\"\"\n",
    "    # === YOUR CODE HERE ===\n",
    "\n",
    "    for curr_run in n_runs:\n",
    "        x = draw_sample()\n",
    "        y = estimator()\n",
    "    \n",
    "    # === END OF YOUR CODE ===\n",
    "    \n",
    "    return MSE"
   ]
  },
  {
   "cell_type": "code",
   "execution_count": null,
   "metadata": {
    "scrolled": true
   },
   "outputs": [],
   "source": [
    "\n",
    "samples = draw_sample()\n",
    "# Calculate the MSE for the natural estimator\n",
    "empirical_MSE_natural = empirical_mean_square_error(estimator=theta_n, n_runs=1000)\n",
    "\n",
    "print(\"Empirical MSE for the natural estimator: \")\n",
    "print(empirical_MSE_natural)"
   ]
  },
  {
   "cell_type": "markdown",
   "metadata": {},
   "source": [
    "Compare the result of the empirical testing with the analytic solution:\n",
    "\n",
    "=== YOUR ANSWER HERE ===\n"
   ]
  },
  {
   "cell_type": "markdown",
   "metadata": {},
   "source": [
    "---\n",
    "__c)__ Repeat the process with the sillty estimator $\\theta_s(y) = 0$"
   ]
  },
  {
   "cell_type": "code",
   "execution_count": null,
   "metadata": {},
   "outputs": [],
   "source": [
    "def theta_s(y):\n",
    "    \"\"\"\n",
    "    Function that represents the silly estimator.\n",
    "    \n",
    "    This function should return a single value, which represents the result of the estimator.\n",
    "    :param y: The measurement y\n",
    "    :return: The estimate corresponding to the measurement given as input\n",
    "    \"\"\"\n",
    "    # === YOUR CODE HERE ===\n",
    "    \n",
    "    \n",
    "    # === END OF YOUR CODE ===\n",
    "    \n",
    "    return result"
   ]
  },
  {
   "cell_type": "code",
   "execution_count": null,
   "metadata": {},
   "outputs": [],
   "source": [
    "# Calculate the MSE for the silly estimator using the same function as before\n",
    "empirical_MSE_silly = empirical_mean_square_error(estimator=theta_s, n_runs=1000)\n",
    "\n",
    "print(\"Empirical MSE for the silly estimator: \")\n",
    "print(empirical_MSE_silly)"
   ]
  },
  {
   "cell_type": "markdown",
   "metadata": {},
   "source": [
    "Compare the result of the empirical testing with the analytic solution, this time for $\\theta_s$:\n",
    "\n",
    "=== YOUR ANSWER HERE ===\n"
   ]
  }
 ],
 "metadata": {
  "kernelspec": {
   "display_name": "Python 3",
   "language": "python",
   "name": "python3"
  },
  "language_info": {
   "codemirror_mode": {
    "name": "ipython",
    "version": 3
   },
   "file_extension": ".py",
   "mimetype": "text/x-python",
   "name": "python",
   "nbconvert_exporter": "python",
   "pygments_lexer": "ipython3",
   "version": "3.7.4"
  }
 },
 "nbformat": 4,
 "nbformat_minor": 4
}
