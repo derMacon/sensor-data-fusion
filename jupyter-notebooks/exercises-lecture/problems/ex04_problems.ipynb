{
 "cells": [
  {
   "cell_type": "markdown",
   "metadata": {},
   "source": [
    "# Sensor Data Fusion\n",
    "Lecturer: Prof. Baum \\\n",
    "Tutor: Shishan Yang and Laura Wolf\\\n",
    "Semester: Winter 20/21\n",
    "## Homework 4\n",
    "\n",
    "Given are two one-dimensional (uncorrelated) sensor readings $y_1\\in\\mathbb{R}$ and $y_2\\in\\mathbb{R}$ of a one-dimensional location $x\\in\\mathbb{R}$.\\\n",
    "The variances of the errors are $\\sigma_1^2=2$ for the first and $\\sigma_2^2=3$ for the second sensor.\n",
    "        "
   ]
  },
  {
   "cell_type": "markdown",
   "metadata": {},
   "source": [
    "---\n",
    "The following tasks will have missing sections marked that you should fill out. \n",
    "\n",
    "Missing code parts are marked by\n",
    "```\n",
    "# ... code code code\n",
    "=== YOUR CODE HERE ===\n",
    "\n",
    "=== END OF YOUR CODE ===\n",
    "# ... code code code\n",
    "```\n",
    "If you are asked to implement a function, make sure to check what variable will be returned by the function and to fill it accordingly. Do not change code outside of the indicated sections.\n",
    "\n",
    "Furthermore, some questions require theoretical answers instead of python code.\n",
    "\n",
    "Such questions will have a field marked like this: \n",
    "\n",
    "=== YOUR ANSWER HERE === "
   ]
  },
  {
   "cell_type": "code",
   "execution_count": null,
   "metadata": {},
   "outputs": [],
   "source": [
    "# import statements\n",
    "import numpy as np\n",
    "import matplotlib.pyplot as plt\n",
    "import math\n",
    "from numpy.linalg import inv"
   ]
  },
  {
   "cell_type": "markdown",
   "metadata": {},
   "source": [
    "---\n",
    "### a)\n",
    "Formulate the (joint) measurement equation for the fusion of the two measurements."
   ]
  },
  {
   "cell_type": "markdown",
   "metadata": {},
   "source": [
    "=== YOUR ANSWER HERE ==="
   ]
  },
  {
   "cell_type": "markdown",
   "metadata": {},
   "source": [
    "---\n",
    "### b)\n",
    "Now, implement the measurement model from a).\n",
    "\n",
    "Then, write a function that simulates $m=1000$ measurements using the measurement model in a) with true $x=2$."
   ]
  },
  {
   "cell_type": "code",
   "execution_count": null,
   "metadata": {},
   "outputs": [],
   "source": [
    "# def. of variables:\n",
    "\n",
    "# true location\n",
    "x = 2\n",
    "\n",
    "# m, the number of samples\n",
    "nr_samples = 1000\n",
    "\n",
    "# Measurement matrix H and Error Covariance Ce:\n",
    "# Implement the measurement model here. You can see the correct dimensions of H and Ce at the end of this cell!\n",
    "\n",
    "# === YOUR CODE HERE ===\n",
    "# H = ...\n",
    "\n",
    "# Ce = ...\n",
    "\n",
    "# === END OF YOUR CODE ===\n",
    "\n",
    "H = np.array(H)\n",
    "assert H.shape == (2,1)  # H should be of shape 2x1\n",
    "Ce = np.array(Ce)\n",
    "assert Ce.shape == (2,2)  # Ce should be of shape 2x2"
   ]
  },
  {
   "cell_type": "code",
   "execution_count": null,
   "metadata": {},
   "outputs": [],
   "source": [
    "def generate_sample(x, m, H, Ce):\n",
    "    \"\"\"\n",
    "    Function that generates a sample of size m for measurement matrix H, Error Covariance Ce and true location x\n",
    "    :param x: true location, scalar\n",
    "    :param m: The number of samples\n",
    "    :param H: measurement matrix\n",
    "    :param Ce: error cov matrix\n",
    "    :return: y_sam, the sample of measurements\n",
    "    \"\"\"\n",
    "    \n",
    "    # === YOUR CODE HERE ===\n",
    "    \n",
    "    \n",
    "    # === END OF YOUR CODE ===\n",
    "    \n",
    "    # the resulting array needs to be of shape (no_measurements, no_samples)\n",
    "    # which should be (2, 1000) for this exercise\n",
    "    assert y_sam.shape == (len(H), m)\n",
    "    \n",
    "    # return the result\n",
    "    return y_sam\n",
    "\n",
    "# Now, we sample nr_samples measurements for later use:\n",
    "y_sam = generate_sample(x, nr_samples, H, Ce)"
   ]
  },
  {
   "cell_type": "code",
   "execution_count": null,
   "metadata": {},
   "outputs": [],
   "source": [
    "# Let's take a look at our measurements:\n",
    "plt.scatter(y_sam[0,:], y_sam[1, :], c='r', label=\"Measurements\", alpha=0.15)\n",
    "plt.scatter(x, x, c='g', label=\"True Location\", marker=\"X\", s=75)\n",
    "plt.title(\"True Location and Measurements\")\n",
    "plt.legend(bbox_to_anchor=(1.05,1))\n",
    "plt.axis('scaled')\n",
    "plt.xlabel(\"$y_1$\")\n",
    "plt.ylabel(\"$y_2$\")\n",
    "plt.show()"
   ]
  },
  {
   "cell_type": "markdown",
   "metadata": {},
   "source": [
    "---\n",
    "### c)\n",
    "\n",
    "For each simulated measurement, calculate the weighted least squares (WLS) solution using $W^{-1}=\\begin{pmatrix}2 & 0\\\\0 & c\\end{pmatrix}$ with $c=1,...,10$. \n",
    "\n",
    "Which value for $c$ provides the BLUE estimate?"
   ]
  },
  {
   "cell_type": "markdown",
   "metadata": {},
   "source": [
    "First, calculate the WLS solution for all $c$-s and each simulated measurement.\n",
    "Consider visualizing the results!"
   ]
  },
  {
   "cell_type": "code",
   "execution_count": null,
   "metadata": {},
   "outputs": [],
   "source": [
    "# === YOUR CODE HERE ===\n",
    "\n",
    "\n",
    "\n",
    "# === END OF YOUR CODE ==="
   ]
  },
  {
   "cell_type": "markdown",
   "metadata": {},
   "source": [
    "Which value for 𝑐 provides the BLUE estimate?"
   ]
  },
  {
   "cell_type": "markdown",
   "metadata": {},
   "source": [
    "=== YOUR ANSWER HERE ===\n"
   ]
  },
  {
   "cell_type": "markdown",
   "metadata": {},
   "source": [
    "---\n",
    "### d)\n",
    "\n",
    "Derive an analytic formula for the variance of the weighted least squares solution, using the $W$ providing the BLUE estimate."
   ]
  },
  {
   "cell_type": "markdown",
   "metadata": {},
   "source": [
    "=== YOUR ANSWER HERE ===\n"
   ]
  },
  {
   "cell_type": "markdown",
   "metadata": {},
   "source": [
    "---\n",
    "### e)\n",
    "\n",
    "Check if the analytical solution coincides with the empirical variance of the WLS solution from c)"
   ]
  },
  {
   "cell_type": "markdown",
   "metadata": {},
   "source": [
    "=== YOUR ANSWER HERE ===\n"
   ]
  }
 ],
 "metadata": {
  "kernelspec": {
   "display_name": "Python 3",
   "language": "python",
   "name": "python3"
  },
  "language_info": {
   "codemirror_mode": {
    "name": "ipython",
    "version": 3
   },
   "file_extension": ".py",
   "mimetype": "text/x-python",
   "name": "python",
   "nbconvert_exporter": "python",
   "pygments_lexer": "ipython3",
   "version": "3.7.3"
  }
 },
 "nbformat": 4,
 "nbformat_minor": 4
}
