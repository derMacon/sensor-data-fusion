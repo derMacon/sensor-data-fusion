{
 "cells": [
  {
   "cell_type": "markdown",
   "metadata": {},
   "source": [
    "# Sensor Data Fusion\n",
    "Lecturer: Prof. Baum \\\n",
    "Tutor: Kolja Thormann \\\n",
    "Semester: Winter 21/22\n",
    "## Homework 6\n",
    "\n",
    "Assume a robot in 2D-space. Its position is modeled as a Gaussian random variable. The prior has $\\hat{\\textbf{x}}_0=\\begin{bmatrix}0 & 0\\end{bmatrix}^\\text{T}$ and\n",
    "$$\n",
    "\\textbf{C}_0=\\begin{bmatrix}1 & 0\\\\0 & 1\\end{bmatrix}\\enspace\n",
    "$$"
   ]
  },
  {
   "cell_type": "markdown",
   "metadata": {},
   "source": [
    "---\n",
    "The following tasks will have missing sections marked that you should fill out. \n",
    "\n",
    "Missing code parts are marked by\n",
    "```\n",
    "# ... code code code\n",
    "=== YOUR CODE HERE ===\n",
    "\n",
    "=== END OF YOUR CODE ===\n",
    "# ... code code code\n",
    "```\n",
    "If you are asked to implement a function, make sure to check what variable will be returned by the function and to fill it accordingly. Do not change code outside of the indicated sections.\n",
    "\n",
    "Furthermore, some questions require theoretical answers instead of python code.\n",
    "\n",
    "Such questions will have a field marked like this: \n",
    "\n",
    "=== YOUR ANSWER HERE === "
   ]
  },
  {
   "cell_type": "code",
   "execution_count": 56,
   "metadata": {
    "ExecuteTime": {
     "start_time": "2023-06-14T15:41:08.107331Z",
     "end_time": "2023-06-14T15:41:08.234942Z"
    }
   },
   "outputs": [],
   "source": [
    "# import statements\n",
    "import numpy as np\n",
    "import matplotlib.pyplot as plt\n",
    "import math\n",
    "from numpy.linalg import inv\n",
    "from matplotlib.patches import Ellipse\n"
   ]
  },
  {
   "cell_type": "markdown",
   "metadata": {},
   "source": [
    "---\n",
    "### a)\n",
    "A sensor measures the robot's true position. Formulate and implement a measurement equation assuming independent zero-mean Gaussian noise with\n",
    "$$\n",
    "\\textbf{R}=\\begin{bmatrix}0.2 & 0\\\\0 & 0.2\\end{bmatrix}\\enspace.\n",
    "$$"
   ]
  },
  {
   "cell_type": "code",
   "execution_count": 57,
   "metadata": {
    "ExecuteTime": {
     "start_time": "2023-06-14T15:41:08.113377Z",
     "end_time": "2023-06-14T15:41:08.316707Z"
    }
   },
   "outputs": [],
   "source": [
    "# def. of variables\n",
    "t = 1\n",
    "num_m = 5\n",
    "\n",
    "x_hat_prior = np.array([0, 0])\n",
    "x_cov_prior = np.array([[1, 0], [0, 1]])\n",
    "\n",
    "R = np.array([[0.2, 0], [0, 0.2]])"
   ]
  },
  {
   "cell_type": "code",
   "execution_count": 58,
   "metadata": {
    "ExecuteTime": {
     "start_time": "2023-06-14T15:41:08.125109Z",
     "end_time": "2023-06-14T15:41:08.472327Z"
    }
   },
   "outputs": [],
   "source": [
    "def measurement_model(x, R):\n",
    "    \"\"\"\n",
    "    Function that takes a measurement of x based on zero-mean Guassian noise with R according to parameters.\n",
    "    :param x: true location\n",
    "    :param R: noise\n",
    "    :return: y, the resulting measurement\n",
    "    \"\"\"\n",
    "    \n",
    "    # === YOUR CODE HERE ===\n",
    "\n",
    "    e = np.random.multivariate_normal(np.zeros(2), R)\n",
    "    y = x + e\n",
    "\n",
    "    # === END OF YOUR CODE ===\n",
    "    \n",
    "    return y"
   ]
  },
  {
   "cell_type": "markdown",
   "metadata": {},
   "source": [
    "---\n",
    "### b) \n",
    "Implement a function which samples a true position of $\\textbf{x}$ from the prior and then generates a measurement from the true position using the function from a)."
   ]
  },
  {
   "cell_type": "code",
   "execution_count": 59,
   "metadata": {
    "ExecuteTime": {
     "start_time": "2023-06-14T15:41:08.125402Z",
     "end_time": "2023-06-14T15:41:08.473413Z"
    }
   },
   "outputs": [],
   "source": [
    "def draw_sample(x_hat, x_cov, R):\n",
    "    \"\"\"\n",
    "    Samples a true position of x from the prior and generates a measurement from the true position\n",
    "    :param x_hat: x_hat of prior\n",
    "    :param x_cov: cov of prior\n",
    "    :param R: measurement noise parameter\n",
    "    :return: (x,y) the tuple containing the sample and the measurement\n",
    "    \"\"\"\n",
    "    \n",
    "    # === YOUR CODE HERE ===\n",
    "\n",
    "    # x_hat state from last estimation (xcov gehoert dazu)\n",
    "    # x_cov hier als Bewegungsvektor\n",
    "\n",
    "    x = np.random.multivariate_normal(x_hat, x_cov)\n",
    "    y = measurement_model(x, R)\n",
    "\n",
    "    # === END OF YOUR CODE ===\n",
    "    \n",
    "    return x, y "
   ]
  },
  {
   "cell_type": "markdown",
   "metadata": {},
   "source": [
    "---\n",
    "### c)\n",
    "Implement the Kalman update formula to calculate the posterior distribution."
   ]
  },
  {
   "cell_type": "code",
   "execution_count": 60,
   "metadata": {
    "ExecuteTime": {
     "start_time": "2023-06-14T15:41:08.139344Z",
     "end_time": "2023-06-14T15:41:08.474074Z"
    }
   },
   "outputs": [],
   "source": [
    "def update(x, x_cov, y, R):\n",
    "    \"\"\"\n",
    "    Function that implements the Kalman update formula.\n",
    "    :param x: current x position\n",
    "    :param x_cov: current cov. of x\n",
    "    :param y: measurement\n",
    "    :param R: measurement noise\n",
    "    :return: (x_new, x_cov_new) the new values for the position and its covariance\n",
    "    \"\"\"\n",
    "    \n",
    "    # === YOUR CODE HERE ===\n",
    "\n",
    "    print(\"div: \", (x_cov + R)**-1)\n",
    "    print(\"xcov: \", x_cov)\n",
    "    print(\"R: \", R)\n",
    "\n",
    "    kalman_gain = x_cov @ inv((x_cov.T + R))\n",
    "    x_new = x + kalman_gain @ (y - x)\n",
    "    x_cov_new = x_cov - kalman_gain @ x_cov\n",
    "\n",
    "    # === END OF YOUR CODE ===\n",
    "    \n",
    "    return x_new, x_cov_new"
   ]
  },
  {
   "cell_type": "markdown",
   "metadata": {},
   "source": [
    "---\n",
    "### d) \n",
    "Now, assume the sensor will provide 5 measurements in a row. Use the Kalman filter update formulas to update the robot's state recursively."
   ]
  },
  {
   "cell_type": "markdown",
   "metadata": {},
   "source": [
    "Please implement a simple simulation that will draw `num_m` measurements $y$ in a row and apply the update function to each $y$.\n",
    "\n",
    "Visualize the measurements and the current `x_hat` after each step."
   ]
  },
  {
   "cell_type": "code",
   "execution_count": 61,
   "metadata": {
    "ExecuteTime": {
     "start_time": "2023-06-14T15:41:08.144493Z",
     "end_time": "2023-06-14T15:41:08.485866Z"
    }
   },
   "outputs": [
    {
     "data": {
      "text/plain": "<matplotlib.collections.PathCollection at 0x7fd9a2d09550>"
     },
     "execution_count": 61,
     "metadata": {},
     "output_type": "execute_result"
    },
    {
     "data": {
      "text/plain": "<Figure size 640x480 with 1 Axes>",
      "image/png": "[encoded data removed]"
     },
     "metadata": {},
     "output_type": "display_data"
    }
   ],
   "source": [
    "# set x_hat and x_cov to the prior values\n",
    "x_hat = x_hat_prior\n",
    "x_cov = x_cov_prior\n",
    "\n",
    "# === YOUR CODE HERE ===\n",
    "\n",
    "samples = []\n",
    "for curr_sample in range(num_m):\n",
    "    samples.append(draw_sample(x_hat, x_cov, R))\n",
    "\n",
    "# x_vals = samples[:, 0]\n",
    "y_vals = np.array(samples)[:, 1]\n",
    "\n",
    "x_coord = y_vals[:, 0]\n",
    "y_coord = y_vals[:, 1]\n",
    "\n",
    "plt.scatter(x_hat_prior[0], x_hat_prior[1], color='red')\n",
    "plt.scatter(x_coord, y_coord)\n",
    "\n",
    "\n",
    "# === END OF YOUR CODE ==="
   ]
  },
  {
   "cell_type": "code",
   "execution_count": 61,
   "outputs": [],
   "source": [],
   "metadata": {
    "collapsed": false,
    "ExecuteTime": {
     "start_time": "2023-06-14T15:41:08.362044Z",
     "end_time": "2023-06-14T15:41:08.486066Z"
    }
   }
  },
  {
   "cell_type": "markdown",
   "metadata": {},
   "source": [
    "---\n",
    "### e)\n",
    "Visualize the robot's covariance matrix as an ellipse and observe how it changes with each update."
   ]
  },
  {
   "cell_type": "code",
   "execution_count": 62,
   "metadata": {
    "ExecuteTime": {
     "start_time": "2023-06-14T15:41:08.362272Z",
     "end_time": "2023-06-14T15:41:08.551785Z"
    }
   },
   "outputs": [
    {
     "name": "stderr",
     "output_type": "stream",
     "text": [
      "/tmp/ipykernel_15945/2591429200.py:16: MatplotlibDeprecationWarning: Passing the angle parameter of __init__() positionally is deprecated since Matplotlib 3.6; the parameter will become keyword-only two minor releases later.\n",
      "  ell = Ellipse(m, 2.0*np.sqrt(eig_vals[0]), 2.0*np.sqrt(eig_vals[1]), np.rad2deg(psi), fill=False, color=kwargs.get('color'), linewidth=1.5)\n"
     ]
    },
    {
     "data": {
      "text/plain": "<Figure size 640x480 with 1 Axes>",
      "image/png": "[encoded data removed]"
     },
     "metadata": {},
     "output_type": "display_data"
    }
   ],
   "source": [
    "def visualize_covariance(C, m, **kwargs):\n",
    "    \"\"\"\n",
    "    Adds a visualization of a covariance matrix as an ellipse to the current matplotlib plot.\n",
    "    :param C: Covariance matrix\n",
    "    :param m: Mean\n",
    "    :param color: color to draw in (for matplotlib)\n",
    "    \"\"\"\n",
    "    # ensure everything is numpy\n",
    "    C = np.array(C)\n",
    "    m = np.array(m)\n",
    "    \n",
    "    # === YOUR CODE HERE ===\n",
    "\n",
    "    eig_vals, eig_vecs = np.linalg.eig(C)\n",
    "    psi = np.arctan2(eig_vecs[1, 0], eig_vecs[0, 0])\n",
    "    ell = Ellipse(m, 2.0*np.sqrt(eig_vals[0]), 2.0*np.sqrt(eig_vals[1]), np.rad2deg(psi), fill=False, color=kwargs.get('color'), linewidth=1.5)\n",
    "    ax.add_artist(ell)\n",
    "\n",
    "    # === END OF YOUR CODE ===\n",
    "    \n",
    "    return  # no return value\n",
    "\n",
    "# test the above function with a very simple example\n",
    "fig, ax = plt.subplots()\n",
    "\n",
    "visualize_covariance([[1, 0],[0, 1]], [0, 0], color='b')\n",
    "visualize_covariance([[2, 0],[0, 0.5]], [3, 0], color='g')\n",
    "visualize_covariance([[0.5, 0],[0, 2]], [3, 0], color='r')\n",
    "\n",
    "plt.title(\"Example Cov. Matrix Visualizations\")\n",
    "plt.axis((-6, 6, -6, 6))\n",
    "\n",
    "ax.set_aspect('equal')  # ensure the resulting window is square\n",
    "\n",
    "plt.show()"
   ]
  },
  {
   "cell_type": "markdown",
   "metadata": {},
   "source": [
    "Now, combine this function with your code from above to re-create the plots, but this time with the covariance matrix visualized as an ellipse too."
   ]
  },
  {
   "cell_type": "code",
   "execution_count": 63,
   "metadata": {
    "ExecuteTime": {
     "start_time": "2023-06-14T15:41:09.805645Z",
     "end_time": "2023-06-14T15:41:09.910338Z"
    }
   },
   "outputs": [
    {
     "name": "stdout",
     "output_type": "stream",
     "text": [
      "div:  [[0.83333333        inf]\n",
      " [       inf 0.83333333]]\n",
      "xcov:  [[1 0]\n",
      " [0 1]]\n",
      "R:  [[0.2 0. ]\n",
      " [0.  0.2]]\n",
      "div:  [[2.72727273        inf]\n",
      " [       inf 2.72727273]]\n",
      "xcov:  [[0.16666667 0.        ]\n",
      " [0.         0.16666667]]\n",
      "R:  [[0.2 0. ]\n",
      " [0.  0.2]]\n",
      "div:  [[3.4375    inf]\n",
      " [   inf 3.4375]]\n",
      "xcov:  [[0.09090909 0.        ]\n",
      " [0.         0.09090909]]\n",
      "R:  [[0.2 0. ]\n",
      " [0.  0.2]]\n",
      "div:  [[3.80952381        inf]\n",
      " [       inf 3.80952381]]\n",
      "xcov:  [[0.0625 0.    ]\n",
      " [0.     0.0625]]\n",
      "R:  [[0.2 0. ]\n",
      " [0.  0.2]]\n",
      "div:  [[4.03846154        inf]\n",
      " [       inf 4.03846154]]\n",
      "xcov:  [[0.04761905 0.        ]\n",
      " [0.         0.04761905]]\n",
      "R:  [[0.2 0. ]\n",
      " [0.  0.2]]\n"
     ]
    },
    {
     "name": "stderr",
     "output_type": "stream",
     "text": [
      "/tmp/ipykernel_15945/4062566442.py:13: RuntimeWarning: divide by zero encountered in reciprocal\n",
      "  print(\"div: \", (x_cov + R)**-1)\n",
      "/tmp/ipykernel_15945/2591429200.py:16: MatplotlibDeprecationWarning: Passing the angle parameter of __init__() positionally is deprecated since Matplotlib 3.6; the parameter will become keyword-only two minor releases later.\n",
      "  ell = Ellipse(m, 2.0*np.sqrt(eig_vals[0]), 2.0*np.sqrt(eig_vals[1]), np.rad2deg(psi), fill=False, color=kwargs.get('color'), linewidth=1.5)\n"
     ]
    }
   ],
   "source": [
    "# set x_hat and x_cov to the prior values\n",
    "x_hat = x_hat_prior\n",
    "x_cov = x_cov_prior\n",
    "\n",
    "# === YOUR CODE HERE ===\n",
    "\n",
    "for (x, y) in samples:\n",
    "    x_hat, x_cov = update(x_hat, x_cov, y, R)\n",
    "    visualize_covariance(x_cov, y, color='red')\n",
    "\n",
    "\n",
    "\n",
    "# === END OF YOUR CODE ==="
   ]
  }
 ],
 "metadata": {
  "kernelspec": {
   "display_name": "Python 3 (ipykernel)",
   "language": "python",
   "name": "python3"
  },
  "language_info": {
   "codemirror_mode": {
    "name": "ipython",
    "version": 3
   },
   "file_extension": ".py",
   "mimetype": "text/x-python",
   "name": "python",
   "nbconvert_exporter": "python",
   "pygments_lexer": "ipython3",
   "version": "3.9.7"
  }
 },
 "nbformat": 4,
 "nbformat_minor": 4
}
