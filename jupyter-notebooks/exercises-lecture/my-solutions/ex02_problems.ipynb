{
 "cells": [
  {
   "attachments": {},
   "cell_type": "markdown",
   "metadata": {},
   "source": [
    "# Sensor Data Fusion\n",
    "\n",
    "Lecturer: Prof. Baum \\\n",
    "Tutor: Shishan Yang and Laura Wolf\\\n",
    "Semester: Winter 20/21\n",
    "\n",
    "## Homework 2\n",
    "\n",
    "GPS consists of  24 satellites in  orbit (20200km above mean sea level). \n",
    "\n",
    "Each  satellite broadcasts its location (in spherical coordinates $[\\theta, \\phi, r]^T$) plus the emission time (see figures below).\n",
    "\n",
    "A GPS device receives at time $t=0s$ the following four satellite signals:\n",
    "\n",
    "| $i$ | $p_i$ | $t_i$ |\n",
    "| :--- | :---: | ---: |\n",
    "| 1 | $[  0^{°},  40^{°}, 20200 \\text{km}]^T$ | -67.603 ms |\n",
    "| 2 | $[ 10^{°},  20^{°}, 20200 \\text{km}]^T$ | -70.102 ms |\n",
    "| 3 | $[ 10^{°}, -10^{°}, 20200 \\text{km}]^T$ | -78.690 ms |\n",
    "| 4 | $[ -10^{°}, -20^{°}, 20200 \\text{km}]^T$ | -82.942 ms |\n",
    "\n",
    "Assume that the speed-of-light is $c=3\\cdot10^8\\text{ms}^{-1}$ and the Earth is an ideal sphere with radius $r^{\\text{E}}=6370 \\text{km}$.\n",
    "\n",
    "![Satellite Visuals](https://owncloud.gwdg.de/index.php/s/guLnIkLe4aOcL1E/download)"
   ]
  },
  {
   "attachments": {},
   "cell_type": "markdown",
   "metadata": {},
   "source": [
    "---\n",
    "The following tasks will have missing sections marked that you should fill out. \n",
    "\n",
    "Missing code parts are marked by\n",
    "```\n",
    "# ... code code code\n",
    "=== YOUR CODE HERE ===\n",
    "\n",
    "=== END OF YOUR CODE ===\n",
    "# ... code code code\n",
    "```\n",
    "If you are asked to implement a function, make sure to check what variable will be returned by the function and to fill it accordingly. Do not change code outside of the indicated sections.\n",
    "\n",
    "Furthermore, some questions require theoretical answers instead of python code.\n",
    "\n",
    "Such questions will have a field marked like this: \n",
    "\n",
    "=== YOUR ANSWER HERE === "
   ]
  },
  {
   "cell_type": "code",
   "execution_count": 53,
   "metadata": {
    "ExecuteTime": {
     "end_time": "2023-07-05T16:48:09.739243Z",
     "start_time": "2023-07-05T16:48:09.681038Z"
    }
   },
   "outputs": [],
   "source": [
    "# import statements\n",
    "import numpy as np\n",
    "import matplotlib.pyplot as plt\n",
    "import math"
   ]
  },
  {
   "cell_type": "code",
   "execution_count": 54,
   "metadata": {
    "ExecuteTime": {
     "end_time": "2023-07-05T16:48:09.794812Z",
     "start_time": "2023-07-05T16:48:09.681116Z"
    }
   },
   "outputs": [],
   "source": [
    "# Definition of global variables\n",
    "speed_light = 3 * math.pow(10, 5)  # Speed of light def. - 10^5 because we want km/s\n",
    "R = 6370  # earth radius (assuming earth is a perfect sphere)\n",
    "t = np.array([67.603e-3, 70.102e-3, 78.690e-3, 82.942e-3])  # emission times\n",
    "\n",
    "# location in spherical coordinates\n",
    "p = [\n",
    "    [0, 40, 20200],\n",
    "    [10, 20, 20200],\n",
    "    [10, -10, 20200],\n",
    "    [-10,-20, 20200]\n",
    "    ]\n",
    "p = np.array(p)\n",
    "spher_coor_p = p  # add a second alias..."
   ]
  },
  {
   "attachments": {},
   "cell_type": "markdown",
   "metadata": {},
   "source": [
    "---\n",
    "### a)\n",
    "Write a function which converts sphere coordinates $(\\theta,\\phi,r)$ into Cartesian coordinates $(x,y,z)$\n",
    "\n",
    "Hints: \n",
    "- The $x$ coordinates could be obtained according to $x = (r^\\text{E}+r)\\,cos\\phi\\,cos\\theta$\n",
    "- You could use `math.radians(...)` to convert degrees to radians"
   ]
  },
  {
   "cell_type": "code",
   "execution_count": 55,
   "metadata": {
    "ExecuteTime": {
     "end_time": "2023-07-05T16:48:09.865183Z",
     "start_time": "2023-07-05T16:48:09.686014Z"
    }
   },
   "outputs": [],
   "source": [
    "def sphere_to_cartesian(p_sphere, R):\n",
    "    \"\"\"\n",
    "    Function that converts spherical to cartesian coordinates. \n",
    "    :param p_sphere: 3x1 vector [theta, phi, R] with\n",
    "    theta, longitude in degree\n",
    "    phi, latitude in degree\n",
    "    r, altitude in km\n",
    "    :param R: earth radius in km\n",
    "    :return: p_cartesian, converted cartesian coordinates, as 3x1 vector [x,y,z]\n",
    "    \"\"\"\n",
    "    # make sure everything is numpy\n",
    "    p_sphere = np.array(p_sphere)\n",
    "    \n",
    "    # === YOUR CODE HERE ===\n",
    "\n",
    "    # unbox p_sphere and convert to radians\n",
    "    theta = math.radians(p_sphere[0])\n",
    "    phi = math.radians(p_sphere[1])\n",
    "    r = p_sphere[2]\n",
    "\n",
    "    # calculate x,y,z, position\n",
    "    x = (R + r) * math.cos(phi) * math.cos(theta)\n",
    "    y = (R + r) * math.cos(phi) * math.sin(theta)\n",
    "    z = (R + r) * math.sin(phi)\n",
    "    p_cartesian = [x, y, z]\n",
    "\n",
    "    # === END OF YOUR CODE ===\n",
    "    \n",
    "    return p_cartesian"
   ]
  },
  {
   "attachments": {},
   "cell_type": "markdown",
   "metadata": {},
   "source": [
    "Using the function you implemented, the Cartesian coordinates of these four Satellites will be calculated:"
   ]
  },
  {
   "cell_type": "code",
   "execution_count": 56,
   "metadata": {
    "ExecuteTime": {
     "end_time": "2023-07-05T16:48:09.865692Z",
     "start_time": "2023-07-05T16:48:09.690862Z"
    }
   },
   "outputs": [
    {
     "name": "stdout",
     "output_type": "stream",
     "text": [
      "Resulting cartesian Coordinates of the Satellite Locations:\n",
      "[20353.800853671244, 0.0, 17078.866789371346]\n",
      "[24588.318488043453, 4335.58395969483, 9087.475208163018]\n",
      "[25768.81646714079, 4543.737604081509, -4613.832080610339]\n",
      "[24588.318488043453, -4335.58395969483, -9087.475208163018]\n"
     ]
    }
   ],
   "source": [
    "# calculating the cartesian coordinates based on your function:\n",
    "cart_coor_p = []\n",
    "for location in spher_coor_p:\n",
    "    cart_coor_p.append(sphere_to_cartesian(location, R))\n",
    "    \n",
    "# take a look at the results:\n",
    "print(\"Resulting cartesian Coordinates of the Satellite Locations:\")\n",
    "for location in cart_coor_p:\n",
    "    print(location)"
   ]
  },
  {
   "attachments": {},
   "cell_type": "markdown",
   "metadata": {},
   "source": [
    "---\n",
    "### b)\n",
    "Please calculate the distance between satellites and GPS device."
   ]
  },
  {
   "cell_type": "code",
   "execution_count": 57,
   "metadata": {
    "ExecuteTime": {
     "end_time": "2023-07-05T16:48:09.866282Z",
     "start_time": "2023-07-05T16:48:09.695450Z"
    }
   },
   "outputs": [
    {
     "name": "stdout",
     "output_type": "stream",
     "text": [
      "Distances between satellites and GPS device:\n",
      "20280.899999999998\n",
      "21030.6\n",
      "23607.0\n",
      "24882.600000000002\n"
     ]
    }
   ],
   "source": [
    "d = np.zeros((4,))\n",
    "\n",
    "# Use the following section to fill d with the distances between satellites and the GPS device.\n",
    "# === YOUR CODE HERE ===\n",
    "\n",
    "# d = ...\n",
    "d = t * speed_light\n",
    "\n",
    "# === END OF YOUR CODE ===\n",
    "\n",
    "assert d.shape == (4,)  # make sure that d still has the correct shape\n",
    "print(\"Distances between satellites and GPS device:\")\n",
    "for distance in d:\n",
    "    print(distance)"
   ]
  },
  {
   "attachments": {},
   "cell_type": "markdown",
   "metadata": {},
   "source": [
    "Using the distance measurements, form the measurement equation like we did in the lecture.\n",
    "\n",
    "=== YOUR ANSWER HERE ===\n"
   ]
  },
  {
   "attachments": {},
   "cell_type": "markdown",
   "metadata": {},
   "source": [
    "### c)\n",
    "\n",
    "Reformulate the non-linear measurement equation in b) into a linear measurement equation."
   ]
  },
  {
   "attachments": {},
   "cell_type": "markdown",
   "metadata": {},
   "source": [
    "=== YOUR ANSWER HERE ===\n"
   ]
  },
  {
   "attachments": {},
   "cell_type": "markdown",
   "metadata": {},
   "source": [
    "Now, implement your reformulation so that the least squares estimate can be calculated."
   ]
  },
  {
   "cell_type": "code",
   "execution_count": 58,
   "metadata": {
    "ExecuteTime": {
     "end_time": "2023-07-05T16:48:09.867329Z",
     "start_time": "2023-07-05T16:48:09.867266Z"
    }
   },
   "outputs": [
    {
     "name": "stdout",
     "output_type": "stream",
     "text": [
      "H:  [[  8469.03526874  -8671.16791939 -52332.68399507]\n",
      " [     0.         -17342.33583878 -36349.90083265]\n",
      " [ -2360.99595819 -17758.64312755  -8947.28625511]]\n"
     ]
    }
   ],
   "source": [
    "cart_coor_p = np.array(cart_coor_p)\n",
    "\n",
    "# You will now need to create y and H of the measurement equation.\n",
    "#    y should be of shape (3,)\n",
    "#    H should be of shape (3,3)\n",
    "# === YOUR CODE HERE ===\n",
    "\n",
    "# y = ...\n",
    "last_p = cart_coor_p[-1:][0]\n",
    "cart_coor_p = cart_coor_p[:-1]\n",
    "\n",
    "last_d = d[-1:][0]\n",
    "d = d[:-1]\n",
    "\n",
    "y = np.power(d, 2) - last_d**2 - np.power(np.linalg.norm(cart_coor_p, axis=1), 2) + np.linalg.norm(last_p)**2\n",
    "\n",
    "# H = ...\n",
    "out_d_dim = cart_coor_p.shape[0]\n",
    "tiled_pm = np.tile(last_p, (out_d_dim, 1))\n",
    "\n",
    "H = 2 * (tiled_pm - cart_coor_p)\n",
    "print('H: ', H)\n",
    "\n",
    "# === END OF YOUR CODE ===\n",
    "\n",
    "y = np.array(y)\n",
    "H = np.array(H)\n",
    "\n",
    "# ensure everything is in the correct form\n",
    "assert y.shape == (3,)\n",
    "assert H.shape == (3,3)"
   ]
  },
  {
   "attachments": {},
   "cell_type": "markdown",
   "metadata": {},
   "source": [
    "Now, the least squares solution will be calculated using your y and H from above."
   ]
  },
  {
   "cell_type": "code",
   "execution_count": 59,
   "metadata": {
    "ExecuteTime": {
     "end_time": "2023-07-05T16:48:09.867584Z",
     "start_time": "2023-07-05T16:48:09.714007Z"
    }
   },
   "outputs": [
    {
     "name": "stdout",
     "output_type": "stream",
     "text": [
      "Least squares solution:\n",
      "4390.217078398175\n",
      "589.7516558629962\n",
      "4584.055837997476\n"
     ]
    }
   ],
   "source": [
    "x_hat = np.linalg.inv(H.T @ H) @ H.T @ y \n",
    "\n",
    "print(\"Least squares solution:\")\n",
    "for v in x_hat:\n",
    "    print(v)"
   ]
  },
  {
   "attachments": {},
   "cell_type": "markdown",
   "metadata": {},
   "source": [
    "### d)\n",
    "Write a function which converts the cartesian coordinates into sphere coordinates. Use the function you implemented, calculate the longitude and latitude of the GPS device, and find out where it is using using _GPS Visualizer_ :\n",
    "\n",
    "[http://www.gpsvisualizer.com/map?form=google](http://www.gpsvisualizer.com/map?form=google)"
   ]
  },
  {
   "cell_type": "code",
   "execution_count": 60,
   "metadata": {
    "ExecuteTime": {
     "end_time": "2023-07-05T16:48:09.867643Z",
     "start_time": "2023-07-05T16:48:09.718457Z"
    }
   },
   "outputs": [],
   "source": [
    "def cartesian_to_sphere(p_cartesian, R):\n",
    "    \"\"\"\n",
    "    :param p_cartesian: Point represented in cartesian coordinates as 3x1 vector\n",
    "    :param R: Earth Radius in km\n",
    "    :return: p_sphere, point represented in sphere coordinates, \n",
    "            3x1 vector: [theta, phi,r],  with\n",
    "            theta, longitude in degree\n",
    "            phi, latitude in degree\n",
    "            r, altitude in km\n",
    "    \"\"\"\n",
    "    p_cartesian = np.array(p_cartesian)\n",
    "    \n",
    "    # === YOUR CODE HERE ===\n",
    "    \n",
    "    x,y,z = p_cartesian\n",
    "    r = math.sqrt(x**2+y**2+z**2)-R\n",
    "    theta = math.degrees(np.arctan(y/x))\n",
    "    phi = math.degrees(np.arctan(z/(math.sqrt(x**2+y**2))))\n",
    "    p_sphere = [theta, phi, r]\n",
    "    \n",
    "    # === END OF YOUR CODE ===\n",
    "    \n",
    "    return p_sphere"
   ]
  },
  {
   "attachments": {},
   "cell_type": "markdown",
   "metadata": {},
   "source": [
    "Now, your function will be applied to acquire the resulting coordinates:"
   ]
  },
  {
   "cell_type": "code",
   "execution_count": 61,
   "metadata": {},
   "outputs": [
    {
     "name": "stdout",
     "output_type": "stream",
     "text": [
      "Spherical Coordinates of the Least Squares Result:\n",
      "Latitude: 45.98137730357141\n",
      "Longitude: 7.65092020943426\n",
      "r: 4.5886876669064804\n"
     ]
    }
   ],
   "source": [
    "p_GPS = cartesian_to_sphere(x_hat, R)\n",
    "\n",
    "print(\"Spherical Coordinates of the Least Squares Result:\")\n",
    "print(\"Latitude:\",p_GPS[1])\n",
    "print(\"Longitude:\", p_GPS[0])\n",
    "print(\"r:\",p_GPS[2])"
   ]
  },
  {
   "attachments": {},
   "cell_type": "markdown",
   "metadata": {},
   "source": [
    "To import this data into gpsvisualizer, copy the output of the following cell and paste it into the \"Paste your data here\" box on the bottom right to see where the location is on earth:"
   ]
  },
  {
   "cell_type": "code",
   "execution_count": 62,
   "metadata": {},
   "outputs": [
    {
     "name": "stdout",
     "output_type": "stream",
     "text": [
      "type,latitude,longitude\n",
      "W,45.981377,7.650920\n"
     ]
    }
   ],
   "source": [
    "# formatting for gpsvisualizer\n",
    "print(\"type,latitude,longitude\")\n",
    "print(\"W,{:f},{:f}\".format(p_GPS[1], p_GPS[0]))"
   ]
  }
 ],
 "metadata": {
  "kernelspec": {
   "display_name": "Python 3",
   "language": "python",
   "name": "python3"
  },
  "language_info": {
   "codemirror_mode": {
    "name": "ipython",
    "version": 3
   },
   "file_extension": ".py",
   "mimetype": "text/x-python",
   "name": "python",
   "nbconvert_exporter": "python",
   "pygments_lexer": "ipython3",
   "version": "3.11.4"
  },
  "toc": {
   "base_numbering": 1,
   "nav_menu": {},
   "number_sections": true,
   "sideBar": true,
   "skip_h1_title": false,
   "title_cell": "Table of Contents",
   "title_sidebar": "Contents",
   "toc_cell": false,
   "toc_position": {},
   "toc_section_display": true,
   "toc_window_display": false
  }
 },
 "nbformat": 4,
 "nbformat_minor": 4
}
