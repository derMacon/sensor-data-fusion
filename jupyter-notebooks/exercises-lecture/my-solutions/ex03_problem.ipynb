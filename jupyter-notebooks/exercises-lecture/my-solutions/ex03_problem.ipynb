{
 "cells": [
  {
   "attachments": {},
   "cell_type": "markdown",
   "metadata": {},
   "source": [
    "# Sensor Data Fusion\n",
    "\n",
    "Lecturer: Prof. Baum \\\n",
    "Tutor: Shishan Yang and Laura Wolf \\\n",
    "Semester: Winter 20/21\n",
    "\n",
    "## Homework 3\n",
    "\n",
    "Look again at the GPS setting of last homework (sattelites are $20200 \\text{km}$ above mean sea level, each  satellite broadcasts its location in spherical coordinates $[\\theta, \\phi, r]^T$ plus the emission time (see figures below), assume that the speed-of-light is $c=3\\cdot10^8\\text{ms}^{-1}$ and the Earth is an ideal sphere with radius $r^{\\text{E}}=6370 \\text{km}$)\n",
    "\n",
    "This time, the device only receives the first three sattelite signals at time $t=0\\text{s}$:\n",
    "\n",
    "| $i$ | $p_i$ | $t_i$ |\n",
    "| :--- | :---: | ---: |\n",
    "| 1 | $[  0^{°},  40^{°}, 20200 \\text{km}]^T$ | -67.603 ms |\n",
    "| 2 | $[ 10^{°},  20^{°}, 20200 \\text{km}]^T$ | -70.102 ms |\n",
    "| 3 | $[ 10^{°}, -10^{°}, 20200 \\text{km}]^T$ | -78.690 ms |\n",
    "\n",
    "\n",
    "![Satellite Visuals](https://owncloud.gwdg.de/index.php/s/guLnIkLe4aOcL1E/download)"
   ]
  },
  {
   "attachments": {},
   "cell_type": "markdown",
   "metadata": {},
   "source": [
    "---\n",
    "The following tasks will have missing sections marked that you should fill out. \n",
    "\n",
    "Missing code parts are marked by\n",
    "```\n",
    "# ... code code code\n",
    "=== YOUR CODE HERE ===\n",
    "\n",
    "=== END OF YOUR CODE ===\n",
    "# ... code code code\n",
    "```\n",
    "If you are asked to implement a function, make sure to check what variable will be returned by the function and to fill it accordingly. Do not change code outside of the indicated sections.\n",
    "\n",
    "Furthermore, some questions require theoretical answers instead of python code.\n",
    "\n",
    "Such questions will have a field marked like this: \n",
    "\n",
    "=== YOUR ANSWER HERE === "
   ]
  },
  {
   "cell_type": "code",
   "execution_count": 165,
   "metadata": {
    "ExecuteTime": {
     "end_time": "2023-07-11T02:03:35.112601Z",
     "start_time": "2023-07-11T02:03:35.031806Z"
    }
   },
   "outputs": [],
   "source": [
    "# import statements\n",
    "import numpy as np\n",
    "import matplotlib.pyplot as plt\n",
    "import math\n",
    "from numpy.linalg import inv\n",
    "import sympy as sym"
   ]
  },
  {
   "cell_type": "code",
   "execution_count": 166,
   "metadata": {
    "ExecuteTime": {
     "end_time": "2023-07-11T02:03:35.113269Z",
     "start_time": "2023-07-11T02:03:35.031928Z"
    }
   },
   "outputs": [],
   "source": [
    "# Definition of global variables\n",
    "speed_light = 3 * math.pow(10, 5)  # Speed of light def. - 10^5 because we want km/s\n",
    "R = 6370  # earth radius (assuming earth is a perfect sphere)\n",
    "t = np.array([67.603e-3, 70.102e-3, 78.690e-3])  # emission times\n",
    "\n",
    "# location in spherical coordinates\n",
    "p = [\n",
    "    [0, 40, 20200],\n",
    "    [10, 20, 20200],\n",
    "    [10, -10, 20200]\n",
    "    ]\n",
    "p = np.array(p)\n",
    "spher_coor_p = p  # add a second alias...\n",
    "\n",
    "# Ground Truth target location from the last exercise\n",
    "gt = np.array([4390.2170784, 589.75165586, 4584.055838])"
   ]
  },
  {
   "cell_type": "code",
   "execution_count": 167,
   "metadata": {
    "ExecuteTime": {
     "end_time": "2023-07-11T02:03:35.233081Z",
     "start_time": "2023-07-11T02:03:35.032001Z"
    }
   },
   "outputs": [],
   "source": [
    "# You will also be provided with sphere_to_cartesian and cartesian_to_sphere functions\n",
    "def sphere_to_cartesian(p_sphere, R):\n",
    "    \"\"\"\n",
    "    Function that converts spherical to cartesian coordinates. \n",
    "    :param p_sphere: 3x1 vector [theta, phi, R] with\n",
    "    theta, longitude in degree\n",
    "    phi, latitude in degree\n",
    "    r, altitude in km\n",
    "    :param R: earth radius in km\n",
    "    :return: p_cartesian, converted cartesian coordinates, as 3x1 vector [x,y,z]\n",
    "    \"\"\"\n",
    "    # make sure everything is numpy\n",
    "    p_sphere = np.array(p_sphere)\n",
    "    \n",
    "    # unbox p_sphere and convert to radians\n",
    "    theta = math.radians(p_sphere[0])\n",
    "    phi = math.radians(p_sphere[1])\n",
    "    r = p_sphere[2]\n",
    "    \n",
    "    # calculate x,y,z, position\n",
    "    x = (R + r) * math.cos(phi) * math.cos(theta)\n",
    "    y = (R + r) * math.cos(phi) * math.sin(theta)\n",
    "    z = (R + r) * math.sin(phi)\n",
    "    p_cartesian = [x, y, z]\n",
    "    \n",
    "    return p_cartesian\n",
    "\n",
    "def cartesian_to_sphere(p_cartesian, R):\n",
    "    \"\"\"\n",
    "    :param p_cartesian: Point represented in cartesian coordinates as 3x1 vector\n",
    "    :param R: Earth Radius in km\n",
    "    :return: p_sphere, point represented in sphere coordinates, \n",
    "            3x1 vector: [theta, phi,r],  with\n",
    "            theta, longitude in degree\n",
    "            phi, latitude in degree\n",
    "            r, altitude in km\n",
    "    \"\"\"\n",
    "    p_cartesian = np.array(p_cartesian)\n",
    "    \n",
    "    x,y,z = p_cartesian  # unpack array\n",
    "    r = math.sqrt(x**2 + y**2 + z**2) - R\n",
    "    theta = math.degrees(np.arctan(y/x))\n",
    "    phi = math.degrees(np.arctan(z / (math.sqrt(x**2 + y**2))))\n",
    "    p_sphere = [theta, phi, r]\n",
    "    \n",
    "    return p_sphere"
   ]
  },
  {
   "cell_type": "code",
   "execution_count": 168,
   "metadata": {
    "ExecuteTime": {
     "end_time": "2023-07-11T02:03:35.234099Z",
     "start_time": "2023-07-11T02:03:35.233645Z"
    }
   },
   "outputs": [],
   "source": [
    "# Further variable definitions:\n",
    "\n",
    "cart_coor_p = np.array([sphere_to_cartesian(pos, R) for pos in spher_coor_p])\n",
    "\n",
    "d = speed_light * t"
   ]
  },
  {
   "attachments": {},
   "cell_type": "markdown",
   "metadata": {},
   "source": [
    "---\n",
    "### a)\n",
    "Would the reformulation from last time still work? If not, explain why."
   ]
  },
  {
   "attachments": {},
   "cell_type": "markdown",
   "metadata": {},
   "source": [
    "=== YOUR ANSWER HERE ==="
   ]
  },
  {
   "attachments": {},
   "cell_type": "markdown",
   "metadata": {},
   "source": [
    "---\n",
    "### b)\n",
    "Instead of reformulating the measurement equation into a linear equation, implement the Gauss-Newton method to calculate the least squares solution.\n",
    "\n",
    "Hints: \n",
    "- you will need to use symbolic python (the package sympy is already imported)\n",
    "- you will need to use sym.Matrix instead of np.array for most variables: convert np arrays into sympy as necessary, the two packages don't mix well\n",
    "- sympy provides .jacobian(...) for calculating the Jacobian\n",
    "- sympy provides .subs(...) for symbolic substitution \n"
   ]
  },
  {
   "cell_type": "code",
   "execution_count": 169,
   "metadata": {
    "ExecuteTime": {
     "end_time": "2023-07-11T02:03:20.376434Z",
     "start_time": "2023-07-11T02:03:20.296514Z"
    },
    "pycharm": {
     "is_executing": true
    }
   },
   "outputs": [],
   "source": [
    "def gauss_newton(y, h, x1, x2, x3, x_init):\n",
    "    \"\"\"\n",
    "    Applies the Gauss-Newton method.\n",
    "    :param y: measurements\n",
    "    :param h: non-linear measurement matrix\n",
    "    :param x1: symbolic variable representing the dimension of the state\n",
    "    :param x2: symbolic variable representing the dimension of the state\n",
    "    :param x3: symbolic variable representing the dimension of the state\n",
    "    :return: x_hat, the resulting estimate\n",
    "    \"\"\"\n",
    "    y = sym.Matrix(3, 1, y)\n",
    "    x_init = np.array(x_init)\n",
    "\n",
    "    # === YOUR CODE HERE ===\n",
    "\n",
    "    print('h: ', h)\n",
    "    X = sym.Matrix(3, 1, [x1, x2, x3])\n",
    "    x_hat = sym.Matrix(3, 1, x_init)\n",
    "    r_xl = y - h\n",
    "    J = r_xl.jacobian(X)\n",
    "\n",
    "    delta = 1\n",
    "    min_delta = 1e-4\n",
    "\n",
    "    while (delta > min_delta):\n",
    "        x_hat_l = [\n",
    "            (x1, x_hat[0]),\n",
    "            (x2, x_hat[1]),\n",
    "            (x3, x_hat[2]),\n",
    "        ]\n",
    "        J_l = J.subs(x_hat_l)\n",
    "        r_xhat_l = y - h.subs(x_hat_l)\n",
    "\n",
    "        x_hat_new = x_hat - (J_l.T @ J_l).inv() @ J_l.T @ r_xhat_l\n",
    "        delta = sym.Matrix.norm(x_hat_new - x_hat)\n",
    "        x_hat = x_hat_new\n",
    "\n",
    "    # === END OF YOUR CODE ===\n",
    "\n",
    "    return x_hat"
   ]
  },
  {
   "cell_type": "code",
   "execution_count": 170,
   "metadata": {
    "ExecuteTime": {
     "end_time": "2023-07-11T01:48:30.758126Z",
     "start_time": "2023-07-11T01:48:14.313614Z"
    },
    "pycharm": {
     "is_executing": true
    }
   },
   "outputs": [
    {
     "name": "stdout",
     "output_type": "stream",
     "text": [
      "h:  Matrix([[20353.8008536712*sqrt(2.41384265852573e-9*x2**2 + (1 - 4.9130872763729e-5*x1)**2 + 0.704088191041847*(1 - 5.8551894123463e-5*x3)**2)], [24588.3184880435*sqrt((1 - 4.06697188539456e-5*x1)**2 + 0.0310912041257634*(1 - 0.000230649437145345*x2)**2 + 0.136593117911764*(1 - 0.000110041565681712*x3)**2)], [25768.8164671408*sqrt((1 - 3.8806594058177e-5*x1)**2 + 0.0310912041257634*(1 - 0.000220083131363424*x2)**2 + 0.0320578670997533*(-0.000216739574073904*x3 - 1)**2)]])\n",
      "\n",
      "---\n",
      "GN Solution after using [0 0 0] as initial guess:\n",
      "[4389.90660512  590.01290096 4584.03305667]\n",
      "\n",
      "Distance to true solution: 0.4064\n"
     ]
    }
   ],
   "source": [
    "# First, we create the symbolic variables\n",
    "x1 = sym.symbols(\"x1\")\n",
    "x2 = sym.symbols(\"x2\")\n",
    "x3 = sym.symbols(\"x3\")\n",
    "\n",
    "x = sym.Matrix(3, 1, [x1, x2, x3])\n",
    "\n",
    "# FYI: http://omz-software.com/pythonista/sympy/modules/matrices/matrices.html\n",
    "# if you want a deeper understanding of why lambda functions are used in the def. of h\n",
    "h = [\n",
    "    sym.sqrt(np.sum(sym.Matrix(1, 3, lambda i,j: (cart_coor_p[0,j] - x[j,0])**2).T)),\n",
    "    sym.sqrt(np.sum(sym.Matrix(1, 3, lambda i,j: (cart_coor_p[1,j] - x[j,0])**2).T)),\n",
    "    sym.sqrt(np.sum(sym.Matrix(1, 3, lambda i,j: (cart_coor_p[2,j] - x[j,0])**2).T))\n",
    "]\n",
    "\n",
    "h = sym.Matrix(3, 1, h)\n",
    "# Next, we apply the gauss newton algorithm\n",
    "x_init = np.array([0, 0, 0])\n",
    "x_hat_gn = gauss_newton(d,h,x1,x2,x3,x_init)\n",
    "\n",
    "x_hat_gn = np.reshape(np.array(x_hat_gn), (3,)).astype(float)\n",
    "\n",
    "print(\"\\n---\\nGN Solution after using {} as initial guess:\".format(x_init))\n",
    "print(x_hat_gn)\n",
    "print(\"\\nDistance to true solution: {:.4f}\".format(np.linalg.norm(gt-x_hat_gn)))"
   ]
  },
  {
   "attachments": {},
   "cell_type": "markdown",
   "metadata": {},
   "source": [
    "---\n",
    "### c)\n",
    "Alternatively, use the Bancroft solution to determine the position of the GPS device.\n",
    "\n",
    "Hint: \n",
    "- numpy provides np.roots() to find the roots of a polynomial\n",
    "\n",
    "__Solution (Theory):__\n",
    "$\\newcommand\\vect[1]{\\begin{bmatrix}#1\\end{bmatrix}}$\n",
    "\n",
    "Squared meas. equation:\n",
    "\n",
    "$\n",
    "d_i^2 = ||x - p_i ||^2+ e^*_i$\n",
    "\n",
    "$=  (x_1-p_{i,1})^2  + (x_2-p_{i,2})^2 + e^*_i$\n",
    "\n",
    "$=   -2x_1 p_{i,1}  - 2x_2 p_{i,2}  + ||p_i||^2 +R^2   + e^*_i$\n",
    "\n",
    "with   $R^2:= ||x||^2= (x_1)^2 + (x_2)^2$\n",
    "\n",
    "\n",
    "Linear measurement equation for given $R^2$:\n",
    "$$y =  \\textbf{H}_1 x   + \\textbf{H}_2 R^2 + e^* $$\n",
    "with\n",
    "$$\n",
    "y  =  \\vect{d_1^2 - ||p_1 ||^2 \\\\ \\vdots \\\\ d_m^2 - ||p_m ||^2 } \\enspace, \\enspace   \\textbf{H}_1  =  \\vect{ -2 p_{i,1}  & -2 p_{i,2}      \\\\  \\vdots & \\vdots  \\\\   -2 p_{m,1}  & -2 p_{m,2} } \\enspace , \\enspace  \\textbf{H}_2  =  \\vect{ 1      \\\\  \\vdots \\\\   1}\n",
    "$$\n",
    "\n",
    "\n",
    "\n",
    "Least squares solution for a fixed $R^2$:\n",
    "\n",
    "\\begin{eqnarray*}\n",
    "x^{LS}(R^2)  &=& (\\textbf{H}_1^\\text{T}  \\textbf{H}_1)^{-1} \\textbf{H}_1^\\text{T}  (y- \\textbf{H}_2 R^2) \\\\  \n",
    "                &= &  z_1 + R^2   z_2 \n",
    "\\end{eqnarray*}\n",
    "\n",
    "with $z_1 := (\\textbf{H}_1^\\text{T}  \\textbf{H}_1)^{-1} \\textbf{H}_1^\\text{T} y$ and $z_2:= -(\\textbf{H}_1^\\text{T}  \\textbf{H}_1)^{-1} \\textbf{H}_1^\\text{T}   \\textbf{H}_2 $ \n",
    "\n",
    "\n",
    "What is $R^2$? \n",
    "\n",
    "\\begin{eqnarray*}\n",
    "R^2 &=& ||x^{LS}(R^2)||^2 \\\\\n",
    "    & =&  (z_1 + R^2 z_2)^\\text{T}  \\cdot (z_1 + R^2 z_2)  \n",
    "\\end{eqnarray*}\n",
    "\n",
    "\n",
    "Solve the following quadratic equation for $R^2$:\n",
    "\n",
    "\\begin{equation*}\n",
    "0 = z_1^\\text{T}  z_1  + z_1^\\text{T}  z_2  R^2  + R^2 z_2^\\text{T}  z_1  +  (R^2)^2 z_2^\\text{T}  z_2   -R^2 \n",
    "\\end{equation*}\n"
   ]
  },
  {
   "cell_type": "code",
   "execution_count": 171,
   "metadata": {
    "pycharm": {
     "is_executing": true
    }
   },
   "outputs": [],
   "source": [
    "def bancroft(p, d):\n",
    "    \"\"\"\n",
    "    Calculates the bancroft solution.\n",
    "    :param p: The cartesian coordinates with shape (3x3)\n",
    "    :param d: The distances between satellites and receiver with shape (3,)\n",
    "    :return: x_hat, the position estimate\n",
    "    \"\"\"\n",
    "    # ensure everything is numpy\n",
    "    p = np.array(p)\n",
    "    d = np.array(d)\n",
    "    \n",
    "    # === YOUR CODE HERE ===\n",
    "    \n",
    "    y = d**2 - np.linalg.norm(p, axis=1)**2\n",
    "    H_1 = -2 * p.T\n",
    "    H_2 = np.ones(y.shape[0])\n",
    "\n",
    "    z_1 = np.linalg.inv(H_1.T @ H_1) @ H_1.T @ y\n",
    "    z_2 = -np.linalg.inv(H_1.T @ H_1) @ H_1.T @ H_2\n",
    "    print('z_1: ', z_2.shape)\n",
    "\n",
    "    "
   ]
  },
  {
   "cell_type": "code",
   "execution_count": null,
   "metadata": {},
   "outputs": [],
   "source": [
    ")\n",
    "    \n",
    "    # === END OF YOUR CODE ===\n",
    "    \n",
    "    return x_hat"
   ]
  },
  {
   "cell_type": "code",
   "execution_count": 172,
   "metadata": {
    "pycharm": {
     "is_executing": true
    }
   },
   "outputs": [
    {
     "name": "stdout",
     "output_type": "stream",
     "text": [
      "z_1:  (3,)\n"
     ]
    },
    {
     "ename": "NameError",
     "evalue": "name 'x_hat' is not defined",
     "output_type": "error",
     "traceback": [
      "\u001b[0;31m---------------------------------------------------------------------------\u001b[0m",
      "\u001b[0;31mNameError\u001b[0m                                 Traceback (most recent call last)",
      "Cell \u001b[0;32mIn[172], line 2\u001b[0m\n\u001b[1;32m      1\u001b[0m \u001b[39m# Now, the bancroft solution will be applied to find an estimate\u001b[39;00m\n\u001b[0;32m----> 2\u001b[0m x_hat_b \u001b[39m=\u001b[39m bancroft(cart_coor_p, d)\n\u001b[1;32m      3\u001b[0m \u001b[39mprint\u001b[39m(\u001b[39m\"\u001b[39m\u001b[39mBancroft solution:\u001b[39m\u001b[39m\"\u001b[39m)\n\u001b[1;32m      4\u001b[0m \u001b[39mprint\u001b[39m(x_hat_b)\n",
      "Cell \u001b[0;32mIn[171], line 24\u001b[0m, in \u001b[0;36mbancroft\u001b[0;34m(p, d)\u001b[0m\n\u001b[1;32m     20\u001b[0m \u001b[39mprint\u001b[39m(\u001b[39m'\u001b[39m\u001b[39mz_1: \u001b[39m\u001b[39m'\u001b[39m, z_2\u001b[39m.\u001b[39mshape)\n\u001b[1;32m     22\u001b[0m \u001b[39m# === END OF YOUR CODE ===\u001b[39;00m\n\u001b[0;32m---> 24\u001b[0m \u001b[39mreturn\u001b[39;00m x_hat\n",
      "\u001b[0;31mNameError\u001b[0m: name 'x_hat' is not defined"
     ]
    }
   ],
   "source": [
    "# Now, the bancroft solution will be applied to find an estimate\n",
    "x_hat_b = bancroft(cart_coor_p, d)\n",
    "print(\"Bancroft solution:\")\n",
    "print(x_hat_b)\n",
    "print(\"\\nDistance to true solution: {:.4f}\".format(np.linalg.norm(gt-x_hat_b)))"
   ]
  }
 ],
 "metadata": {
  "kernelspec": {
   "display_name": "Python 3",
   "language": "python",
   "name": "python3"
  },
  "language_info": {
   "codemirror_mode": {
    "name": "ipython",
    "version": 3
   },
   "file_extension": ".py",
   "mimetype": "text/x-python",
   "name": "python",
   "nbconvert_exporter": "python",
   "pygments_lexer": "ipython3",
   "version": "3.11.4"
  }
 },
 "nbformat": 4,
 "nbformat_minor": 4
}
