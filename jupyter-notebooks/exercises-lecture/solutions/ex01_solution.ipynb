{
 "cells": [
  {
   "cell_type": "markdown",
   "metadata": {},
   "source": [
    "# Sensor Data Fusion\n",
    "\n",
    "Lecturer: Prof. Baum \\\n",
    "Tutors: Kolja Thormann \\\n",
    "Semester: Winter 21/22\n",
    "\n",
    "## Homework 1\n",
    "\n",
    "The objective is to estimate the two-dimensional object location $x = [x_1,x_2]^T \\in \\mathbb{R}^2$ using (noise-corrupted) distance measurements $d^i \\in \\mathbb{R}$ to $N$ walls.\n",
    "\n",
    "The location of the i-th wall is given in normal form\n",
    "\n",
    "$$n^i_1 \\cdot x^w_1 + n^i_2 \\cdot x^w_2 = c^i$$\n",
    "\n",
    "Assume $n^i$ points to the half space where the object is located. Given are four walls with corresponding measurements:\n",
    "\n",
    "| $i$ | $n^i_1$ | $n^i_2$ | $c^i$ | distance $d^i$\n",
    "|:------|------|------|------|------:|\n",
    "| 1 | -5 | -1 | -45 | 4.7 |\n",
    "| 2 | -1 | -8 | -70 | 5.2 |\n",
    "| 3 | -1 | 9 | 5 | 5.5 |\n",
    "| 4 | 8 | -1 | 7 | 4.5|"
   ]
  },
  {
   "cell_type": "markdown",
   "metadata": {},
   "source": [
    "---\n",
    "The following tasks will have missing sections marked that you should fill out. \n",
    "\n",
    "Missing code parts are marked by\n",
    "```\n",
    "# ... code code code\n",
    "=== YOUR CODE HERE ===\n",
    "\n",
    "=== END OF YOUR CODE ===\n",
    "# ... code code code\n",
    "```\n",
    "If you are asked to implement a function, make sure to check what variable will be returned by the function and to fill it accordingly. Do not change code outside of the indicated sections.\n",
    "\n",
    "Furthermore, some questions require theoretical answers instead of python code.\n",
    "\n",
    "Such questions will have a field marked like this: \n",
    "\n",
    "=== YOUR ANSWER HERE === "
   ]
  },
  {
   "cell_type": "code",
   "execution_count": 1,
   "metadata": {},
   "outputs": [],
   "source": [
    "# import statements\n",
    "import numpy as np\n",
    "\n",
    "import matplotlib.pyplot as plt"
   ]
  },
  {
   "cell_type": "code",
   "execution_count": 2,
   "metadata": {},
   "outputs": [],
   "source": [
    "# Definitions of variables \n",
    "\n",
    "# define the boundaries for the walls\n",
    "walls = [(-5, -1, -45), \n",
    "         (-1, -8, -70), \n",
    "         (-1, 9, 5), \n",
    "         (8, -1, 7)]\n",
    "\n",
    "# define the distance measurements to the walls\n",
    "distances = [4.7, 5.2, 5.5, 4.5]\n",
    "\n",
    "# define the colors to be used\n",
    "colors = ['r','b','g','y']\n",
    "\n",
    "# make sure everything is numpy\n",
    "walls = np.array(walls)\n",
    "distances = np.array(distances)"
   ]
  },
  {
   "cell_type": "markdown",
   "metadata": {},
   "source": [
    "---\n",
    "### a) \n",
    "Please write a function which visualizes walls and measurements using different colors."
   ]
  },
  {
   "cell_type": "code",
   "execution_count": 3,
   "metadata": {},
   "outputs": [
    {
     "data": {
      "image/png": "[encoded data removed]",
      "text/plain": [
       "<Figure size 432x288 with 1 Axes>"
      ]
     },
     "metadata": {
      "needs_background": "light"
     },
     "output_type": "display_data"
    }
   ],
   "source": [
    "def visualize_walls(wall_coef, distances, colors):\n",
    "    \"\"\"\n",
    "    Function that visualizes the walls and the respective measurements given a set of colors.\n",
    "    :param wall_coef: Should be an nx3 matrix of the coefficients of the walls\n",
    "    :param distances: Should be an nx1 vector of the measurements\n",
    "    :param colors: Should be an nx1 vector of the colors to be used as strings\n",
    "    \"\"\"\n",
    "    \n",
    "    # === YOUR CODE HERE ===\n",
    "    n_walls = len(wall_coef)\n",
    "    \n",
    "    for i in range(n_walls):  # iterate for each wall + measurement\n",
    "        # select current coef., color and distance\n",
    "        n1 = wall_coef[i][0]\n",
    "        n2 = wall_coef[i][1]\n",
    "        c = wall_coef[i][2]\n",
    "        d = distances[i]\n",
    "        \n",
    "        # Calculate wall locations\n",
    "        x1 = np.arange(0, 10, 0.1)  # x-Axis: evenly spaced across the axis\n",
    "        x2 = np.array([(c-n1*x)/n2 for x in x1])  # y-Axis for walls\n",
    "        d_x2 = (np.linalg.norm(np.array([n1, n2])) * d + c - n1*x1)/n2  # y-Axis for measurements\n",
    "        \n",
    "        # Visualize walls and measurements\n",
    "        plt.plot(x1, x2, colors[i])  # Show walls in corresponding color\n",
    "        plt.plot(x1,d_x2, colors[i]+\":\")  # Show measurements in corresponding color and with dotted lines\n",
    "        \n",
    "        # Manually add the numbers 1-4 to the walls to see which measurement is which\n",
    "        plt.annotate(\"w1\", (8.5, 5))\n",
    "        plt.annotate(\"w2\", (5, 8.5))\n",
    "        plt.annotate(\"w3\", (6, 0.5))\n",
    "        plt.annotate(\"w4\", (1, 5))\n",
    "    # === END OF YOUR CODE ===\n",
    "    \n",
    "    plt.xlim((0, 10))\n",
    "    plt.ylim((0, 10))\n",
    "    plt.title(\"Walls and Measurements\")\n",
    "    plt.show()\n",
    "    \n",
    "    \n",
    "visualize_walls(walls, distances, colors)"
   ]
  },
  {
   "cell_type": "markdown",
   "metadata": {},
   "source": [
    "---\n",
    "### b)\n",
    "Formulate a linear measurement equation $y^i = \\mathbf{H}^ix + e^i$, which relates the measurement to the $i$-th wall with $x$ and the error $e^i$. \n",
    "\n",
    "In the same manner, formulate a measurement equation that relates $N$ walls, i.e. the 1-st to $N$-th walls, with $x$ and $e$. Note that the $n^i$ vectors are not normalized."
   ]
  },
  {
   "cell_type": "markdown",
   "metadata": {},
   "source": [
    "===YOUR ANSWER HERE===\n",
    "\n",
    "\n",
    "The distance $d^i$ to wall $i$:\n",
    "$$\n",
    "d^i=\\frac{n_1^ix_1+n_2^ix_2-c^i}{\\sqrt{(n_1^i)^2+(n_2^i)^2}}+e^i\\\\\n",
    "d^i\\sqrt{(n_1^i)^2+(n_2^i)^2}+c^i=n_1^ix_1+n_2^ix_2+e^i\\\\\n",
    "\\underbrace{d^i\\sqrt{(n_1^i)^2+(n_2^i)^2}+c^i}_{y^i}=\\underbrace{\\begin{bmatrix}n_1 & n_2\\end{bmatrix}}_{\\textbf{H}^i}\\underbrace{\\begin{bmatrix}x_1\\\\x_2\\end{bmatrix}}_{\\vec{x}}+e^i\n",
    "$$\n",
    "\n",
    "Distances to $N$ Walls:\n",
    "\n",
    "$$\n",
    "\\underbrace{\\begin{bmatrix}d^1\\sqrt{(n_1^1)^2+(n_2^1)^2}+c^1\\\\\\vdots\\\\d^i\\sqrt{(n_1^i)^2+(n_2^i)^2}+c^i\\\\\\vdots\\\\d^N\\sqrt{(n_1^N)^2+(n_2^N)^2}+c^N\\end{bmatrix}}_{\\vec{y}}=\\underbrace{\\begin{bmatrix}n_1^1 & n_2^1\\\\\\vdots & \\vdots\\\\n_1^i & n_2^i\\\\\\vdots & \\vdots\\\\n_1^N & n_2^N\\end{bmatrix}}_{\\textbf{H}}\\underbrace{\\begin{bmatrix}x_1\\\\x_2\\end{bmatrix}}_{\\vec{x}}+\\underbrace{\\begin{bmatrix}e^1\\\\\\vdots\\\\e^i\\\\\\vdots\\\\e^N\\end{bmatrix}}_{\\vec{e}}\n",
    "$$"
   ]
  },
  {
   "cell_type": "markdown",
   "metadata": {},
   "source": [
    "---\n",
    "### c) \n",
    "Could you calculate the unique location for the first case in 1b), if not, please explain. If a unique location could be obtained, which requirements are needed?"
   ]
  },
  {
   "cell_type": "markdown",
   "metadata": {},
   "source": [
    "===YOUR ANSWER HERE===\n",
    "\n",
    "It is not possible to get an exact solution because we have 2 unknowns and only 1 formula. The exact solution can be calculated if $rank(\\textbf{H})=2$."
   ]
  },
  {
   "cell_type": "markdown",
   "metadata": {},
   "source": [
    "---\n",
    "### d)\n",
    "Based on the measurement equation formulated in 1b), write a function which calculates the least squares solutions based on the measurements. Using the function you implemented, calculate the least squares solutions $\\hat{x}_{12}$, $\\hat{x}_{34}$ and $\\hat{x}_{1234}$ based on the measurements $(y_1,y_2)$, $(y_3,y_4)$ as well as $(y_1,y_2,y_3,y_4)$."
   ]
  },
  {
   "cell_type": "code",
   "execution_count": 4,
   "metadata": {},
   "outputs": [],
   "source": [
    "def localization_ls(wall_coef, d):\n",
    "    \"\"\"\n",
    "    Based on an nx3 matrix of wall coefficients together with an nx1 vector of distance measurements, this function \n",
    "    calculates the least square estimate.\n",
    "    \n",
    "    :param wall_coef: nx3 matrix of wall coefficients\n",
    "    :param d: nx1 matrix of distance measurements\n",
    "    :return: the least squares estimate\n",
    "    \"\"\"\n",
    "    # Ensure that everything is numpy\n",
    "    wall_coef = np.array(wall_coef)\n",
    "    d = np.array(d)\n",
    "    \n",
    "    # === YOUR CODE HERE ===\n",
    "    # Determine H from the wall coefficient\n",
    "    H = wall_coef[:,0:2]\n",
    "    \n",
    "    # Init y (empty)\n",
    "    nr_walls = wall_coef.shape[0]\n",
    "    y = np.zeros(nr_walls)\n",
    "    \n",
    "    # Fill y wall-by-wall\n",
    "    for i in range(nr_walls):\n",
    "        n1 = wall_coef[i][0]\n",
    "        n2 = wall_coef[i][1]\n",
    "        c = wall_coef[i][2] \n",
    "        y[i] = d[i] * np.linalg.norm(np.array([n1, n2])) + c\n",
    "    \n",
    "    # Apply Least Squares\n",
    "    # xLS = (HT*H)^-1*HT*y\n",
    "    x_ls = (np.linalg.inv(np.dot(H.T, H)))\n",
    "    x_ls = np.dot(x_ls, H.T)\n",
    "    x_ls = np.dot(x_ls, y)\n",
    "    \n",
    "    # === END OF YOU CODE ===\n",
    "    \n",
    "    return x_ls"
   ]
  },
  {
   "cell_type": "code",
   "execution_count": 5,
   "metadata": {},
   "outputs": [
    {
     "name": "stdout",
     "output_type": "stream",
     "text": [
      "Estimate using walls 1+2: 3.5948873482067634 | 3.0601715450800984\n",
      "Estimate using walls 3+4: 6.258113479800663 | 6.7847479710618295\n",
      "Estimate using all walls: 4.8807170682595284 | 4.86482284830198\n"
     ]
    }
   ],
   "source": [
    "# Now, localization_ls will be used to calculate the measurements based on the first two, the last two, and all 4 walls\n",
    "x_12 = localization_ls(walls[0:2, :], distances[0:2])\n",
    "x_34 = localization_ls(walls[2:4, :], distances[2:4])\n",
    "x_1234 = localization_ls(walls, distances)\n",
    "\n",
    "print(\"Estimate using walls 1+2:\",x_12[0],\"|\",x_12[1])\n",
    "print(\"Estimate using walls 3+4:\",x_34[0],\"|\",x_34[1])\n",
    "print(\"Estimate using all walls:\",x_1234[0],\"|\",x_1234[1])"
   ]
  },
  {
   "cell_type": "markdown",
   "metadata": {},
   "source": [
    "---\n",
    "### e) \n",
    "Given the true location $x$, implement a function which calculates the estimation error $e$ using Euclidean Norm, e.g.\n",
    "\n",
    "$e_{12} = ||\\hat{x}_{12}-x||$ \n",
    "\n",
    "$e_{34} = ||\\hat{x}_{34}-x||$ \n",
    "\n",
    "$e_{1234} = ||\\hat{x}_{1234}-x||$\n",
    "\n",
    "Assuming the true location $x = [5, 5]^T$, calculate $e_{12}$,$e_{34}$ and $e_{1234}$. What can you observe?"
   ]
  },
  {
   "cell_type": "code",
   "execution_count": 6,
   "metadata": {},
   "outputs": [],
   "source": [
    "def estimation_error(x, x_esti):\n",
    "    \"\"\"\n",
    "    Given a true location and an estimation for the location, calculates the error of the measurement and returns it.\n",
    "    :param x: True location as 2x1 vector\n",
    "    :param x_esti: Estimated location as 2x1 vector\n",
    "    :return: err, the estimation error as a scalar\n",
    "    \"\"\"\n",
    "    # ensure everything is numpy\n",
    "    x = np.array(x)\n",
    "    x_esti = np.array(x_esti)\n",
    "    \n",
    "    # === YOUR CODE HERE ===\n",
    "    \n",
    "    err = np.linalg.norm(x-x_esti)\n",
    "    \n",
    "    # === END OF YOUR CODE ===\n",
    "    \n",
    "    return err"
   ]
  },
  {
   "cell_type": "markdown",
   "metadata": {},
   "source": [
    "Now, the calculated location will be visualized, and the calculated errors will be printed out:"
   ]
  },
  {
   "cell_type": "code",
   "execution_count": 7,
   "metadata": {},
   "outputs": [
    {
     "data": {
      "image/png": "[encoded data removed]",
      "text/plain": [
       "<Figure size 432x288 with 1 Axes>"
      ]
     },
     "metadata": {
      "needs_background": "light"
     },
     "output_type": "display_data"
    },
    {
     "name": "stdout",
     "output_type": "stream",
     "text": [
      "Error using walls 1+2: 2.3952611546022187\n",
      "Error using walls 3+4: 2.183615087020936\n",
      "Error using all walls: 0.1802811142238463\n"
     ]
    }
   ],
   "source": [
    "# Define true location x\n",
    "x = np.array([5,5])\n",
    "\n",
    "# Visualize the calculated locations\n",
    "plt.scatter(x_12[0], x_12[1], c='k', marker=\"o\")\n",
    "plt.scatter(x_34[0], x_34[1], c='k', marker=\"o\")\n",
    "plt.scatter(x_1234[0], x_1234[1], c='k', marker=\"o\")\n",
    "plt.scatter(x[0], x[1], c='purple', marker=\"X\", s=100, alpha=0.5)\n",
    "\n",
    "# Add annotations for easier understanding (shifted so they can be read easier)\n",
    "plt.annotate(\"x_12\", x_12-0.65) \n",
    "plt.annotate(\"x_34\", x_34+0.3)\n",
    "plt.annotate(\"x_1234\", x_1234-0.7)\n",
    "plt.annotate(\"x_true\", x+[0, 0.5], c=\"purple\")\n",
    "\n",
    "# Add the walls, which also shows the plot\n",
    "visualize_walls(walls, distances, colors)\n",
    "\n",
    "# Print errors\n",
    "e_12 = estimation_error(x,x_12)\n",
    "e_34 = estimation_error(x,x_34)\n",
    "e_1234 = estimation_error(x,x_1234)\n",
    "\n",
    "print(\"Error using walls 1+2:\",e_12)\n",
    "print(\"Error using walls 3+4:\",e_34)\n",
    "print(\"Error using all walls:\",e_1234)"
   ]
  },
  {
   "cell_type": "markdown",
   "metadata": {},
   "source": [
    "What can you observe?"
   ]
  },
  {
   "cell_type": "markdown",
   "metadata": {},
   "source": [
    "=== YOUR ANSWER HERE ===\n",
    "\n",
    "Incorporating more measurement improves the result."
   ]
  }
 ],
 "metadata": {
  "kernelspec": {
   "display_name": "Python 3",
   "language": "python",
   "name": "python3"
  },
  "language_info": {
   "codemirror_mode": {
    "name": "ipython",
    "version": 3
   },
   "file_extension": ".py",
   "mimetype": "text/x-python",
   "name": "python",
   "nbconvert_exporter": "python",
   "pygments_lexer": "ipython3",
   "version": "3.9.2"
  },
  "toc": {
   "base_numbering": 1,
   "nav_menu": {},
   "number_sections": true,
   "sideBar": true,
   "skip_h1_title": false,
   "title_cell": "Table of Contents",
   "title_sidebar": "Contents",
   "toc_cell": false,
   "toc_position": {},
   "toc_section_display": true,
   "toc_window_display": false
  }
 },
 "nbformat": 4,
 "nbformat_minor": 4
}
